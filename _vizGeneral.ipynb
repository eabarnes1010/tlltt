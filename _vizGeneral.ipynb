{
 "cells": [
  {
   "cell_type": "markdown",
   "id": "80f6a48b-bab3-4333-abf3-07711e94b616",
   "metadata": {},
   "source": [
    "# This Looks Like That There\n",
    "General plots for the paper."
   ]
  },
  {
   "cell_type": "code",
   "execution_count": 1,
   "id": "36bf3dd4-d4af-4c8c-89f6-67097628c3e8",
   "metadata": {},
   "outputs": [],
   "source": [
    "import os\n",
    "import sys\n",
    "import imp \n",
    "\n",
    "import numpy as np\n",
    "from tqdm import tqdm\n",
    "from tqdm import trange\n",
    "from icecream import ic          # pip install icecream\n",
    "import scipy.io as sio\n",
    "\n",
    "import matplotlib.pyplot as plt\n",
    "import matplotlib as mpl\n",
    "import seaborn as sns\n",
    "import cmasher as cmr            # pip install cmasher\n",
    "\n",
    "import cartopy as ct\n",
    "\n",
    "import tensorflow as tf\n",
    "\n",
    "import network\n",
    "import experiment_settings \n",
    "import data_functions\n",
    "import push_prototypes\n",
    "import plots\n",
    "import common_functions\n",
    "\n",
    "import warnings\n",
    "warnings.filterwarnings( \"ignore\", module = \"cartopy\\..*\" )\n",
    "warnings.filterwarnings( \"ignore\", module = \"matplotlib\\..*\" )"
   ]
  },
  {
   "cell_type": "code",
   "execution_count": 2,
   "id": "54e0dba3-9a8a-4d45-b00b-7aaface5fe2c",
   "metadata": {},
   "outputs": [],
   "source": [
    "__author__ = \"Elizabeth A. Barnes and Randal J Barnes\"\n",
    "__version__ = \"24 November 2021\""
   ]
  },
  {
   "cell_type": "code",
   "execution_count": 3,
   "id": "18825d5a-a951-4a29-8dbd-1b1956974b6a",
   "metadata": {},
   "outputs": [],
   "source": [
    "mpl.rcParams['figure.facecolor'] = 'white'\n",
    "mpl.rcParams['figure.dpi']= 150\n",
    "dpiFig = 400."
   ]
  },
  {
   "cell_type": "markdown",
   "id": "1ce58c40-dd37-43ea-9ad3-6d6b56b7d166",
   "metadata": {},
   "source": [
    "## Print the detailed system info"
   ]
  },
  {
   "cell_type": "code",
   "execution_count": 4,
   "id": "2e923341-795f-428a-b5bf-d8cafdce1bcf",
   "metadata": {},
   "outputs": [
    {
     "name": "stdout",
     "output_type": "stream",
     "text": [
      "python version = 3.9.10 | packaged by conda-forge | (main, Feb  1 2022, 21:27:43) \n",
      "[Clang 11.1.0 ]\n",
      "numpy version = 1.22.2\n",
      "tensorflow version = 2.7.0\n"
     ]
    }
   ],
   "source": [
    "print(f\"python version = {sys.version}\")\n",
    "print(f\"numpy version = {np.__version__}\")\n",
    "print(f\"tensorflow version = {tf.__version__}\")"
   ]
  },
  {
   "cell_type": "markdown",
   "id": "df9a01c1-9474-4757-8ed3-b4851b636af4",
   "metadata": {},
   "source": [
    "## Define experiment settings and directories"
   ]
  },
  {
   "cell_type": "code",
   "execution_count": 5,
   "id": "f23ecf9b-652f-4588-87e9-88e0915b37ae",
   "metadata": {},
   "outputs": [],
   "source": [
    "EXP_NAME = 'mjo_seed31'#'mjo'#'quadrants'\n",
    "\n",
    "imp.reload(experiment_settings)\n",
    "settings = experiment_settings.get_settings(EXP_NAME)\n",
    "\n",
    "imp.reload(common_functions)\n",
    "model_dir, model_diagnostics_dir, vizualization_dir = common_functions.get_exp_directories(EXP_NAME)\n"
   ]
  },
  {
   "cell_type": "markdown",
   "id": "7c333c24-ae7d-43d3-bc87-09fc8e7d8e89",
   "metadata": {},
   "source": [
    "## Define the network parameters"
   ]
  },
  {
   "cell_type": "code",
   "execution_count": 6,
   "id": "3005d411-649b-484a-8c3e-fc23500e11a8",
   "metadata": {},
   "outputs": [],
   "source": [
    "RANDOM_SEED          = settings['random_seed']\n",
    "BATCH_SIZE_PREDICT   = settings['batch_size_predict']\n",
    "BATCH_SIZE           = settings['batch_size']\n",
    "NLAYERS              = settings['nlayers']\n",
    "NFILTERS             = settings['nfilters']   \n",
    "DOUBLE_CONV          = settings['double_conv']   \n",
    "assert(len(NFILTERS)==NLAYERS)\n",
    "\n",
    "NCLASSES             = settings['nclasses']\n",
    "PROTOTYPES_PER_CLASS = settings['prototypes_per_class']\n",
    "NPROTOTYPES          = np.sum(PROTOTYPES_PER_CLASS)\n",
    "\n",
    "NEPOCHS              = settings['nepochs']\n",
    "LR_INIT              = settings['lr']\n",
    "LR_EPOCH_BOUND       = 10000\n",
    "PATIENCE             = 100"
   ]
  },
  {
   "cell_type": "markdown",
   "id": "e8ab2e28-c92f-4c2d-a5d2-96dcfd9625a3",
   "metadata": {},
   "source": [
    "## Initialize"
   ]
  },
  {
   "cell_type": "code",
   "execution_count": 7,
   "id": "eb857807-8efc-485b-8be6-29751f6a4e96",
   "metadata": {},
   "outputs": [],
   "source": [
    "np.random.seed(RANDOM_SEED)\n",
    "rng = np.random.default_rng(RANDOM_SEED)\n",
    "tf.random.set_seed(RANDOM_SEED)"
   ]
  },
  {
   "cell_type": "markdown",
   "id": "521a7140-1796-429f-ad34-1ff25ecca436",
   "metadata": {},
   "source": [
    "## Get and process the data"
   ]
  },
  {
   "cell_type": "code",
   "execution_count": 8,
   "id": "cc5e0d1f-f892-46f8-a957-c4cf046ab215",
   "metadata": {},
   "outputs": [
    {
     "name": "stdout",
     "output_type": "stream",
     "text": [
      "[0 1 2 3 4 5 6 7 8]\n"
     ]
    },
    {
     "name": "stderr",
     "output_type": "stream",
     "text": [
      "ic| years_train: array([1913, 1974, 1964, 1939, 1937, 2009, 1995, 1900, 1963, 1977, 1903,\n",
      "                        1989, 1980, 1908, 1917, 1990, 2003, 1969, 1948, 1907, 1934, 1936,\n",
      "                        1945, 1938, 1973, 1921, 1902, 1914, 1933, 1915, 1920, 1950, 1955,\n",
      "                        1922, 1947, 1959, 1997, 1986, 1919, 1968, 1978, 1930, 1967, 1960,\n",
      "                        2008, 1943, 2000, 1994, 1904, 1909, 1953, 1966, 1905, 1929, 1940,\n",
      "                        1962, 1951, 1956, 1971, 1976, 1961, 1926, 1988, 2001, 1991, 1935,\n",
      "                        1972, 1983, 1911, 1932, 2007, 1985, 1970, 1912, 1999, 1957, 1941,\n",
      "                        1979, 1901, 1949, 2005, 1952, 1927, 1965, 1931, 1924, 1996, 1954,\n",
      "                        1975])\n",
      "ic| years_val: array([1906, 1910, 1916, 1918, 1923, 1925, 1928, 1942, 1944, 1946, 1958,\n",
      "                      1981, 1982, 1984, 1987, 1992, 1993, 1998, 2002, 2004, 2006, 2010])\n",
      "ic| years_test: 2010\n"
     ]
    },
    {
     "name": "stdout",
     "output_type": "stream",
     "text": [
      "raw_data        = (40422, 17, 105, 3)\n",
      "training data   = (32386, 17, 105, 3), (32386,)\n",
      "validation data = (8036, 17, 105, 3), (8036,)\n",
      "test data       = (365, 17, 105, 3), (365,)\n",
      "X_mean          = 8.5851261398093e-05\n",
      "X_std           = 1.0271019585696342\n"
     ]
    }
   ],
   "source": [
    "imp.reload(data_functions)\n",
    "DATA_NAME = settings['data_name']\n",
    "DATA_DIR  = settings['data_dir']\n",
    "STAGE     = settings['analyze_stage']\n",
    "\n",
    "if(EXP_NAME[:3]=='mjo'):\n",
    "\n",
    "    labels, data, lat, lon, time = data_functions.load_mjo_data(DATA_DIR)\n",
    "    X_train, y_train, time_train, X_val, y_val, time_val, X_test, y_test, time_test = data_functions.get_and_process_mjo_data(labels,\n",
    "                                                                                         data,\n",
    "                                                                                         time,\n",
    "                                                                                         rng, \n",
    "                                                                                         colored=settings['colored'],\n",
    "                                                                                         standardize=settings['standardize'],\n",
    "                                                                                         shuffle=settings['shuffle'],\n",
    "                                                                                        )        \n",
    "elif(EXP_NAME[:9]=='quadrants'):\n",
    "    filename = DATA_DIR + DATA_NAME + '.mat'\n",
    "    X_train, y_train, X_val, y_val, X_test, y_test, lat, lon = data_functions.get_and_process_data(filename, \n",
    "                                                                                        rng, \n",
    "                                                                                        colored=settings['colored'],\n",
    "                                                                                        standardize=settings['standardize'],\n",
    "                                                                                        shuffle=settings['shuffle'],\n",
    "                                                                                        )      \n",
    "    "
   ]
  },
  {
   "cell_type": "code",
   "execution_count": 9,
   "id": "677765ba-0ddd-4fb6-a893-d1f90a00f969",
   "metadata": {},
   "outputs": [],
   "source": [
    "### for white background...\n",
    "plt.rc('text',usetex=True)\n",
    "plt.rc('font',**{'family':'sans-serif','sans-serif':['Avant Garde']}) \n",
    "plt.rc('savefig',facecolor='white')\n",
    "plt.rc('axes',facecolor='white')\n",
    "plt.rc('axes',labelcolor='dimgrey')\n",
    "plt.rc('axes',labelcolor='dimgrey')\n",
    "plt.rc('xtick',color='dimgrey')\n",
    "plt.rc('ytick',color='dimgrey')\n",
    "################################  \n",
    "################################  \n",
    "def adjust_spines(ax, spines):\n",
    "    for loc, spine in ax.spines.items():\n",
    "        if loc in spines:\n",
    "            spine.set_position(('outward', 5))\n",
    "        else:\n",
    "            spine.set_color('none')  \n",
    "    if 'left' in spines:\n",
    "        ax.yaxis.set_ticks_position('left')\n",
    "    else:\n",
    "        ax.yaxis.set_ticks([])\n",
    "    if 'bottom' in spines:\n",
    "        ax.xaxis.set_ticks_position('bottom')\n",
    "    else:\n",
    "            ax.xaxis.set_ticks([]) \n",
    "            \n",
    "# adjust_spines(ax, ['left', 'bottom'])\n",
    "# ax.spines['top'].set_color('none')\n",
    "# ax.spines['right'].set_color('none')\n",
    "# ax.spines['left'].set_color('dimgrey')\n",
    "# ax.spines['bottom'].set_color('dimgrey')\n",
    "# ax.spines['left'].set_linewidth(2)\n",
    "# ax.spines['bottom'].set_linewidth(2)            "
   ]
  },
  {
   "cell_type": "code",
   "execution_count": 10,
   "id": "f41a4bcb-f247-4848-a562-44cfbe05e141",
   "metadata": {},
   "outputs": [],
   "source": [
    "# raise ValueError('here')"
   ]
  },
  {
   "cell_type": "markdown",
   "id": "a00ae67e-8c5d-494a-bb38-1b378b40db50",
   "metadata": {},
   "source": [
    "## QUADRANTS"
   ]
  },
  {
   "cell_type": "code",
   "execution_count": 11,
   "id": "27f33cad-a750-4b4d-8df5-b3c3a3309750",
   "metadata": {},
   "outputs": [
    {
     "name": "stdout",
     "output_type": "stream",
     "text": [
      "5829\n",
      "3835\n",
      "4942\n"
     ]
    }
   ],
   "source": [
    "i = np.where([y_train==0])[0]\n",
    "j = np.where([y_val==0])[0]\n",
    "print(len(i)+len(j))\n",
    "\n",
    "i = np.where(y_train==1)[0]\n",
    "j = np.where([y_val==1])[0]\n",
    "print(len(i)+len(j))\n",
    "\n",
    "i = np.where(y_train==2)[0]\n",
    "j = np.where([y_val==2])[0]\n",
    "print(len(i)+len(j))\n"
   ]
  },
  {
   "cell_type": "code",
   "execution_count": 12,
   "id": "c1378b55-3e73-4b40-abaf-ad8d1dd14e03",
   "metadata": {},
   "outputs": [],
   "source": [
    "if EXP_NAME[:9] == 'quadrants':\n",
    "#     sample_num = (23,209,472)\n",
    "    sample_num = (230,78,153)\n",
    "\n",
    "    plt.figure(figsize=(15,10))\n",
    "    ax = plt.gca()\n",
    "\n",
    "    for label in (0,1,2):\n",
    "        for example in (0,1):\n",
    "            index = np.where(y_train==label)[0]\n",
    "            if example==0:\n",
    "                letters = ('(a)','(b)','(c)')\n",
    "                plot_data = np.mean(X_train[index,:,:,0],axis=0)\n",
    "                title = letters[label] + ' Composite of class = ' + str(label)\n",
    "            else:\n",
    "                letters = ('(d)','(e)','(f)')            \n",
    "                plot_data = X_val[sample_num[label],:,:,0]\n",
    "                title = letters[label] + ' Sample ' + str(sample_num[label]) + ', class = ' + str(label)\n",
    "\n",
    "            plt.subplot(2,3,(label+1)+3*example,aspect='equal')\n",
    "            p=plt.contourf(plot_data, levels = np.arange(-10., 10.25, .25), cmap='cmr.fusion_r')\n",
    "            p.set_clim(-10,10)\n",
    "            plt.title(title, fontsize=20)\n",
    "            plt.xticks([])\n",
    "            plt.yticks([])\n",
    "\n",
    "    plt.tight_layout() \n",
    "    plt.savefig((vizualization_dir + EXP_NAME + '_composites_examples_of_classes.png'), dpi=dpiFig)\n",
    "    plt.show()    "
   ]
  },
  {
   "cell_type": "markdown",
   "id": "5eb8edff-9ac2-43d8-bb6e-c79fee6b34d5",
   "metadata": {},
   "source": [
    "## MJO"
   ]
  },
  {
   "cell_type": "code",
   "execution_count": 13,
   "id": "d5d97324-e3e4-45b1-a50b-1710d0728ea9",
   "metadata": {},
   "outputs": [
    {
     "name": "stderr",
     "output_type": "stream",
     "text": [
      "/var/folders/4v/ts3652896rl6syn3f_jmnsvh0001zl/T/ipykernel_16845/1062505485.py:8: FutureWarning: The frame.append method is deprecated and will be removed from pandas in a future version. Use pandas.concat instead.\n",
      "  df = df.append(df_val,ignore_index=True)\n"
     ]
    },
    {
     "data": {
      "image/png": "[encoded data removed]",
      "text/plain": [
       "<Figure size 900x600 with 1 Axes>"
      ]
     },
     "metadata": {},
     "output_type": "display_data"
    }
   ],
   "source": [
    "if EXP_NAME[:3] == 'mjo':\n",
    "    import pandas as pd\n",
    "    df = []\n",
    "    df_val = []\n",
    "\n",
    "    df = pd.DataFrame(data={'phase': y_train, 'Split':'training'})\n",
    "    df_val = pd.DataFrame(data={'phase': y_val, 'Split':'testing'})\n",
    "    df = df.append(df_val,ignore_index=True)\n",
    "\n",
    "    plt.figure()\n",
    "    g = sns.histplot(data=df, x=\"phase\", hue=\"Split\", \n",
    "                 multiple=\"dodge\", \n",
    "                 stat='count',\n",
    "                 bins=np.arange(-.5,10.5),\n",
    "                 discrete=True,\n",
    "                 shrink=.8,\n",
    "                 legend=True,\n",
    "                )\n",
    "    plt.ylim(0,5500)\n",
    "    plt.xticks(np.arange(0,9),np.arange(0,9))\n",
    "    plt.yticks(np.arange(0,6000,1000),np.arange(0,6000,1000))\n",
    "    plt.title('MJO Samples by Label')\n",
    "\n",
    "    plt.tight_layout() \n",
    "    plt.savefig((vizualization_dir + EXP_NAME + '_sample_counts_split.png'), dpi=dpiFig)\n",
    "    plt.show()    "
   ]
  },
  {
   "cell_type": "code",
   "execution_count": null,
   "id": "6e17baff-347b-4493-826e-37b1126a5bd3",
   "metadata": {},
   "outputs": [],
   "source": []
  }
 ],
 "metadata": {
  "kernelspec": {
   "display_name": "Python 3 (ipykernel)",
   "language": "python",
   "name": "python3"
  },
  "language_info": {
   "codemirror_mode": {
    "name": "ipython",
    "version": 3
   },
   "file_extension": ".py",
   "mimetype": "text/x-python",
   "name": "python",
   "nbconvert_exporter": "python",
   "pygments_lexer": "ipython3",
   "version": "3.9.10"
  }
 },
 "nbformat": 4,
 "nbformat_minor": 5
}
