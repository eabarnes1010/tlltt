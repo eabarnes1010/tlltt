{
 "cells": [
  {
   "cell_type": "markdown",
   "id": "80f6a48b-bab3-4333-abf3-07711e94b616",
   "metadata": {},
   "source": [
    "# This Looks Like That in Tensorflow\n",
    "\n",
    "Useful Files and Links\n",
    "- Chen et al. (2019)\n",
    "- https://github.com/cfchen-duke/ProtoPNet"
   ]
  },
  {
   "cell_type": "code",
   "execution_count": 1,
   "id": "36bf3dd4-d4af-4c8c-89f6-67097628c3e8",
   "metadata": {},
   "outputs": [],
   "source": [
    "import os\n",
    "import sys\n",
    "import imp \n",
    "\n",
    "import numpy as np\n",
    "from tqdm import tqdm\n",
    "from tqdm import trange\n",
    "from icecream import ic          # pip install icecream\n",
    "import scipy.io as sio\n",
    "\n",
    "\n",
    "import matplotlib.pyplot as plt\n",
    "import matplotlib.gridspec as gridspec\n",
    "import matplotlib as mpl\n",
    "import seaborn as sns\n",
    "import cmasher as cmr            # pip install cmasher\n",
    "\n",
    "import cartopy as ct\n",
    "\n",
    "import tensorflow as tf\n",
    "\n",
    "import network\n",
    "import experiment_settings \n",
    "import data_functions\n",
    "import push_prototypes\n",
    "import plots\n",
    "import common_functions\n",
    "\n",
    "import warnings\n",
    "warnings.filterwarnings( \"ignore\", module = \"cartopy\\..*\" )\n",
    "warnings.filterwarnings( \"ignore\", module = \"matplotlib\\..*\" )"
   ]
  },
  {
   "cell_type": "code",
   "execution_count": 2,
   "id": "54e0dba3-9a8a-4d45-b00b-7aaface5fe2c",
   "metadata": {},
   "outputs": [],
   "source": [
    "__author__ = \"Elizabeth A. Barnes and Randal J Barnes\"\n",
    "__version__ = \"24 August 2021\""
   ]
  },
  {
   "cell_type": "code",
   "execution_count": 3,
   "id": "18825d5a-a951-4a29-8dbd-1b1956974b6a",
   "metadata": {},
   "outputs": [],
   "source": [
    "mpl.rcParams['figure.facecolor'] = 'white'\n",
    "mpl.rcParams['figure.dpi']= 150\n",
    "dpiFig = 400."
   ]
  },
  {
   "cell_type": "markdown",
   "id": "1ce58c40-dd37-43ea-9ad3-6d6b56b7d166",
   "metadata": {},
   "source": [
    "## Print the detailed system info"
   ]
  },
  {
   "cell_type": "code",
   "execution_count": 4,
   "id": "2e923341-795f-428a-b5bf-d8cafdce1bcf",
   "metadata": {},
   "outputs": [
    {
     "name": "stdout",
     "output_type": "stream",
     "text": [
      "python version = 3.9.4 (default, Apr  9 2021, 09:32:38) \n",
      "[Clang 10.0.0 ]\n",
      "numpy version = 1.20.1\n",
      "tensorflow version = 2.5.0\n"
     ]
    }
   ],
   "source": [
    "print(f\"python version = {sys.version}\")\n",
    "print(f\"numpy version = {np.__version__}\")\n",
    "print(f\"tensorflow version = {tf.__version__}\")"
   ]
  },
  {
   "cell_type": "markdown",
   "id": "df9a01c1-9474-4757-8ed3-b4851b636af4",
   "metadata": {},
   "source": [
    "## Define experiment settings and directories"
   ]
  },
  {
   "cell_type": "code",
   "execution_count": 5,
   "id": "f23ecf9b-652f-4588-87e9-88e0915b37ae",
   "metadata": {},
   "outputs": [],
   "source": [
    "# EXP_NAME = 'quadrants_nol1l2'\n",
    "EXP_NAME = 'mjo_hemi_10E_270E_nol1l2'\n",
    "\n",
    "imp.reload(experiment_settings)\n",
    "settings = experiment_settings.get_settings(EXP_NAME)\n",
    "\n",
    "imp.reload(common_functions)\n",
    "model_dir, model_diagnostics_dir, vizualization_dir = common_functions.get_exp_directories(EXP_NAME)\n",
    "vizualization_dir = '/Users/eabarnes/GoogleDrive/WORK/RESEARCH/2021/thisLooksLikeThat/TLLT-clean/figures/final/'"
   ]
  },
  {
   "cell_type": "markdown",
   "id": "7c333c24-ae7d-43d3-bc87-09fc8e7d8e89",
   "metadata": {},
   "source": [
    "## Define the network parameters"
   ]
  },
  {
   "cell_type": "code",
   "execution_count": 6,
   "id": "3005d411-649b-484a-8c3e-fc23500e11a8",
   "metadata": {},
   "outputs": [],
   "source": [
    "RANDOM_SEED          = settings['random_seed']\n",
    "BATCH_SIZE_PREDICT   = settings['batch_size_predict']\n",
    "BATCH_SIZE           = settings['batch_size']\n",
    "NLAYERS              = settings['nlayers']\n",
    "NFILTERS             = settings['nfilters']   \n",
    "DOUBLE_CONV          = settings['double_conv']   \n",
    "assert(len(NFILTERS)==NLAYERS)\n",
    "\n",
    "NCLASSES             = settings['nclasses']\n",
    "PROTOTYPES_PER_CLASS = settings['prototypes_per_class']\n",
    "NPROTOTYPES          = np.sum(PROTOTYPES_PER_CLASS)\n",
    "\n",
    "NEPOCHS              = settings['nepochs']\n",
    "LR_INIT              = settings['lr']\n",
    "LR_EPOCH_BOUND       = 10000\n",
    "PATIENCE             = 100\n",
    "\n",
    "STAGE                = settings['analyze_stage']"
   ]
  },
  {
   "cell_type": "markdown",
   "id": "e8ab2e28-c92f-4c2d-a5d2-96dcfd9625a3",
   "metadata": {},
   "source": [
    "## Initialize"
   ]
  },
  {
   "cell_type": "code",
   "execution_count": 7,
   "id": "eb857807-8efc-485b-8be6-29751f6a4e96",
   "metadata": {},
   "outputs": [],
   "source": [
    "np.random.seed(RANDOM_SEED)\n",
    "rng = np.random.default_rng(RANDOM_SEED)\n",
    "tf.random.set_seed(RANDOM_SEED)"
   ]
  },
  {
   "cell_type": "markdown",
   "id": "521a7140-1796-429f-ad34-1ff25ecca436",
   "metadata": {},
   "source": [
    "## Get and process the data"
   ]
  },
  {
   "cell_type": "code",
   "execution_count": 8,
   "id": "cc5e0d1f-f892-46f8-a957-c4cf046ab215",
   "metadata": {},
   "outputs": [
    {
     "name": "stdout",
     "output_type": "stream",
     "text": [
      "[0 1 2 3 4 5 6 7 8]\n"
     ]
    },
    {
     "name": "stderr",
     "output_type": "stream",
     "text": [
      "ic| years_train: array([1901, 1900, 1979, 1908, 2004, 1920, 1932, 1951, 1985, 1924, 1956,\n",
      "                        1952, 2000, 1996, 1938, 1991, 1973, 1921, 1960, 1977, 1982, 1969,\n",
      "                        1994, 1988, 1998, 1978, 1970, 2003, 2002, 1963, 1997, 1931, 1910,\n",
      "                        1993, 1904, 1942, 1981, 1967, 1966, 1983, 1989, 2006, 1974, 1984,\n",
      "                        1980, 1943, 1934, 1971, 1929, 1930, 1919, 1986, 1914, 1959, 1926,\n",
      "                        1999, 1905, 1975, 1948, 1954, 1925, 1940, 1922, 1936, 1968, 1947,\n",
      "                        1990, 1909, 1939, 1972, 2009, 1944, 1957, 1958, 1928, 1955, 1933,\n",
      "                        1950, 1913, 2005, 1915, 1911, 1987, 1964, 1995, 2001, 1927, 1962,\n",
      "                        1906])\n",
      "ic| years_val: array([1902, 1903, 1907, 1912, 1916, 1917, 1918, 1923, 1935, 1937, 1941,\n",
      "                      1945, 1946, 1949, 1953, 1961, 1965, 1976, 1992, 2007, 2008, 2010])\n",
      "ic| years_test: 2010\n"
     ]
    },
    {
     "name": "stdout",
     "output_type": "stream",
     "text": [
      "raw_data        = (40422, 17, 105, 3)\n",
      "training data   = (32387, 17, 105, 3), (32387,)\n",
      "validation data = (8035, 17, 105, 3), (8035,)\n",
      "test data       = (365, 17, 105, 3), (365,)\n",
      "X_mean          = 0.00029500475989341156\n",
      "X_std           = 1.0281252570023809\n"
     ]
    }
   ],
   "source": [
    "imp.reload(data_functions)\n",
    "DATA_NAME = settings['data_name']\n",
    "DATA_DIR = settings['data_dir']\n",
    "\n",
    "if(EXP_NAME[:3]=='mjo'):\n",
    "\n",
    "    labels, data, lat, lon, time = data_functions.load_mjo_data(DATA_DIR)\n",
    "    X_train, y_train, time_train, X_val, y_val, time_val, X_test, y_test, time_test = data_functions.get_and_process_mjo_data(labels,\n",
    "                                                                                         data,\n",
    "                                                                                         time,\n",
    "                                                                                         rng, \n",
    "                                                                                         colored=settings['colored'],\n",
    "                                                                                         standardize=settings['standardize'],\n",
    "                                                                                         shuffle=settings['shuffle'],\n",
    "                                                                                        )        \n",
    "elif(EXP_NAME[:8]=='extremes'):\n",
    "    filename = DATA_DIR + DATA_NAME + '.mat'\n",
    "    X_train, y_train, X_val, y_val, X_test, y_test, lat, lon = data_functions.get_and_process_data(filename, \n",
    "                                                                                        rng, \n",
    "                                                                                        colored=settings['colored'],\n",
    "                                                                                        standardize=settings['standardize'],\n",
    "                                                                                        shuffle=settings['shuffle'],\n",
    "                                                                                        ) \n",
    "    \n",
    "    X_train, y_train, X_val, y_val, X_test, y_test = data_functions.subsample_extremes(RANDOM_SEED, X_train, y_train, X_val, y_val, X_test, y_test)\n",
    "\n",
    "    \n",
    "elif(EXP_NAME[:5]=='jamin' or EXP_NAME[:9]=='quadrants'):\n",
    "    filename = DATA_DIR + DATA_NAME + '.mat'\n",
    "    X_train, y_train, X_val, y_val, X_test, y_test, lat, lon = data_functions.get_and_process_data(filename, \n",
    "                                                                                        rng, \n",
    "                                                                                        colored=settings['colored'],\n",
    "                                                                                        standardize=settings['standardize'],\n",
    "                                                                                        shuffle=settings['shuffle'],\n",
    "                                                                                        )      \n",
    "    "
   ]
  },
  {
   "cell_type": "markdown",
   "id": "44fa63e6-adc0-40b0-92a1-16dd4cc806f6",
   "metadata": {},
   "source": [
    "## Get the model and make predictions"
   ]
  },
  {
   "cell_type": "code",
   "execution_count": 9,
   "id": "ff03a015-a4a4-4b37-b228-40c0bd100566",
   "metadata": {},
   "outputs": [
    {
     "name": "stdout",
     "output_type": "stream",
     "text": [
      "loading model from ./saved_models/mjo_hemi_10E_270E_nol1l2/model_mjo_hemi_10E_270E_nol1l2_stage9\n"
     ]
    }
   ],
   "source": [
    "model_filename = model_dir + 'model_' + EXP_NAME + '_stage' + str(STAGE)\n",
    "model = common_functions.load_model(model_filename)\n"
   ]
  },
  {
   "cell_type": "code",
   "execution_count": 10,
   "id": "f46e0ad3-1993-4598-b181-4f1320938eae",
   "metadata": {},
   "outputs": [],
   "source": [
    "proto_class_mask = network.createClassIdentity(PROTOTYPES_PER_CLASS)\n",
    "\n",
    "prototypes_of_correct_class_train = np.zeros((len(y_train),NPROTOTYPES))\n",
    "for i in range(0,prototypes_of_correct_class_train.shape[0]):\n",
    "    prototypes_of_correct_class_train[i,:] = proto_class_mask[:,int(y_train[i])]\n",
    "    \n",
    "prototypes_of_correct_class_val   = np.zeros((len(y_val),NPROTOTYPES))    \n",
    "for i in range(0,prototypes_of_correct_class_val.shape[0]):\n",
    "    prototypes_of_correct_class_val[i,:] = proto_class_mask[:,int(y_val[i])]\n",
    "\n",
    "prototypes_of_correct_class_test   = np.zeros((len(y_test),NPROTOTYPES))    \n",
    "for i in range(0,prototypes_of_correct_class_test.shape[0]):\n",
    "    prototypes_of_correct_class_test[i,:] = proto_class_mask[:,int(y_test[i])]\n",
    "    "
   ]
  },
  {
   "cell_type": "markdown",
   "id": "46b1cb0f-1fde-4d7a-afaa-1b3d982fa1b1",
   "metadata": {},
   "source": [
    "## Validation samples"
   ]
  },
  {
   "cell_type": "code",
   "execution_count": 11,
   "id": "03e76986-a0f6-44ce-8bbc-578308ddabc1",
   "metadata": {},
   "outputs": [
    {
     "name": "stdout",
     "output_type": "stream",
     "text": [
      "......ProtoLNet Metrics......\n",
      "running model.predict()\n",
      "8/8 [==============================] - 2s 162ms/step\n",
      "model.predict() complete.\n",
      "8/8 [==============================] - 2s 176ms/step - loss: 0.8490 - sparse_categorical_accuracy: 0.7277 - cluster_cost: 0.0033 - separation_cost: 6.7313e-04 - l1_weights_cost: 0.0902\n",
      "Model: \"full_model\"\n",
      "__________________________________________________________________________________________________\n",
      "Layer (type)                    Output Shape         Param #     Connected to                     \n",
      "==================================================================================================\n",
      "inputs (InputLayer)             [(None, 17, 105, 3)] 0                                            \n",
      "__________________________________________________________________________________________________\n",
      "conv_0 (Conv2D)                 (None, 17, 105, 16)  448         inputs[0][0]                     \n",
      "__________________________________________________________________________________________________\n",
      "dropout (Dropout)               (None, 17, 105, 16)  0           conv_0[0][0]                     \n",
      "__________________________________________________________________________________________________\n",
      "maxpooling_0 (AveragePooling2D) (None, 8, 52, 16)    0           dropout[0][0]                    \n",
      "__________________________________________________________________________________________________\n",
      "conv_1 (Conv2D)                 (None, 8, 52, 16)    2320        maxpooling_0[0][0]               \n",
      "__________________________________________________________________________________________________\n",
      "dropout_1 (Dropout)             (None, 8, 52, 16)    0           conv_1[0][0]                     \n",
      "__________________________________________________________________________________________________\n",
      "maxpooling_1 (AveragePooling2D) (None, 4, 26, 16)    0           dropout_1[0][0]                  \n",
      "__________________________________________________________________________________________________\n",
      "conv_2 (Conv2D)                 (None, 4, 26, 16)    2320        maxpooling_1[0][0]               \n",
      "__________________________________________________________________________________________________\n",
      "dropout_2 (Dropout)             (None, 4, 26, 16)    0           conv_2[0][0]                     \n",
      "__________________________________________________________________________________________________\n",
      "maxpooling_2 (AveragePooling2D) (None, 2, 13, 16)    0           dropout_2[0][0]                  \n",
      "__________________________________________________________________________________________________\n",
      "first_1x1_conv (Conv2D)         (None, 2, 13, 64)    1088        maxpooling_2[0][0]               \n",
      "__________________________________________________________________________________________________\n",
      "second_1x1_conv (Conv2D)        (None, 2, 13, 64)    4160        first_1x1_conv[0][0]             \n",
      "__________________________________________________________________________________________________\n",
      "prototypes_of_correct_class (In [(None, 90)]         0                                            \n",
      "__________________________________________________________________________________________________\n",
      "prototype (Prototype)           (None, 90)           8100        second_1x1_conv[0][0]            \n",
      "                                                                 prototypes_of_correct_class[0][0]\n",
      "__________________________________________________________________________________________________\n",
      "final_weights (FinalWeights)    (None, 9)            810         prototype[0][0]                  \n",
      "__________________________________________________________________________________________________\n",
      "softmax_output (Softmax)        (None, 9)            0           final_weights[0][0]              \n",
      "==================================================================================================\n",
      "Total params: 19,246\n",
      "Trainable params: 810\n",
      "Non-trainable params: 18,436\n",
      "__________________________________________________________________________________________________\n"
     ]
    }
   ],
   "source": [
    "input_val  = [[X_val,prototypes_of_correct_class_val]]\n",
    "\n",
    "print('......ProtoLNet Metrics......')\n",
    "print('running model.predict()')\n",
    "y_predict_val = model.predict(input_val, batch_size=BATCH_SIZE_PREDICT, verbose=1)\n",
    "print('model.predict() complete.')\n",
    "\n",
    "model.evaluate(input_val,y_val,batch_size=BATCH_SIZE_PREDICT, verbose=1)\n",
    "\n",
    "model.summary()"
   ]
  },
  {
   "cell_type": "code",
   "execution_count": 12,
   "id": "0b29669c-6fb6-4bc8-b7ff-11b8a5bd684b",
   "metadata": {},
   "outputs": [
    {
     "name": "stdout",
     "output_type": "stream",
     "text": [
      "Accuracies by class: \n",
      "   phase 0 = 0.701\n",
      "   phase 1 = 0.706\n",
      "   phase 2 = 0.767\n",
      "   phase 3 = 0.798\n",
      "   phase 4 = 0.714\n",
      "   phase 5 = 0.663\n",
      "   phase 6 = 0.771\n",
      "   phase 7 = 0.717\n",
      "   phase 8 = 0.694\n"
     ]
    }
   ],
   "source": [
    "print('Accuracies by class: ')\n",
    "\n",
    "for c in np.arange(0,NCLASSES):\n",
    "    i = np.where(y_val==c)[0]\n",
    "    j = np.where(y_val[i]==np.argmax(y_predict_val[i],axis=1))[0]\n",
    "    acc = np.round(len(j)/len(i),3)\n",
    "    \n",
    "    print('   phase ' + str(c) + ' = ' + str(acc))\n",
    "    "
   ]
  },
  {
   "cell_type": "code",
   "execution_count": 13,
   "id": "2d4694c4-c1ba-46f0-8bef-13be22231d53",
   "metadata": {},
   "outputs": [
    {
     "name": "stdout",
     "output_type": "stream",
     "text": [
      "......Base CNN Metrics......\n",
      "loading pretrained convolutional layers from ./saved_models/mjo_hemi_10E_270E_nol1l2/pretrained_model_mjo_hemi_10E_270E_nol1l2\n",
      "8/8 [==============================] - 1s 97ms/step\n",
      "model.predict() complete.\n",
      "8/8 [==============================] - 1s 111ms/step - loss: 1.0333 - sparse_categorical_accuracy: 0.5843\n"
     ]
    },
    {
     "data": {
      "text/plain": [
       "[1.033264398574829, 0.5843185782432556]"
      ]
     },
     "execution_count": 13,
     "metadata": {},
     "output_type": "execute_result"
    }
   ],
   "source": [
    "if(settings['pretrain_exp'] is None):\n",
    "    PRETRAINED_MODEL = model_dir + 'pretrained_model_' + EXP_NAME \n",
    "else:\n",
    "    PRETRAINED_MODEL = './saved_models/' + settings['pretrain_exp'] \n",
    "\n",
    "print('......Base CNN Metrics......')\n",
    "print('loading pretrained convolutional layers from ' + PRETRAINED_MODEL)\n",
    "pretrained_model = tf.keras.models.load_model(PRETRAINED_MODEL)\n",
    "y_predict_val_cnnbase = pretrained_model.predict(X_val, batch_size=BATCH_SIZE_PREDICT, verbose=1)\n",
    "print('model.predict() complete.')\n",
    "pretrained_model.evaluate(X_val,y_val,batch_size=BATCH_SIZE_PREDICT, verbose=1)"
   ]
  },
  {
   "cell_type": "code",
   "execution_count": 14,
   "id": "8a0cfbad-48ef-49ad-b41f-d39b2b4a892b",
   "metadata": {},
   "outputs": [
    {
     "name": "stdout",
     "output_type": "stream",
     "text": [
      "Model: \"full_model\"\n",
      "_________________________________________________________________\n",
      "Layer (type)                 Output Shape              Param #   \n",
      "=================================================================\n",
      "inputs (InputLayer)          [(None, 17, 105, 3)]      0         \n",
      "_________________________________________________________________\n",
      "conv_0 (Conv2D)              (None, 17, 105, 16)       448       \n",
      "_________________________________________________________________\n",
      "dropout (Dropout)            (None, 17, 105, 16)       0         \n",
      "_________________________________________________________________\n",
      "maxpooling_0 (AveragePooling (None, 8, 52, 16)         0         \n",
      "_________________________________________________________________\n",
      "conv_1 (Conv2D)              (None, 8, 52, 16)         2320      \n",
      "_________________________________________________________________\n",
      "dropout_1 (Dropout)          (None, 8, 52, 16)         0         \n",
      "_________________________________________________________________\n",
      "maxpooling_1 (AveragePooling (None, 4, 26, 16)         0         \n",
      "_________________________________________________________________\n",
      "conv_2 (Conv2D)              (None, 4, 26, 16)         2320      \n",
      "_________________________________________________________________\n",
      "dropout_2 (Dropout)          (None, 4, 26, 16)         0         \n",
      "_________________________________________________________________\n",
      "maxpooling_2 (AveragePooling (None, 2, 13, 16)         0         \n",
      "_________________________________________________________________\n",
      "flatten (Flatten)            (None, 416)               0         \n",
      "_________________________________________________________________\n",
      "dropout_3 (Dropout)          (None, 416)               0         \n",
      "_________________________________________________________________\n",
      "dense (Dense)                (None, 32)                13344     \n",
      "_________________________________________________________________\n",
      "dense_1 (Dense)              (None, 9)                 297       \n",
      "_________________________________________________________________\n",
      "softmax_output (Softmax)     (None, 9)                 0         \n",
      "=================================================================\n",
      "Total params: 18,729\n",
      "Trainable params: 18,729\n",
      "Non-trainable params: 0\n",
      "_________________________________________________________________\n"
     ]
    }
   ],
   "source": [
    "pretrained_model.summary()"
   ]
  },
  {
   "cell_type": "code",
   "execution_count": null,
   "id": "94be8cb6-6069-4b2e-959d-1c14ef7bebf1",
   "metadata": {},
   "outputs": [],
   "source": []
  }
 ],
 "metadata": {
  "kernelspec": {
   "display_name": "Python 3",
   "language": "python",
   "name": "python3"
  },
  "language_info": {
   "codemirror_mode": {
    "name": "ipython",
    "version": 3
   },
   "file_extension": ".py",
   "mimetype": "text/x-python",
   "name": "python",
   "nbconvert_exporter": "python",
   "pygments_lexer": "ipython3",
   "version": "3.9.4"
  }
 },
 "nbformat": 4,
 "nbformat_minor": 5
}
