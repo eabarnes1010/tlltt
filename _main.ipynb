{
 "cells": [
  {
   "cell_type": "markdown",
   "id": "80f6a48b-bab3-4333-abf3-07711e94b616",
   "metadata": {},
   "source": [
    "# This Looks Like That There\n",
    "\n",
    "Main training notebook."
   ]
  },
  {
   "cell_type": "code",
   "execution_count": 1,
   "id": "36bf3dd4-d4af-4c8c-89f6-67097628c3e8",
   "metadata": {},
   "outputs": [],
   "source": [
    "import os\n",
    "import sys\n",
    "import time\n",
    "import imp #imp.reload(module)\n",
    "\n",
    "import numpy as np\n",
    "from tqdm import trange\n",
    "from icecream import ic\n",
    "\n",
    "import matplotlib.pyplot as plt\n",
    "import matplotlib as mpl\n",
    "import seaborn as sns\n",
    "\n",
    "import tensorflow as tf\n",
    "\n",
    "import network\n",
    "import experiment_settings \n",
    "import data_functions\n",
    "import push_prototypes\n",
    "import plots\n",
    "import common_functions"
   ]
  },
  {
   "cell_type": "code",
   "execution_count": 2,
   "id": "54e0dba3-9a8a-4d45-b00b-7aaface5fe2c",
   "metadata": {},
   "outputs": [],
   "source": [
    "__author__ = \"Elizabeth A. Barnes and Randal J Barnes\"\n",
    "__version__ = \"1 December 2021\""
   ]
  },
  {
   "cell_type": "code",
   "execution_count": 3,
   "id": "18825d5a-a951-4a29-8dbd-1b1956974b6a",
   "metadata": {},
   "outputs": [],
   "source": [
    "mpl.rcParams['figure.facecolor'] = 'white'\n",
    "mpl.rcParams['figure.dpi']= 150\n",
    "dpiFig = 300."
   ]
  },
  {
   "cell_type": "markdown",
   "id": "1ce58c40-dd37-43ea-9ad3-6d6b56b7d166",
   "metadata": {},
   "source": [
    "## Print the detailed system info"
   ]
  },
  {
   "cell_type": "code",
   "execution_count": 4,
   "id": "2e923341-795f-428a-b5bf-d8cafdce1bcf",
   "metadata": {},
   "outputs": [
    {
     "name": "stdout",
     "output_type": "stream",
     "text": [
      "python version = 3.9.4 (default, Apr  9 2021, 09:32:38) \n",
      "[Clang 10.0.0 ]\n",
      "numpy version = 1.19.5\n",
      "tensorflow version = 2.5.0\n"
     ]
    }
   ],
   "source": [
    "print(f\"python version = {sys.version}\")\n",
    "print(f\"numpy version = {np.__version__}\")\n",
    "print(f\"tensorflow version = {tf.__version__}\")"
   ]
  },
  {
   "cell_type": "markdown",
   "id": "7b515327-ece1-478c-9c99-0d3979739cbe",
   "metadata": {},
   "source": [
    "## Define experiment settings and directories"
   ]
  },
  {
   "cell_type": "code",
   "execution_count": 5,
   "id": "0db315d0-951f-4fe1-88b7-168343dfe3f6",
   "metadata": {},
   "outputs": [],
   "source": [
    "EXP_NAME = 'quadrants_testcase'\n",
    "\n",
    "imp.reload(experiment_settings)\n",
    "settings = experiment_settings.get_settings(EXP_NAME)\n",
    "\n",
    "imp.reload(common_functions)\n",
    "model_dir, model_diagnostics_dir, vizualization_dir = common_functions.get_exp_directories(EXP_NAME)"
   ]
  },
  {
   "cell_type": "markdown",
   "id": "7c333c24-ae7d-43d3-bc87-09fc8e7d8e89",
   "metadata": {},
   "source": [
    "## Define the network parameters"
   ]
  },
  {
   "cell_type": "code",
   "execution_count": 6,
   "id": "3005d411-649b-484a-8c3e-fc23500e11a8",
   "metadata": {},
   "outputs": [],
   "source": [
    "RANDOM_SEED          = settings['random_seed']\n",
    "BATCH_SIZE_PREDICT   = settings['batch_size_predict']\n",
    "BATCH_SIZE           = settings['batch_size']\n",
    "NLAYERS              = settings['nlayers']\n",
    "NFILTERS             = settings['nfilters']   \n",
    "assert(len(NFILTERS)==NLAYERS)\n",
    "\n",
    "NCLASSES             = settings['nclasses']\n",
    "PROTOTYPES_PER_CLASS = settings['prototypes_per_class']\n",
    "NPROTOTYPES          = np.sum(PROTOTYPES_PER_CLASS)\n",
    "\n",
    "NEPOCHS              = settings['nepochs']\n",
    "LR_INIT              = settings['lr']\n",
    "LR_CALLBACK_EPOCH    = settings['lr_cb_epoch']\n",
    "PATIENCE             = 100"
   ]
  },
  {
   "cell_type": "markdown",
   "id": "e8ab2e28-c92f-4c2d-a5d2-96dcfd9625a3",
   "metadata": {},
   "source": [
    "## Initialize"
   ]
  },
  {
   "cell_type": "code",
   "execution_count": 7,
   "id": "eb857807-8efc-485b-8be6-29751f6a4e96",
   "metadata": {},
   "outputs": [],
   "source": [
    "np.random.seed(RANDOM_SEED)\n",
    "rng = np.random.default_rng(RANDOM_SEED)\n",
    "tf.random.set_seed(RANDOM_SEED)"
   ]
  },
  {
   "cell_type": "markdown",
   "id": "521a7140-1796-429f-ad34-1ff25ecca436",
   "metadata": {},
   "source": [
    "## Get and process the data"
   ]
  },
  {
   "cell_type": "code",
   "execution_count": 8,
   "id": "0f94434b-18eb-408a-8810-af9f27cdf522",
   "metadata": {},
   "outputs": [
    {
     "name": "stdout",
     "output_type": "stream",
     "text": [
      "loading ./data/data_quadrants_testcase.mat\n",
      "shuffling the data before train/validation/test split.\n",
      "raw_data        = (1200, 100, 100, 1)\n",
      "training data   = (960, 100, 100, 1), (960,)\n",
      "validation data = (240, 100, 100, 1), (240,)\n",
      "test data       = (0, 100, 100, 1), (0,)\n",
      "X_mean          = 0.0008956050790393463\n",
      "X_std           = 0.11342437932997024\n"
     ]
    }
   ],
   "source": [
    "imp.reload(data_functions)\n",
    "DATA_NAME = settings['data_name']\n",
    "DATA_DIR = settings['data_dir']\n",
    "\n",
    "if(EXP_NAME[:3]=='mjo'):\n",
    "\n",
    "    labels, data, lat, lon, time = data_functions.load_mjo_data(DATA_DIR)\n",
    "    X_train, y_train, time_train, X_val, y_val, time_val, X_test, y_test, time_test = data_functions.get_and_process_mjo_data(labels,\n",
    "                                                                                         data,\n",
    "                                                                                         time,\n",
    "                                                                                         rng, \n",
    "                                                                                         colored=settings['colored'],\n",
    "                                                                                         standardize=settings['standardize'],\n",
    "                                                                                         shuffle=settings['shuffle'],\n",
    "                                                                                        )        \n",
    "elif(EXP_NAME[:9]=='quadrants'):\n",
    "    filename = DATA_DIR + DATA_NAME + '.mat'\n",
    "    X_train, y_train, X_val, y_val, X_test, y_test, lat, lon = data_functions.get_and_process_data(filename, \n",
    "                                                                                        rng, \n",
    "                                                                                        colored=settings['colored'],\n",
    "                                                                                        standardize=settings['standardize'],\n",
    "                                                                                        shuffle=settings['shuffle'],\n",
    "                                                                                        )      \n",
    "    "
   ]
  },
  {
   "cell_type": "code",
   "execution_count": 9,
   "id": "8b621855-61ee-4e16-9948-9f2bcf61721e",
   "metadata": {},
   "outputs": [],
   "source": [
    "proto_class_mask = network.createClassIdentity(PROTOTYPES_PER_CLASS)\n",
    "\n",
    "prototypes_of_correct_class_train = np.zeros((len(y_train),NPROTOTYPES))\n",
    "for i in range(0,prototypes_of_correct_class_train.shape[0]):\n",
    "    prototypes_of_correct_class_train[i,:] = proto_class_mask[:,int(y_train[i])]\n",
    "    \n",
    "prototypes_of_correct_class_val   = np.zeros((len(y_val),NPROTOTYPES))    \n",
    "for i in range(0,prototypes_of_correct_class_val.shape[0]):\n",
    "    prototypes_of_correct_class_val[i,:] = proto_class_mask[:,int(y_val[i])]\n",
    "\n",
    "prototypes_of_correct_class_test   = np.zeros((len(y_test),NPROTOTYPES))    \n",
    "for i in range(0,prototypes_of_correct_class_test.shape[0]):\n",
    "    prototypes_of_correct_class_test[i,:] = proto_class_mask[:,int(y_test[i])]\n",
    "    "
   ]
  },
  {
   "cell_type": "markdown",
   "id": "bb2b2787-9d90-4955-90a4-1a6526c918e9",
   "metadata": {},
   "source": [
    "## Define the training callbacks and metrics"
   ]
  },
  {
   "cell_type": "code",
   "execution_count": 10,
   "id": "64ca24eb-ab9c-4db0-82c8-94980521c597",
   "metadata": {},
   "outputs": [],
   "source": [
    "# callbacks\n",
    "def scheduler(epoch, lr):\n",
    "    if epoch < LR_CALLBACK_EPOCH:\n",
    "        return np.round(lr,8)\n",
    "    else:\n",
    "        if(epoch % 2 == 0):\n",
    "            return lr/2.\n",
    "        else:\n",
    "            return lr\n",
    "\n",
    "lr_callback = tf.keras.callbacks.LearningRateScheduler(scheduler, verbose=1)    \n",
    "    \n",
    "es_callback = tf.keras.callbacks.EarlyStopping(\n",
    "    monitor='val_sparse_categorical_accuracy', \n",
    "    mode='max',\n",
    "    patience=settings['patience'], \n",
    "    restore_best_weights=True, \n",
    "    verbose=1\n",
    ")\n",
    "\n",
    "callbacks_list = [\n",
    "#     lr_callback,\n",
    "#     es_callback,\n",
    "]            \n",
    "\n",
    "# metrics\n",
    "metrics_list = [\n",
    "    tf.keras.metrics.SparseCategoricalAccuracy(),\n",
    "]"
   ]
  },
  {
   "cell_type": "markdown",
   "id": "44fa63e6-adc0-40b0-92a1-16dd4cc806f6",
   "metadata": {},
   "source": [
    "## Instantiate the model"
   ]
  },
  {
   "cell_type": "code",
   "execution_count": 11,
   "id": "c87cc2fb-5cf9-4029-824c-c24262ccb729",
   "metadata": {},
   "outputs": [
    {
     "name": "stdout",
     "output_type": "stream",
     "text": [
      "2\n",
      "[32, 32]\n",
      "(100, 100, 1)\n",
      "3\n",
      "[5, 5, 5]\n",
      "35\n",
      "False\n",
      "0.17\n",
      "-0.017\n",
      "0.5\n",
      "-0.5\n",
      "False\n",
      "8\n",
      "128\n",
      "0.0\n",
      "0.0\n",
      "0.0\n",
      "0.0\n",
      "False\n",
      "Model: \"full_model\"\n",
      "__________________________________________________________________________________________________\n",
      "Layer (type)                    Output Shape         Param #     Connected to                     \n",
      "==================================================================================================\n",
      "inputs (InputLayer)             [(None, 100, 100, 1) 0                                            \n",
      "__________________________________________________________________________________________________\n",
      "conv_0 (Conv2D)                 (None, 100, 100, 32) 320         inputs[0][0]                     \n",
      "__________________________________________________________________________________________________\n",
      "dropout (Dropout)               (None, 100, 100, 32) 0           conv_0[0][0]                     \n",
      "__________________________________________________________________________________________________\n",
      "maxpooling_0 (AveragePooling2D) (None, 50, 50, 32)   0           dropout[0][0]                    \n",
      "__________________________________________________________________________________________________\n",
      "conv_1 (Conv2D)                 (None, 50, 50, 32)   9248        maxpooling_0[0][0]               \n",
      "__________________________________________________________________________________________________\n",
      "dropout_1 (Dropout)             (None, 50, 50, 32)   0           conv_1[0][0]                     \n",
      "__________________________________________________________________________________________________\n",
      "maxpooling_1 (AveragePooling2D) (None, 25, 25, 32)   0           dropout_1[0][0]                  \n",
      "__________________________________________________________________________________________________\n",
      "first_1x1_conv (Conv2D)         (None, 25, 25, 128)  4224        maxpooling_1[0][0]               \n",
      "__________________________________________________________________________________________________\n",
      "second_1x1_conv (Conv2D)        (None, 25, 25, 128)  16512       first_1x1_conv[0][0]             \n",
      "__________________________________________________________________________________________________\n",
      "prototypes_of_correct_class (In [(None, 15)]         0                                            \n",
      "__________________________________________________________________________________________________\n",
      "prototype (Prototype)           (None, 15)           11295       second_1x1_conv[0][0]            \n",
      "                                                                 prototypes_of_correct_class[0][0]\n",
      "__________________________________________________________________________________________________\n",
      "final_weights (FinalWeights)    (None, 3)            45          prototype[0][0]                  \n",
      "__________________________________________________________________________________________________\n",
      "softmax_output (Softmax)        (None, 3)            0           final_weights[0][0]              \n",
      "==================================================================================================\n",
      "Total params: 41,644\n",
      "Trainable params: 41,644\n",
      "Non-trainable params: 0\n",
      "__________________________________________________________________________________________________\n"
     ]
    }
   ],
   "source": [
    "__ = imp.reload(network)\n",
    "tf.keras.backend.clear_session()\n",
    "\n",
    "model = network.build_model(\n",
    "    nlayers              = NLAYERS,\n",
    "    nfilters             = NFILTERS,\n",
    "    input_shape          = X_train.shape[1:],\n",
    "    output_shape         = NCLASSES,\n",
    "    prototypes_per_class = PROTOTYPES_PER_CLASS,\n",
    "    network_seed         = RANDOM_SEED,    \n",
    "    prototype_channels   = settings['prototype_channels'],    \n",
    "    coeff_cluster        = settings['coeff_cluster'],\n",
    "    coeff_separation     = settings['coeff_separation'],\n",
    "    coeff_l1             = settings['coeff_l1'],\n",
    "    incorrect_strength   = settings['incorrect_strength'],\n",
    "    double_conv          = settings['double_conv'],\n",
    "    kernel_l1_coeff      = 0.0,#settings['kernel_l1_coeff'],\n",
    "    kernel_l2_coeff      = 0.0,#settings['kernel_l2_coeff'],\n",
    "    drop_rate            = 0.0,\n",
    "    drop_rate_final      = 0.0,        \n",
    "    \n",
    ")\n",
    "model.summary()"
   ]
  },
  {
   "cell_type": "markdown",
   "id": "404175a3-bc7c-4f2e-8445-3985983c8458",
   "metadata": {},
   "source": [
    "## Load pre-trained weights into convolutional layers"
   ]
  },
  {
   "cell_type": "code",
   "execution_count": 12,
   "id": "a8dbbe1c-cf25-489c-898a-905a537609af",
   "metadata": {},
   "outputs": [
    {
     "name": "stdout",
     "output_type": "stream",
     "text": [
      "loading pretrained convolutional layers from ./saved_models/quadrants_testcase/pretrained_model_quadrants_testcase\n",
      "   loading pretrained weights for --> conv_0\n",
      "   loading pretrained weights for --> conv_1\n"
     ]
    }
   ],
   "source": [
    "if(settings['pretrain'] == True):\n",
    "\n",
    "    if(settings['pretrain_exp'] is None):\n",
    "        PRETRAINED_MODEL = model_dir + 'pretrained_model_' + EXP_NAME \n",
    "    else:\n",
    "        PRETRAINED_MODEL = './saved_models/' + settings['pretrain_exp'] \n",
    "\n",
    "    print('loading pretrained convolutional layers from ' + PRETRAINED_MODEL)\n",
    "    pretrained_model = tf.keras.models.load_model(PRETRAINED_MODEL)\n",
    "\n",
    "    for layer in range(1,len(model.layers)):\n",
    "        if(model.layers[layer].name[:4]=='conv'):\n",
    "            print('   loading pretrained weights for --> ' + model.layers[layer].name)\n",
    "            model.layers[layer].set_weights(pretrained_model.layers[layer].get_weights())\n",
    "else:\n",
    "    print('no pretrained model specified. keeping random initialized weights.')\n",
    "    "
   ]
  },
  {
   "cell_type": "code",
   "execution_count": 13,
   "id": "b1e13996-3403-43f2-9544-173155b4ecb5",
   "metadata": {},
   "outputs": [],
   "source": [
    "# raise ValueError('here')"
   ]
  },
  {
   "cell_type": "markdown",
   "id": "9ea5c00a-658f-4597-a2fe-57e838c1db8d",
   "metadata": {},
   "source": [
    "***"
   ]
  },
  {
   "cell_type": "markdown",
   "id": "c90b26f9-6628-4c46-b1d3-dda086aa468f",
   "metadata": {},
   "source": [
    "# Run Training Stages"
   ]
  },
  {
   "cell_type": "code",
   "execution_count": 14,
   "id": "8ab06f5d-7264-4ec3-ba4b-b29712e442e5",
   "metadata": {},
   "outputs": [],
   "source": [
    "imp.reload(network)\n",
    "imp.reload(plots)\n",
    "imp.reload(push_prototypes)\n",
    "imp.reload(experiment_settings)\n",
    "settings = experiment_settings.get_settings(EXP_NAME)"
   ]
  },
  {
   "cell_type": "code",
   "execution_count": 15,
   "id": "2e32234e-5283-48e5-8024-d1fd279e80b9",
   "metadata": {},
   "outputs": [
    {
     "name": "stderr",
     "output_type": "stream",
     "text": [
      "ic| np.shape(X_train): (960, 100, 100, 1)\n",
      "ic| np.shape(prototypes_of_correct_class_train): (960, 15)\n",
      "ic| np.shape(prototypes_of_correct_class_train): (960, 15)\n"
     ]
    },
    {
     "data": {
      "text/plain": [
       "(960, 15)"
      ]
     },
     "execution_count": 15,
     "metadata": {},
     "output_type": "execute_result"
    }
   ],
   "source": [
    "ic(np.shape(X_train))\n",
    "ic(np.shape(prototypes_of_correct_class_train))\n",
    "ic(np.shape(prototypes_of_correct_class_train))"
   ]
  },
  {
   "cell_type": "code",
   "execution_count": 16,
   "id": "933b03cd-4810-4c70-b8fa-3fb05caa3e02",
   "metadata": {},
   "outputs": [
    {
     "name": "stderr",
     "output_type": "stream",
     "text": [
      "ic| np.min(model.layers[-3].get_weights()[1]): 0.0\n",
      "    np.max(model.layers[-3].get_weights()[1]): 0.0\n"
     ]
    },
    {
     "name": "stdout",
     "output_type": "stream",
     "text": [
      "--------------------\n",
      "TRAINING STAGE = 0\n",
      "--------------------\n",
      "   conv_0 --> False\n",
      "   maxpooling_0 --> False\n",
      "   conv_1 --> False\n",
      "   maxpooling_1 --> False\n",
      "   first_1x1_conv --> True\n",
      "   second_1x1_conv --> True\n",
      "   prototype --> True\n",
      "   final_weights --> False\n",
      "learning rate = 0.01\n",
      "Training the model...\n",
      "Epoch 1/10\n",
      "30/30 [==============================] - 3s 66ms/step - loss: 9.8475 - sparse_categorical_accuracy: 0.3417 - cluster_cost: 8.1030 - separation_cost: 7.5587 - l1_weights_cost: 7.5000 - val_loss: 9.0805 - val_sparse_categorical_accuracy: 0.3208 - val_cluster_cost: 3.0878 - val_separation_cost: 2.6834 - val_l1_weights_cost: 7.5000\n",
      "Epoch 2/10\n",
      "30/30 [==============================] - 2s 58ms/step - loss: 8.8842 - sparse_categorical_accuracy: 0.3812 - cluster_cost: 1.9063 - separation_cost: 1.7261 - l1_weights_cost: 7.5000 - val_loss: 8.7693 - val_sparse_categorical_accuracy: 0.3458 - val_cluster_cost: 1.1116 - val_separation_cost: 0.9538 - val_l1_weights_cost: 7.5000\n",
      "Epoch 3/10\n",
      "30/30 [==============================] - 2s 59ms/step - loss: 8.6980 - sparse_categorical_accuracy: 0.4448 - cluster_cost: 0.8638 - separation_cost: 0.7924 - l1_weights_cost: 7.5000 - val_loss: 8.6850 - val_sparse_categorical_accuracy: 0.4500 - val_cluster_cost: 0.7318 - val_separation_cost: 0.6833 - val_l1_weights_cost: 7.5000\n",
      "Epoch 4/10\n",
      "30/30 [==============================] - 2s 60ms/step - loss: 8.6751 - sparse_categorical_accuracy: 0.4469 - cluster_cost: 0.7557 - separation_cost: 0.6680 - l1_weights_cost: 7.5000 - val_loss: 8.6563 - val_sparse_categorical_accuracy: 0.4292 - val_cluster_cost: 0.7178 - val_separation_cost: 0.5951 - val_l1_weights_cost: 7.5000\n",
      "Epoch 5/10\n",
      "30/30 [==============================] - 2s 59ms/step - loss: 8.5978 - sparse_categorical_accuracy: 0.5250 - cluster_cost: 0.7049 - separation_cost: 0.6208 - l1_weights_cost: 7.5000 - val_loss: 8.4933 - val_sparse_categorical_accuracy: 0.6208 - val_cluster_cost: 0.5835 - val_separation_cost: 0.5497 - val_l1_weights_cost: 7.5000\n",
      "Epoch 6/10\n",
      "30/30 [==============================] - 2s 60ms/step - loss: 8.4308 - sparse_categorical_accuracy: 0.6469 - cluster_cost: 0.5888 - separation_cost: 0.5366 - l1_weights_cost: 7.5000 - val_loss: 8.5177 - val_sparse_categorical_accuracy: 0.5542 - val_cluster_cost: 0.4715 - val_separation_cost: 0.4248 - val_l1_weights_cost: 7.5000\n",
      "Epoch 7/10\n",
      "30/30 [==============================] - 2s 59ms/step - loss: 8.3192 - sparse_categorical_accuracy: 0.7146 - cluster_cost: 0.6489 - separation_cost: 0.6480 - l1_weights_cost: 7.5000 - val_loss: 8.3585 - val_sparse_categorical_accuracy: 0.7125 - val_cluster_cost: 0.5170 - val_separation_cost: 0.5057 - val_l1_weights_cost: 7.5000\n",
      "Epoch 8/10\n",
      "30/30 [==============================] - 2s 59ms/step - loss: 8.2841 - sparse_categorical_accuracy: 0.7208 - cluster_cost: 0.6371 - separation_cost: 0.6359 - l1_weights_cost: 7.5000 - val_loss: 8.1994 - val_sparse_categorical_accuracy: 0.7625 - val_cluster_cost: 0.6414 - val_separation_cost: 0.6806 - val_l1_weights_cost: 7.5000\n",
      "Epoch 9/10\n",
      "30/30 [==============================] - 2s 60ms/step - loss: 8.1353 - sparse_categorical_accuracy: 0.7917 - cluster_cost: 0.5299 - separation_cost: 0.5544 - l1_weights_cost: 7.5000 - val_loss: 8.1211 - val_sparse_categorical_accuracy: 0.7792 - val_cluster_cost: 0.3603 - val_separation_cost: 0.3016 - val_l1_weights_cost: 7.5000\n",
      "Epoch 10/10\n",
      "30/30 [==============================] - 2s 60ms/step - loss: 8.1108 - sparse_categorical_accuracy: 0.8083 - cluster_cost: 0.4922 - separation_cost: 0.4972 - l1_weights_cost: 7.5000 - val_loss: 8.0670 - val_sparse_categorical_accuracy: 0.8083 - val_cluster_cost: 0.4545 - val_separation_cost: 0.4720 - val_l1_weights_cost: 7.5000\n",
      "Training complete.\n",
      "\n",
      "saving model and weights to ./saved_models/quadrants_testcase/model_quadrants_testcase_stage0\n",
      "INFO:tensorflow:Assets written to: ./saved_models/quadrants_testcase/model_quadrants_testcase_stage0/assets\n",
      "--------------------\n",
      "TRAINING STAGE = 1\n",
      "--------------------\n",
      "Running Prototype Push\n",
      "1/1 [==============================] - 1s 700ms/step\n"
     ]
    },
    {
     "name": "stderr",
     "output_type": "stream",
     "text": [
      "ic| np.min(model.layers[-3].get_weights()[1]): -0.46120986\n",
      "    np.max(model.layers[-3].get_weights()[1]): 2.6305072\n"
     ]
    },
    {
     "name": "stdout",
     "output_type": "stream",
     "text": [
      "Performing push of prototypes.\n",
      "Push complete.\n",
      "\n",
      "   conv_0 --> False\n",
      "   maxpooling_0 --> False\n",
      "   conv_1 --> False\n",
      "   maxpooling_1 --> False\n",
      "   first_1x1_conv --> False\n",
      "   second_1x1_conv --> False\n",
      "   prototype --> False\n",
      "   final_weights --> True\n",
      "learning rate = 0.01\n",
      "Training the model...\n",
      "Epoch 1/10\n",
      "30/30 [==============================] - 2s 40ms/step - loss: 6.5363 - sparse_categorical_accuracy: 0.7467 - cluster_cost: 0.0482 - separation_cost: 0.0402 - l1_weights_cost: 5.4331 - val_loss: 4.4521 - val_sparse_categorical_accuracy: 0.6917 - val_cluster_cost: 0.0470 - val_separation_cost: 0.0359 - val_l1_weights_cost: 3.2381\n",
      "Epoch 2/10\n",
      "30/30 [==============================] - 1s 34ms/step - loss: 2.2338 - sparse_categorical_accuracy: 0.7344 - cluster_cost: 0.0482 - separation_cost: 0.0402 - l1_weights_cost: 1.3596 - val_loss: 1.3813 - val_sparse_categorical_accuracy: 0.6833 - val_cluster_cost: 0.0470 - val_separation_cost: 0.0359 - val_l1_weights_cost: 0.4047\n",
      "Epoch 3/10\n",
      "30/30 [==============================] - 1s 35ms/step - loss: 0.9417 - sparse_categorical_accuracy: 0.7437 - cluster_cost: 0.0482 - separation_cost: 0.0402 - l1_weights_cost: 0.1506 - val_loss: 1.0204 - val_sparse_categorical_accuracy: 0.6875 - val_cluster_cost: 0.0470 - val_separation_cost: 0.0359 - val_l1_weights_cost: 0.0582\n",
      "Epoch 4/10\n",
      "30/30 [==============================] - 1s 35ms/step - loss: 0.7984 - sparse_categorical_accuracy: 0.7437 - cluster_cost: 0.0482 - separation_cost: 0.0402 - l1_weights_cost: 0.0325 - val_loss: 0.9740 - val_sparse_categorical_accuracy: 0.6958 - val_cluster_cost: 0.0470 - val_separation_cost: 0.0359 - val_l1_weights_cost: 0.0309\n",
      "Epoch 5/10\n",
      "30/30 [==============================] - 1s 35ms/step - loss: 0.7654 - sparse_categorical_accuracy: 0.7500 - cluster_cost: 0.0482 - separation_cost: 0.0402 - l1_weights_cost: 0.0232 - val_loss: 0.9273 - val_sparse_categorical_accuracy: 0.6833 - val_cluster_cost: 0.0470 - val_separation_cost: 0.0359 - val_l1_weights_cost: 0.0234\n",
      "Epoch 6/10\n",
      "30/30 [==============================] - 1s 35ms/step - loss: 0.7496 - sparse_categorical_accuracy: 0.7479 - cluster_cost: 0.0482 - separation_cost: 0.0402 - l1_weights_cost: 0.0282 - val_loss: 0.9180 - val_sparse_categorical_accuracy: 0.6917 - val_cluster_cost: 0.0470 - val_separation_cost: 0.0359 - val_l1_weights_cost: 0.0334\n",
      "Epoch 7/10\n",
      "30/30 [==============================] - 1s 39ms/step - loss: 0.7529 - sparse_categorical_accuracy: 0.7427 - cluster_cost: 0.0482 - separation_cost: 0.0402 - l1_weights_cost: 0.0364 - val_loss: 0.9123 - val_sparse_categorical_accuracy: 0.6958 - val_cluster_cost: 0.0470 - val_separation_cost: 0.0359 - val_l1_weights_cost: 0.0346\n",
      "Epoch 8/10\n",
      "30/30 [==============================] - 1s 37ms/step - loss: 0.7273 - sparse_categorical_accuracy: 0.7521 - cluster_cost: 0.0482 - separation_cost: 0.0402 - l1_weights_cost: 0.0317 - val_loss: 0.8792 - val_sparse_categorical_accuracy: 0.6875 - val_cluster_cost: 0.0470 - val_separation_cost: 0.0359 - val_l1_weights_cost: 0.0257\n",
      "Epoch 9/10\n",
      "30/30 [==============================] - 1s 36ms/step - loss: 0.7161 - sparse_categorical_accuracy: 0.7469 - cluster_cost: 0.0482 - separation_cost: 0.0402 - l1_weights_cost: 0.0307 - val_loss: 0.8670 - val_sparse_categorical_accuracy: 0.6958 - val_cluster_cost: 0.0470 - val_separation_cost: 0.0359 - val_l1_weights_cost: 0.0323\n",
      "Epoch 10/10\n",
      "30/30 [==============================] - 1s 35ms/step - loss: 0.7062 - sparse_categorical_accuracy: 0.7563 - cluster_cost: 0.0482 - separation_cost: 0.0402 - l1_weights_cost: 0.0286 - val_loss: 0.8507 - val_sparse_categorical_accuracy: 0.7083 - val_cluster_cost: 0.0470 - val_separation_cost: 0.0359 - val_l1_weights_cost: 0.0234\n",
      "Training complete.\n",
      "\n",
      "saving model and weights to ./saved_models/quadrants_testcase/model_quadrants_testcase_stage1\n",
      "INFO:tensorflow:Assets written to: ./saved_models/quadrants_testcase/model_quadrants_testcase_stage1/assets\n"
     ]
    },
    {
     "name": "stderr",
     "output_type": "stream",
     "text": [
      "ic| np.min(model.layers[-3].get_weights()[1]): -0.46120986\n",
      "    np.max(model.layers[-3].get_weights()[1]): 2.6305072\n"
     ]
    },
    {
     "name": "stdout",
     "output_type": "stream",
     "text": [
      "--------------------\n",
      "TRAINING STAGE = 2\n",
      "--------------------\n",
      "   conv_0 --> True\n",
      "   maxpooling_0 --> True\n",
      "   conv_1 --> True\n",
      "   maxpooling_1 --> True\n",
      "   first_1x1_conv --> True\n",
      "   second_1x1_conv --> True\n",
      "   prototype --> True\n",
      "   final_weights --> False\n",
      "learning rate = 0.01\n",
      "Training the model...\n",
      "Epoch 1/10\n",
      "30/30 [==============================] - 4s 109ms/step - loss: 0.8542 - sparse_categorical_accuracy: 0.7192 - cluster_cost: 0.6176 - separation_cost: 0.6742 - l1_weights_cost: 0.0234 - val_loss: 0.6728 - val_sparse_categorical_accuracy: 0.7833 - val_cluster_cost: 0.2477 - val_separation_cost: 0.2739 - val_l1_weights_cost: 0.0234\n",
      "Epoch 2/10\n",
      "30/30 [==============================] - 3s 106ms/step - loss: 0.5598 - sparse_categorical_accuracy: 0.8271 - cluster_cost: 0.2425 - separation_cost: 0.2976 - l1_weights_cost: 0.0234 - val_loss: 0.5342 - val_sparse_categorical_accuracy: 0.8042 - val_cluster_cost: 0.1547 - val_separation_cost: 0.1814 - val_l1_weights_cost: 0.0234\n",
      "Epoch 3/10\n",
      "30/30 [==============================] - 3s 113ms/step - loss: 0.5526 - sparse_categorical_accuracy: 0.8188 - cluster_cost: 0.2401 - separation_cost: 0.2700 - l1_weights_cost: 0.0234 - val_loss: 0.5225 - val_sparse_categorical_accuracy: 0.8208 - val_cluster_cost: 0.1994 - val_separation_cost: 0.2327 - val_l1_weights_cost: 0.0234\n",
      "Epoch 4/10\n",
      "30/30 [==============================] - 3s 101ms/step - loss: 0.4277 - sparse_categorical_accuracy: 0.8646 - cluster_cost: 0.1484 - separation_cost: 0.1807 - l1_weights_cost: 0.0234 - val_loss: 0.3928 - val_sparse_categorical_accuracy: 0.8917 - val_cluster_cost: 0.1363 - val_separation_cost: 0.1453 - val_l1_weights_cost: 0.0234\n",
      "Epoch 5/10\n",
      "30/30 [==============================] - 3s 103ms/step - loss: 0.4053 - sparse_categorical_accuracy: 0.8771 - cluster_cost: 0.1271 - separation_cost: 0.1407 - l1_weights_cost: 0.0234 - val_loss: 0.4268 - val_sparse_categorical_accuracy: 0.8625 - val_cluster_cost: 0.1312 - val_separation_cost: 0.1255 - val_l1_weights_cost: 0.0234\n",
      "Epoch 6/10\n",
      "30/30 [==============================] - 3s 102ms/step - loss: 0.3289 - sparse_categorical_accuracy: 0.8958 - cluster_cost: 0.0995 - separation_cost: 0.1166 - l1_weights_cost: 0.0234 - val_loss: 0.4750 - val_sparse_categorical_accuracy: 0.8333 - val_cluster_cost: 0.1008 - val_separation_cost: 0.1000 - val_l1_weights_cost: 0.0234\n",
      "Epoch 7/10\n",
      "30/30 [==============================] - 3s 100ms/step - loss: 0.4014 - sparse_categorical_accuracy: 0.8677 - cluster_cost: 0.1170 - separation_cost: 0.1290 - l1_weights_cost: 0.0234 - val_loss: 0.2993 - val_sparse_categorical_accuracy: 0.9083 - val_cluster_cost: 0.1114 - val_separation_cost: 0.1296 - val_l1_weights_cost: 0.0234\n",
      "Epoch 8/10\n",
      "30/30 [==============================] - 3s 107ms/step - loss: 0.3093 - sparse_categorical_accuracy: 0.9042 - cluster_cost: 0.0835 - separation_cost: 0.0912 - l1_weights_cost: 0.0234 - val_loss: 0.2690 - val_sparse_categorical_accuracy: 0.9167 - val_cluster_cost: 0.0726 - val_separation_cost: 0.0826 - val_l1_weights_cost: 0.0234\n",
      "Epoch 9/10\n",
      "30/30 [==============================] - 3s 111ms/step - loss: 0.2713 - sparse_categorical_accuracy: 0.9333 - cluster_cost: 0.0668 - separation_cost: 0.0677 - l1_weights_cost: 0.0234 - val_loss: 0.2927 - val_sparse_categorical_accuracy: 0.9167 - val_cluster_cost: 0.0744 - val_separation_cost: 0.0860 - val_l1_weights_cost: 0.0234\n",
      "Epoch 10/10\n",
      "30/30 [==============================] - 3s 102ms/step - loss: 0.2949 - sparse_categorical_accuracy: 0.9135 - cluster_cost: 0.0855 - separation_cost: 0.0908 - l1_weights_cost: 0.0234 - val_loss: 0.2827 - val_sparse_categorical_accuracy: 0.9042 - val_cluster_cost: 0.0826 - val_separation_cost: 0.0978 - val_l1_weights_cost: 0.0234\n",
      "Training complete.\n",
      "\n",
      "saving model and weights to ./saved_models/quadrants_testcase/model_quadrants_testcase_stage2\n",
      "INFO:tensorflow:Assets written to: ./saved_models/quadrants_testcase/model_quadrants_testcase_stage2/assets\n",
      "--------------------\n",
      "TRAINING STAGE = 3\n",
      "--------------------\n",
      "Running Prototype Push\n",
      "1/1 [==============================] - 1s 671ms/step\n"
     ]
    },
    {
     "name": "stderr",
     "output_type": "stream",
     "text": [
      "ic| np.min(model.layers[-3].get_weights()[1]): -0.6448027\n",
      "    np.max(model.layers[-3].get_weights()[1]): 2.624114\n"
     ]
    },
    {
     "name": "stdout",
     "output_type": "stream",
     "text": [
      "Performing push of prototypes.\n",
      "Push complete.\n",
      "\n",
      "   conv_0 --> False\n",
      "   maxpooling_0 --> False\n",
      "   conv_1 --> False\n",
      "   maxpooling_1 --> False\n",
      "   first_1x1_conv --> False\n",
      "   second_1x1_conv --> False\n",
      "   prototype --> False\n",
      "   final_weights --> True\n",
      "learning rate = 0.01\n",
      "Training the model...\n",
      "Epoch 1/10\n",
      "30/30 [==============================] - 2s 41ms/step - loss: 1.9590 - sparse_categorical_accuracy: 0.8158 - cluster_cost: 0.0019 - separation_cost: 0.0015 - l1_weights_cost: 0.3116 - val_loss: 1.3279 - val_sparse_categorical_accuracy: 0.8167 - val_cluster_cost: 0.0017 - val_separation_cost: 0.0016 - val_l1_weights_cost: 0.2300\n",
      "Epoch 2/10\n",
      "30/30 [==============================] - 1s 35ms/step - loss: 1.3859 - sparse_categorical_accuracy: 0.8094 - cluster_cost: 0.0019 - separation_cost: 0.0015 - l1_weights_cost: 0.2427 - val_loss: 1.0998 - val_sparse_categorical_accuracy: 0.8292 - val_cluster_cost: 0.0017 - val_separation_cost: 0.0016 - val_l1_weights_cost: 0.2446\n",
      "Epoch 3/10\n",
      "30/30 [==============================] - 1s 37ms/step - loss: 1.1399 - sparse_categorical_accuracy: 0.8167 - cluster_cost: 0.0019 - separation_cost: 0.0015 - l1_weights_cost: 0.2147 - val_loss: 0.9388 - val_sparse_categorical_accuracy: 0.8083 - val_cluster_cost: 0.0017 - val_separation_cost: 0.0016 - val_l1_weights_cost: 0.1949\n",
      "Epoch 4/10\n",
      "30/30 [==============================] - 1s 36ms/step - loss: 0.9730 - sparse_categorical_accuracy: 0.8344 - cluster_cost: 0.0019 - separation_cost: 0.0015 - l1_weights_cost: 0.1748 - val_loss: 0.8945 - val_sparse_categorical_accuracy: 0.8208 - val_cluster_cost: 0.0017 - val_separation_cost: 0.0016 - val_l1_weights_cost: 0.1791\n",
      "Epoch 5/10\n",
      "30/30 [==============================] - 1s 34ms/step - loss: 0.8938 - sparse_categorical_accuracy: 0.8313 - cluster_cost: 0.0019 - separation_cost: 0.0015 - l1_weights_cost: 0.1602 - val_loss: 0.8174 - val_sparse_categorical_accuracy: 0.7917 - val_cluster_cost: 0.0017 - val_separation_cost: 0.0016 - val_l1_weights_cost: 0.1380\n",
      "Epoch 6/10\n",
      "30/30 [==============================] - 1s 35ms/step - loss: 0.8139 - sparse_categorical_accuracy: 0.8354 - cluster_cost: 0.0019 - separation_cost: 0.0015 - l1_weights_cost: 0.1466 - val_loss: 0.7691 - val_sparse_categorical_accuracy: 0.7958 - val_cluster_cost: 0.0017 - val_separation_cost: 0.0016 - val_l1_weights_cost: 0.1352\n",
      "Epoch 7/10\n",
      "30/30 [==============================] - 1s 34ms/step - loss: 0.7675 - sparse_categorical_accuracy: 0.8271 - cluster_cost: 0.0019 - separation_cost: 0.0015 - l1_weights_cost: 0.1480 - val_loss: 0.7511 - val_sparse_categorical_accuracy: 0.8083 - val_cluster_cost: 0.0017 - val_separation_cost: 0.0016 - val_l1_weights_cost: 0.1396\n",
      "Epoch 8/10\n",
      "30/30 [==============================] - 1s 35ms/step - loss: 0.7107 - sparse_categorical_accuracy: 0.8344 - cluster_cost: 0.0019 - separation_cost: 0.0015 - l1_weights_cost: 0.1320 - val_loss: 0.7006 - val_sparse_categorical_accuracy: 0.7833 - val_cluster_cost: 0.0017 - val_separation_cost: 0.0016 - val_l1_weights_cost: 0.1314\n",
      "Epoch 9/10\n",
      "30/30 [==============================] - 1s 36ms/step - loss: 0.6834 - sparse_categorical_accuracy: 0.8135 - cluster_cost: 0.0019 - separation_cost: 0.0015 - l1_weights_cost: 0.1300 - val_loss: 0.6876 - val_sparse_categorical_accuracy: 0.7917 - val_cluster_cost: 0.0017 - val_separation_cost: 0.0016 - val_l1_weights_cost: 0.1383\n",
      "Epoch 10/10\n",
      "30/30 [==============================] - 1s 36ms/step - loss: 0.6249 - sparse_categorical_accuracy: 0.8385 - cluster_cost: 0.0019 - separation_cost: 0.0015 - l1_weights_cost: 0.1128 - val_loss: 0.6022 - val_sparse_categorical_accuracy: 0.7708 - val_cluster_cost: 0.0017 - val_separation_cost: 0.0016 - val_l1_weights_cost: 0.0963\n",
      "Training complete.\n",
      "\n",
      "saving model and weights to ./saved_models/quadrants_testcase/model_quadrants_testcase_stage3\n",
      "INFO:tensorflow:Assets written to: ./saved_models/quadrants_testcase/model_quadrants_testcase_stage3/assets\n"
     ]
    },
    {
     "name": "stderr",
     "output_type": "stream",
     "text": [
      "ic| np.min(model.layers[-3].get_weights()[1]): -0.6448027\n",
      "    np.max(model.layers[-3].get_weights()[1]): 2.624114\n"
     ]
    },
    {
     "name": "stdout",
     "output_type": "stream",
     "text": [
      "--------------------\n",
      "TRAINING STAGE = 4\n",
      "--------------------\n",
      "   conv_0 --> True\n",
      "   maxpooling_0 --> True\n",
      "   conv_1 --> True\n",
      "   maxpooling_1 --> True\n",
      "   first_1x1_conv --> True\n",
      "   second_1x1_conv --> True\n",
      "   prototype --> True\n",
      "   final_weights --> False\n",
      "learning rate = 0.01\n",
      "Training the model...\n",
      "Epoch 1/10\n",
      "30/30 [==============================] - 4s 107ms/step - loss: 0.4285 - sparse_categorical_accuracy: 0.8675 - cluster_cost: 0.0376 - separation_cost: 0.0465 - l1_weights_cost: 0.0963 - val_loss: 0.3208 - val_sparse_categorical_accuracy: 0.9292 - val_cluster_cost: 0.0206 - val_separation_cost: 0.0238 - val_l1_weights_cost: 0.0963\n",
      "Epoch 2/10\n",
      "30/30 [==============================] - 3s 100ms/step - loss: 0.3319 - sparse_categorical_accuracy: 0.9156 - cluster_cost: 0.0199 - separation_cost: 0.0232 - l1_weights_cost: 0.0963 - val_loss: 0.3486 - val_sparse_categorical_accuracy: 0.9083 - val_cluster_cost: 0.0191 - val_separation_cost: 0.0233 - val_l1_weights_cost: 0.0963\n",
      "Epoch 3/10\n",
      "30/30 [==============================] - 3s 101ms/step - loss: 0.3007 - sparse_categorical_accuracy: 0.9292 - cluster_cost: 0.0185 - separation_cost: 0.0231 - l1_weights_cost: 0.0963 - val_loss: 0.2468 - val_sparse_categorical_accuracy: 0.9542 - val_cluster_cost: 0.0127 - val_separation_cost: 0.0213 - val_l1_weights_cost: 0.0963\n",
      "Epoch 4/10\n",
      "30/30 [==============================] - 3s 101ms/step - loss: 0.2713 - sparse_categorical_accuracy: 0.9417 - cluster_cost: 0.0143 - separation_cost: 0.0172 - l1_weights_cost: 0.0963 - val_loss: 0.3200 - val_sparse_categorical_accuracy: 0.9333 - val_cluster_cost: 0.0212 - val_separation_cost: 0.0215 - val_l1_weights_cost: 0.0963\n",
      "Epoch 5/10\n",
      "30/30 [==============================] - 3s 100ms/step - loss: 0.2860 - sparse_categorical_accuracy: 0.9458 - cluster_cost: 0.0164 - separation_cost: 0.0208 - l1_weights_cost: 0.0963 - val_loss: 0.2983 - val_sparse_categorical_accuracy: 0.9333 - val_cluster_cost: 0.0171 - val_separation_cost: 0.0250 - val_l1_weights_cost: 0.0963\n",
      "Epoch 6/10\n",
      "30/30 [==============================] - 3s 101ms/step - loss: 0.2806 - sparse_categorical_accuracy: 0.9312 - cluster_cost: 0.0172 - separation_cost: 0.0210 - l1_weights_cost: 0.0963 - val_loss: 0.2733 - val_sparse_categorical_accuracy: 0.9583 - val_cluster_cost: 0.0286 - val_separation_cost: 0.0374 - val_l1_weights_cost: 0.0963\n",
      "Epoch 7/10\n",
      "30/30 [==============================] - 3s 100ms/step - loss: 0.2737 - sparse_categorical_accuracy: 0.9396 - cluster_cost: 0.0143 - separation_cost: 0.0205 - l1_weights_cost: 0.0963 - val_loss: 0.2799 - val_sparse_categorical_accuracy: 0.9417 - val_cluster_cost: 0.0156 - val_separation_cost: 0.0228 - val_l1_weights_cost: 0.0963\n",
      "Epoch 8/10\n",
      "30/30 [==============================] - 3s 101ms/step - loss: 0.2739 - sparse_categorical_accuracy: 0.9448 - cluster_cost: 0.0176 - separation_cost: 0.0243 - l1_weights_cost: 0.0963 - val_loss: 0.2309 - val_sparse_categorical_accuracy: 0.9583 - val_cluster_cost: 0.0144 - val_separation_cost: 0.0235 - val_l1_weights_cost: 0.0963\n",
      "Epoch 9/10\n",
      "30/30 [==============================] - 3s 104ms/step - loss: 0.2325 - sparse_categorical_accuracy: 0.9615 - cluster_cost: 0.0132 - separation_cost: 0.0202 - l1_weights_cost: 0.0963 - val_loss: 0.2814 - val_sparse_categorical_accuracy: 0.9375 - val_cluster_cost: 0.0150 - val_separation_cost: 0.0237 - val_l1_weights_cost: 0.0963\n",
      "Epoch 10/10\n",
      "30/30 [==============================] - 3s 111ms/step - loss: 0.2639 - sparse_categorical_accuracy: 0.9427 - cluster_cost: 0.0157 - separation_cost: 0.0224 - l1_weights_cost: 0.0963 - val_loss: 0.2379 - val_sparse_categorical_accuracy: 0.9667 - val_cluster_cost: 0.0107 - val_separation_cost: 0.0224 - val_l1_weights_cost: 0.0963\n",
      "Training complete.\n",
      "\n",
      "saving model and weights to ./saved_models/quadrants_testcase/model_quadrants_testcase_stage4\n",
      "INFO:tensorflow:Assets written to: ./saved_models/quadrants_testcase/model_quadrants_testcase_stage4/assets\n",
      "--------------------\n",
      "TRAINING STAGE = 5\n",
      "--------------------\n",
      "Running Prototype Push\n",
      "1/1 [==============================] - 1s 745ms/step\n"
     ]
    },
    {
     "name": "stderr",
     "output_type": "stream",
     "text": [
      "ic| np.min(model.layers[-3].get_weights()[1]): -0.6448027\n",
      "    np.max(model.layers[-3].get_weights()[1]): 3.5223403\n"
     ]
    },
    {
     "name": "stdout",
     "output_type": "stream",
     "text": [
      "Performing push of prototypes.\n",
      "Push complete.\n",
      "\n",
      "   conv_0 --> False\n",
      "   maxpooling_0 --> False\n",
      "   conv_1 --> False\n",
      "   maxpooling_1 --> False\n",
      "   first_1x1_conv --> False\n",
      "   second_1x1_conv --> False\n",
      "   prototype --> False\n",
      "   final_weights --> True\n",
      "learning rate = 0.01\n",
      "Training the model...\n",
      "Epoch 1/10\n",
      "30/30 [==============================] - 2s 39ms/step - loss: 0.3762 - sparse_categorical_accuracy: 0.9175 - cluster_cost: 3.3162e-04 - separation_cost: 5.5949e-05 - l1_weights_cost: 0.1094 - val_loss: 0.3276 - val_sparse_categorical_accuracy: 0.9458 - val_cluster_cost: 3.3188e-04 - val_separation_cost: 6.1035e-05 - val_l1_weights_cost: 0.0894\n",
      "Epoch 2/10\n",
      "30/30 [==============================] - 1s 34ms/step - loss: 0.3499 - sparse_categorical_accuracy: 0.9125 - cluster_cost: 3.3162e-04 - separation_cost: 5.5949e-05 - l1_weights_cost: 0.0914 - val_loss: 0.3132 - val_sparse_categorical_accuracy: 0.9375 - val_cluster_cost: 3.3188e-04 - val_separation_cost: 6.1035e-05 - val_l1_weights_cost: 0.0880\n",
      "Epoch 3/10\n",
      "30/30 [==============================] - 1s 34ms/step - loss: 0.3208 - sparse_categorical_accuracy: 0.9198 - cluster_cost: 3.3162e-04 - separation_cost: 5.5949e-05 - l1_weights_cost: 0.0981 - val_loss: 0.3428 - val_sparse_categorical_accuracy: 0.8958 - val_cluster_cost: 3.3188e-04 - val_separation_cost: 6.1035e-05 - val_l1_weights_cost: 0.0875\n",
      "Epoch 4/10\n",
      "30/30 [==============================] - 1s 34ms/step - loss: 0.3042 - sparse_categorical_accuracy: 0.9271 - cluster_cost: 3.3162e-04 - separation_cost: 5.5949e-05 - l1_weights_cost: 0.0872 - val_loss: 0.3282 - val_sparse_categorical_accuracy: 0.9250 - val_cluster_cost: 3.3188e-04 - val_separation_cost: 6.1035e-05 - val_l1_weights_cost: 0.0913\n",
      "Epoch 5/10\n",
      "30/30 [==============================] - 1s 34ms/step - loss: 0.2989 - sparse_categorical_accuracy: 0.9208 - cluster_cost: 3.3162e-04 - separation_cost: 5.5949e-05 - l1_weights_cost: 0.0842 - val_loss: 0.2875 - val_sparse_categorical_accuracy: 0.9333 - val_cluster_cost: 3.3188e-04 - val_separation_cost: 6.1035e-05 - val_l1_weights_cost: 0.0768\n",
      "Epoch 6/10\n",
      "30/30 [==============================] - 1s 34ms/step - loss: 0.2792 - sparse_categorical_accuracy: 0.9260 - cluster_cost: 3.3162e-04 - separation_cost: 5.5949e-05 - l1_weights_cost: 0.0745 - val_loss: 0.3314 - val_sparse_categorical_accuracy: 0.9458 - val_cluster_cost: 3.3188e-04 - val_separation_cost: 6.1035e-05 - val_l1_weights_cost: 0.1020\n",
      "Epoch 7/10\n",
      "30/30 [==============================] - 1s 35ms/step - loss: 0.2932 - sparse_categorical_accuracy: 0.9240 - cluster_cost: 3.3162e-04 - separation_cost: 5.5949e-05 - l1_weights_cost: 0.0929 - val_loss: 0.2999 - val_sparse_categorical_accuracy: 0.9333 - val_cluster_cost: 3.3188e-04 - val_separation_cost: 6.1035e-05 - val_l1_weights_cost: 0.0923\n",
      "Epoch 8/10\n",
      "30/30 [==============================] - 1s 36ms/step - loss: 0.2604 - sparse_categorical_accuracy: 0.9333 - cluster_cost: 3.3162e-04 - separation_cost: 5.5949e-05 - l1_weights_cost: 0.0696 - val_loss: 0.2751 - val_sparse_categorical_accuracy: 0.9208 - val_cluster_cost: 3.3188e-04 - val_separation_cost: 6.1035e-05 - val_l1_weights_cost: 0.0584\n",
      "Epoch 9/10\n",
      "30/30 [==============================] - 1s 35ms/step - loss: 0.2585 - sparse_categorical_accuracy: 0.9302 - cluster_cost: 3.3162e-04 - separation_cost: 5.5949e-05 - l1_weights_cost: 0.0716 - val_loss: 0.2940 - val_sparse_categorical_accuracy: 0.9250 - val_cluster_cost: 3.3188e-04 - val_separation_cost: 6.1035e-05 - val_l1_weights_cost: 0.0666\n",
      "Epoch 10/10\n",
      "30/30 [==============================] - 1s 34ms/step - loss: 0.2601 - sparse_categorical_accuracy: 0.9344 - cluster_cost: 3.3162e-04 - separation_cost: 5.5949e-05 - l1_weights_cost: 0.0757 - val_loss: 0.2803 - val_sparse_categorical_accuracy: 0.9375 - val_cluster_cost: 3.3188e-04 - val_separation_cost: 6.1035e-05 - val_l1_weights_cost: 0.0749\n",
      "Training complete.\n",
      "\n",
      "saving model and weights to ./saved_models/quadrants_testcase/model_quadrants_testcase_stage5\n",
      "INFO:tensorflow:Assets written to: ./saved_models/quadrants_testcase/model_quadrants_testcase_stage5/assets\n"
     ]
    },
    {
     "name": "stderr",
     "output_type": "stream",
     "text": [
      "ic| np.min(model.layers[-3].get_weights()[1]): -0.6448027\n",
      "    np.max(model.layers[-3].get_weights()[1]): 3.5223403\n"
     ]
    },
    {
     "name": "stdout",
     "output_type": "stream",
     "text": [
      "--------------------\n",
      "TRAINING STAGE = 6\n",
      "--------------------\n",
      "   conv_0 --> True\n",
      "   maxpooling_0 --> True\n",
      "   conv_1 --> True\n",
      "   maxpooling_1 --> True\n",
      "   first_1x1_conv --> True\n",
      "   second_1x1_conv --> True\n",
      "   prototype --> True\n",
      "   final_weights --> False\n",
      "learning rate = 0.001\n",
      "Training the model...\n",
      "Epoch 1/10\n",
      "30/30 [==============================] - 4s 108ms/step - loss: 0.2392 - sparse_categorical_accuracy: 0.9425 - cluster_cost: 0.0032 - separation_cost: 0.0033 - l1_weights_cost: 0.0749 - val_loss: 0.2353 - val_sparse_categorical_accuracy: 0.9458 - val_cluster_cost: 0.0057 - val_separation_cost: 0.0077 - val_l1_weights_cost: 0.0749\n",
      "Epoch 2/10\n",
      "30/30 [==============================] - 3s 103ms/step - loss: 0.1813 - sparse_categorical_accuracy: 0.9688 - cluster_cost: 0.0062 - separation_cost: 0.0082 - l1_weights_cost: 0.0749 - val_loss: 0.2322 - val_sparse_categorical_accuracy: 0.9458 - val_cluster_cost: 0.0053 - val_separation_cost: 0.0072 - val_l1_weights_cost: 0.0749\n",
      "Epoch 3/10\n",
      "30/30 [==============================] - 3s 102ms/step - loss: 0.1645 - sparse_categorical_accuracy: 0.9750 - cluster_cost: 0.0044 - separation_cost: 0.0062 - l1_weights_cost: 0.0749 - val_loss: 0.2232 - val_sparse_categorical_accuracy: 0.9625 - val_cluster_cost: 0.0043 - val_separation_cost: 0.0058 - val_l1_weights_cost: 0.0749\n",
      "Epoch 4/10\n",
      "30/30 [==============================] - 3s 101ms/step - loss: 0.1573 - sparse_categorical_accuracy: 0.9740 - cluster_cost: 0.0034 - separation_cost: 0.0049 - l1_weights_cost: 0.0749 - val_loss: 0.2194 - val_sparse_categorical_accuracy: 0.9542 - val_cluster_cost: 0.0031 - val_separation_cost: 0.0046 - val_l1_weights_cost: 0.0749\n",
      "Epoch 5/10\n",
      "30/30 [==============================] - 3s 102ms/step - loss: 0.1501 - sparse_categorical_accuracy: 0.9781 - cluster_cost: 0.0032 - separation_cost: 0.0045 - l1_weights_cost: 0.0749 - val_loss: 0.2209 - val_sparse_categorical_accuracy: 0.9542 - val_cluster_cost: 0.0031 - val_separation_cost: 0.0044 - val_l1_weights_cost: 0.0749\n",
      "Epoch 6/10\n",
      "30/30 [==============================] - 3s 102ms/step - loss: 0.1433 - sparse_categorical_accuracy: 0.9823 - cluster_cost: 0.0027 - separation_cost: 0.0039 - l1_weights_cost: 0.0749 - val_loss: 0.2129 - val_sparse_categorical_accuracy: 0.9583 - val_cluster_cost: 0.0031 - val_separation_cost: 0.0042 - val_l1_weights_cost: 0.0749\n",
      "Epoch 7/10\n",
      "30/30 [==============================] - 3s 101ms/step - loss: 0.1405 - sparse_categorical_accuracy: 0.9802 - cluster_cost: 0.0027 - separation_cost: 0.0037 - l1_weights_cost: 0.0749 - val_loss: 0.2236 - val_sparse_categorical_accuracy: 0.9667 - val_cluster_cost: 0.0024 - val_separation_cost: 0.0032 - val_l1_weights_cost: 0.0749\n",
      "Epoch 8/10\n",
      "30/30 [==============================] - 3s 101ms/step - loss: 0.1429 - sparse_categorical_accuracy: 0.9823 - cluster_cost: 0.0027 - separation_cost: 0.0037 - l1_weights_cost: 0.0749 - val_loss: 0.2333 - val_sparse_categorical_accuracy: 0.9458 - val_cluster_cost: 0.0024 - val_separation_cost: 0.0032 - val_l1_weights_cost: 0.0749\n",
      "Epoch 9/10\n",
      "30/30 [==============================] - 3s 101ms/step - loss: 0.1345 - sparse_categorical_accuracy: 0.9875 - cluster_cost: 0.0027 - separation_cost: 0.0034 - l1_weights_cost: 0.0749 - val_loss: 0.2242 - val_sparse_categorical_accuracy: 0.9500 - val_cluster_cost: 0.0025 - val_separation_cost: 0.0031 - val_l1_weights_cost: 0.0749\n",
      "Epoch 10/10\n",
      "30/30 [==============================] - 3s 116ms/step - loss: 0.1326 - sparse_categorical_accuracy: 0.9854 - cluster_cost: 0.0024 - separation_cost: 0.0031 - l1_weights_cost: 0.0749 - val_loss: 0.2310 - val_sparse_categorical_accuracy: 0.9667 - val_cluster_cost: 0.0022 - val_separation_cost: 0.0024 - val_l1_weights_cost: 0.0749\n",
      "Training complete.\n",
      "\n",
      "saving model and weights to ./saved_models/quadrants_testcase/model_quadrants_testcase_stage6\n",
      "INFO:tensorflow:Assets written to: ./saved_models/quadrants_testcase/model_quadrants_testcase_stage6/assets\n",
      "--------------------\n",
      "TRAINING STAGE = 7\n",
      "--------------------\n",
      "Running Prototype Push\n",
      "1/1 [==============================] - 1s 661ms/step\n"
     ]
    },
    {
     "name": "stderr",
     "output_type": "stream",
     "text": [
      "ic| np.min(model.layers[-3].get_weights()[1]): -0.6448027\n",
      "    np.max(model.layers[-3].get_weights()[1]): 3.5722928\n"
     ]
    },
    {
     "name": "stdout",
     "output_type": "stream",
     "text": [
      "Performing push of prototypes.\n",
      "Push complete.\n",
      "\n",
      "   conv_0 --> False\n",
      "   maxpooling_0 --> False\n",
      "   conv_1 --> False\n",
      "   maxpooling_1 --> False\n",
      "   first_1x1_conv --> False\n",
      "   second_1x1_conv --> False\n",
      "   prototype --> False\n",
      "   final_weights --> True\n",
      "learning rate = 0.001\n",
      "Training the model...\n",
      "Epoch 1/10\n",
      "30/30 [==============================] - 2s 38ms/step - loss: 0.1326 - sparse_categorical_accuracy: 0.9717 - cluster_cost: 1.8616e-04 - separation_cost: 4.1707e-05 - l1_weights_cost: 0.0479 - val_loss: 0.2792 - val_sparse_categorical_accuracy: 0.9500 - val_cluster_cost: 2.3651e-04 - val_separation_cost: 4.9591e-05 - val_l1_weights_cost: 0.0464\n",
      "Epoch 2/10\n",
      "30/30 [==============================] - 1s 32ms/step - loss: 0.1250 - sparse_categorical_accuracy: 0.9719 - cluster_cost: 1.8616e-04 - separation_cost: 4.1707e-05 - l1_weights_cost: 0.0430 - val_loss: 0.2726 - val_sparse_categorical_accuracy: 0.9500 - val_cluster_cost: 2.3651e-04 - val_separation_cost: 4.9591e-05 - val_l1_weights_cost: 0.0404\n",
      "Epoch 3/10\n",
      "30/30 [==============================] - 1s 34ms/step - loss: 0.1253 - sparse_categorical_accuracy: 0.9719 - cluster_cost: 1.8616e-04 - separation_cost: 4.1707e-05 - l1_weights_cost: 0.0427 - val_loss: 0.2782 - val_sparse_categorical_accuracy: 0.9500 - val_cluster_cost: 2.3651e-04 - val_separation_cost: 4.9591e-05 - val_l1_weights_cost: 0.0472\n",
      "Epoch 4/10\n",
      "30/30 [==============================] - 1s 34ms/step - loss: 0.1273 - sparse_categorical_accuracy: 0.9729 - cluster_cost: 1.8616e-04 - separation_cost: 4.1707e-05 - l1_weights_cost: 0.0454 - val_loss: 0.2751 - val_sparse_categorical_accuracy: 0.9583 - val_cluster_cost: 2.3651e-04 - val_separation_cost: 4.9591e-05 - val_l1_weights_cost: 0.0465\n",
      "Epoch 5/10\n",
      "30/30 [==============================] - 1s 35ms/step - loss: 0.1272 - sparse_categorical_accuracy: 0.9719 - cluster_cost: 1.8616e-04 - separation_cost: 4.1707e-05 - l1_weights_cost: 0.0433 - val_loss: 0.2761 - val_sparse_categorical_accuracy: 0.9417 - val_cluster_cost: 2.3651e-04 - val_separation_cost: 4.9591e-05 - val_l1_weights_cost: 0.0384\n",
      "Epoch 6/10\n",
      "30/30 [==============================] - 1s 34ms/step - loss: 0.1218 - sparse_categorical_accuracy: 0.9719 - cluster_cost: 1.8616e-04 - separation_cost: 4.1707e-05 - l1_weights_cost: 0.0402 - val_loss: 0.2725 - val_sparse_categorical_accuracy: 0.9542 - val_cluster_cost: 2.3651e-04 - val_separation_cost: 4.9591e-05 - val_l1_weights_cost: 0.0423\n",
      "Epoch 7/10\n",
      "30/30 [==============================] - 1s 38ms/step - loss: 0.1202 - sparse_categorical_accuracy: 0.9729 - cluster_cost: 1.8616e-04 - separation_cost: 4.1707e-05 - l1_weights_cost: 0.0401 - val_loss: 0.2695 - val_sparse_categorical_accuracy: 0.9542 - val_cluster_cost: 2.3651e-04 - val_separation_cost: 4.9591e-05 - val_l1_weights_cost: 0.0388\n",
      "Epoch 8/10\n",
      "30/30 [==============================] - 1s 40ms/step - loss: 0.1229 - sparse_categorical_accuracy: 0.9740 - cluster_cost: 1.8616e-04 - separation_cost: 4.1707e-05 - l1_weights_cost: 0.0407 - val_loss: 0.2706 - val_sparse_categorical_accuracy: 0.9542 - val_cluster_cost: 2.3651e-04 - val_separation_cost: 4.9591e-05 - val_l1_weights_cost: 0.0399\n",
      "Epoch 9/10\n",
      "30/30 [==============================] - 1s 37ms/step - loss: 0.1219 - sparse_categorical_accuracy: 0.9708 - cluster_cost: 1.8616e-04 - separation_cost: 4.1707e-05 - l1_weights_cost: 0.0396 - val_loss: 0.2714 - val_sparse_categorical_accuracy: 0.9500 - val_cluster_cost: 2.3651e-04 - val_separation_cost: 4.9591e-05 - val_l1_weights_cost: 0.0409\n",
      "Epoch 10/10\n",
      "30/30 [==============================] - 1s 33ms/step - loss: 0.1228 - sparse_categorical_accuracy: 0.9729 - cluster_cost: 1.8616e-04 - separation_cost: 4.1707e-05 - l1_weights_cost: 0.0413 - val_loss: 0.2694 - val_sparse_categorical_accuracy: 0.9542 - val_cluster_cost: 2.3651e-04 - val_separation_cost: 4.9591e-05 - val_l1_weights_cost: 0.0411\n",
      "Training complete.\n",
      "\n",
      "saving model and weights to ./saved_models/quadrants_testcase/model_quadrants_testcase_stage7\n",
      "INFO:tensorflow:Assets written to: ./saved_models/quadrants_testcase/model_quadrants_testcase_stage7/assets\n"
     ]
    },
    {
     "name": "stderr",
     "output_type": "stream",
     "text": [
      "ic| np.min(model.layers[-3].get_weights()[1]): -0.6448027\n",
      "    np.max(model.layers[-3].get_weights()[1]): 3.5722928\n"
     ]
    },
    {
     "name": "stdout",
     "output_type": "stream",
     "text": [
      "--------------------\n",
      "TRAINING STAGE = 8\n",
      "--------------------\n",
      "   conv_0 --> True\n",
      "   maxpooling_0 --> True\n",
      "   conv_1 --> True\n",
      "   maxpooling_1 --> True\n",
      "   first_1x1_conv --> True\n",
      "   second_1x1_conv --> True\n",
      "   prototype --> True\n",
      "   final_weights --> False\n",
      "learning rate = 1e-04\n",
      "Training the model...\n",
      "Epoch 1/10\n",
      "30/30 [==============================] - 4s 108ms/step - loss: 0.1161 - sparse_categorical_accuracy: 0.9708 - cluster_cost: 3.1230e-04 - separation_cost: 9.7656e-05 - l1_weights_cost: 0.0411 - val_loss: 0.2648 - val_sparse_categorical_accuracy: 0.9458 - val_cluster_cost: 4.6921e-04 - val_separation_cost: 2.1744e-04 - val_l1_weights_cost: 0.0411\n",
      "Epoch 2/10\n",
      "30/30 [==============================] - 3s 104ms/step - loss: 0.1056 - sparse_categorical_accuracy: 0.9812 - cluster_cost: 7.5073e-04 - separation_cost: 6.2663e-04 - l1_weights_cost: 0.0411 - val_loss: 0.2589 - val_sparse_categorical_accuracy: 0.9417 - val_cluster_cost: 9.1934e-04 - val_separation_cost: 8.8501e-04 - val_l1_weights_cost: 0.0411\n",
      "Epoch 3/10\n",
      "30/30 [==============================] - 3s 106ms/step - loss: 0.1022 - sparse_categorical_accuracy: 0.9833 - cluster_cost: 0.0010 - separation_cost: 8.3211e-04 - l1_weights_cost: 0.0411 - val_loss: 0.2526 - val_sparse_categorical_accuracy: 0.9500 - val_cluster_cost: 0.0011 - val_separation_cost: 9.7656e-04 - val_l1_weights_cost: 0.0411\n",
      "Epoch 4/10\n",
      "30/30 [==============================] - 3s 99ms/step - loss: 0.1008 - sparse_categorical_accuracy: 0.9844 - cluster_cost: 0.0013 - separation_cost: 0.0010 - l1_weights_cost: 0.0411 - val_loss: 0.2497 - val_sparse_categorical_accuracy: 0.9500 - val_cluster_cost: 0.0012 - val_separation_cost: 0.0012 - val_l1_weights_cost: 0.0411\n",
      "Epoch 5/10\n",
      "30/30 [==============================] - 3s 97ms/step - loss: 0.0988 - sparse_categorical_accuracy: 0.9844 - cluster_cost: 0.0014 - separation_cost: 0.0012 - l1_weights_cost: 0.0411 - val_loss: 0.2448 - val_sparse_categorical_accuracy: 0.9500 - val_cluster_cost: 0.0015 - val_separation_cost: 0.0014 - val_l1_weights_cost: 0.0411\n",
      "Epoch 6/10\n",
      "30/30 [==============================] - 3s 102ms/step - loss: 0.0970 - sparse_categorical_accuracy: 0.9854 - cluster_cost: 0.0016 - separation_cost: 0.0014 - l1_weights_cost: 0.0411 - val_loss: 0.2428 - val_sparse_categorical_accuracy: 0.9500 - val_cluster_cost: 0.0016 - val_separation_cost: 0.0015 - val_l1_weights_cost: 0.0411\n",
      "Epoch 7/10\n",
      "30/30 [==============================] - 3s 108ms/step - loss: 0.0965 - sparse_categorical_accuracy: 0.9854 - cluster_cost: 0.0017 - separation_cost: 0.0014 - l1_weights_cost: 0.0411 - val_loss: 0.2425 - val_sparse_categorical_accuracy: 0.9500 - val_cluster_cost: 0.0016 - val_separation_cost: 0.0015 - val_l1_weights_cost: 0.0411\n",
      "Epoch 8/10\n",
      "30/30 [==============================] - 3s 101ms/step - loss: 0.0950 - sparse_categorical_accuracy: 0.9875 - cluster_cost: 0.0017 - separation_cost: 0.0015 - l1_weights_cost: 0.0411 - val_loss: 0.2403 - val_sparse_categorical_accuracy: 0.9500 - val_cluster_cost: 0.0017 - val_separation_cost: 0.0015 - val_l1_weights_cost: 0.0411\n",
      "Epoch 9/10\n",
      "30/30 [==============================] - 3s 102ms/step - loss: 0.0941 - sparse_categorical_accuracy: 0.9875 - cluster_cost: 0.0017 - separation_cost: 0.0015 - l1_weights_cost: 0.0411 - val_loss: 0.2403 - val_sparse_categorical_accuracy: 0.9500 - val_cluster_cost: 0.0016 - val_separation_cost: 0.0015 - val_l1_weights_cost: 0.0411\n",
      "Epoch 10/10\n",
      "30/30 [==============================] - 3s 100ms/step - loss: 0.0935 - sparse_categorical_accuracy: 0.9875 - cluster_cost: 0.0017 - separation_cost: 0.0015 - l1_weights_cost: 0.0411 - val_loss: 0.2379 - val_sparse_categorical_accuracy: 0.9500 - val_cluster_cost: 0.0016 - val_separation_cost: 0.0015 - val_l1_weights_cost: 0.0411\n",
      "Training complete.\n",
      "\n",
      "saving model and weights to ./saved_models/quadrants_testcase/model_quadrants_testcase_stage8\n",
      "INFO:tensorflow:Assets written to: ./saved_models/quadrants_testcase/model_quadrants_testcase_stage8/assets\n",
      "--------------------\n",
      "TRAINING STAGE = 9\n",
      "--------------------\n",
      "Running Prototype Push\n",
      "WARNING:tensorflow:5 out of the last 5 calls to <function Model.make_predict_function.<locals>.predict_function at 0x7ff791cc6820> triggered tf.function retracing. Tracing is expensive and the excessive number of tracings could be due to (1) creating @tf.function repeatedly in a loop, (2) passing tensors with different shapes, (3) passing Python objects instead of tensors. For (1), please define your @tf.function outside of the loop. For (2), @tf.function has experimental_relax_shapes=True option that relaxes argument shapes that can avoid unnecessary retracing. For (3), please refer to https://www.tensorflow.org/guide/function#controlling_retracing and https://www.tensorflow.org/api_docs/python/tf/function for  more details.\n",
      "1/1 [==============================] - 1s 648ms/step\n"
     ]
    },
    {
     "name": "stderr",
     "output_type": "stream",
     "text": [
      "ic| np.min(model.layers[-3].get_weights()[1]): -0.6448027\n",
      "    np.max(model.layers[-3].get_weights()[1]): 3.576061\n"
     ]
    },
    {
     "name": "stdout",
     "output_type": "stream",
     "text": [
      "Performing push of prototypes.\n",
      "Push complete.\n",
      "\n",
      "   conv_0 --> False\n",
      "   maxpooling_0 --> False\n",
      "   conv_1 --> False\n",
      "   maxpooling_1 --> False\n",
      "   first_1x1_conv --> False\n",
      "   second_1x1_conv --> False\n",
      "   prototype --> False\n",
      "   final_weights --> True\n",
      "learning rate = 1e-04\n",
      "Training the model...\n",
      "Epoch 1/10\n",
      "30/30 [==============================] - 2s 39ms/step - loss: 0.1055 - sparse_categorical_accuracy: 0.9758 - cluster_cost: 1.3326e-04 - separation_cost: 2.1362e-05 - l1_weights_cost: 0.0368 - val_loss: 0.2729 - val_sparse_categorical_accuracy: 0.9417 - val_cluster_cost: 1.2589e-04 - val_separation_cost: 1.9073e-05 - val_l1_weights_cost: 0.0353\n",
      "Epoch 2/10\n",
      "30/30 [==============================] - 1s 33ms/step - loss: 0.1033 - sparse_categorical_accuracy: 0.9812 - cluster_cost: 1.3326e-04 - separation_cost: 2.1362e-05 - l1_weights_cost: 0.0349 - val_loss: 0.2724 - val_sparse_categorical_accuracy: 0.9417 - val_cluster_cost: 1.2589e-04 - val_separation_cost: 1.9073e-05 - val_l1_weights_cost: 0.0347\n",
      "Epoch 3/10\n",
      "30/30 [==============================] - 1s 33ms/step - loss: 0.1030 - sparse_categorical_accuracy: 0.9812 - cluster_cost: 1.3326e-04 - separation_cost: 2.1362e-05 - l1_weights_cost: 0.0345 - val_loss: 0.2721 - val_sparse_categorical_accuracy: 0.9417 - val_cluster_cost: 1.2589e-04 - val_separation_cost: 1.9073e-05 - val_l1_weights_cost: 0.0344\n",
      "Epoch 4/10\n",
      "30/30 [==============================] - 1s 33ms/step - loss: 0.1032 - sparse_categorical_accuracy: 0.9812 - cluster_cost: 1.3326e-04 - separation_cost: 2.1362e-05 - l1_weights_cost: 0.0343 - val_loss: 0.2719 - val_sparse_categorical_accuracy: 0.9458 - val_cluster_cost: 1.2589e-04 - val_separation_cost: 1.9073e-05 - val_l1_weights_cost: 0.0341\n",
      "Epoch 5/10\n",
      "30/30 [==============================] - 1s 32ms/step - loss: 0.1027 - sparse_categorical_accuracy: 0.9802 - cluster_cost: 1.3326e-04 - separation_cost: 2.1362e-05 - l1_weights_cost: 0.0341 - val_loss: 0.2717 - val_sparse_categorical_accuracy: 0.9458 - val_cluster_cost: 1.2589e-04 - val_separation_cost: 1.9073e-05 - val_l1_weights_cost: 0.0341\n",
      "Epoch 6/10\n",
      "30/30 [==============================] - 1s 33ms/step - loss: 0.1020 - sparse_categorical_accuracy: 0.9812 - cluster_cost: 1.3326e-04 - separation_cost: 2.1362e-05 - l1_weights_cost: 0.0336 - val_loss: 0.2717 - val_sparse_categorical_accuracy: 0.9417 - val_cluster_cost: 1.2589e-04 - val_separation_cost: 1.9073e-05 - val_l1_weights_cost: 0.0336\n",
      "Epoch 7/10\n",
      "30/30 [==============================] - 1s 32ms/step - loss: 0.1021 - sparse_categorical_accuracy: 0.9802 - cluster_cost: 1.3326e-04 - separation_cost: 2.1362e-05 - l1_weights_cost: 0.0334 - val_loss: 0.2718 - val_sparse_categorical_accuracy: 0.9417 - val_cluster_cost: 1.2589e-04 - val_separation_cost: 1.9073e-05 - val_l1_weights_cost: 0.0334\n",
      "Epoch 8/10\n",
      "30/30 [==============================] - 1s 32ms/step - loss: 0.1019 - sparse_categorical_accuracy: 0.9802 - cluster_cost: 1.3326e-04 - separation_cost: 2.1362e-05 - l1_weights_cost: 0.0334 - val_loss: 0.2715 - val_sparse_categorical_accuracy: 0.9417 - val_cluster_cost: 1.2589e-04 - val_separation_cost: 1.9073e-05 - val_l1_weights_cost: 0.0336\n",
      "Epoch 9/10\n",
      "30/30 [==============================] - 1s 33ms/step - loss: 0.1018 - sparse_categorical_accuracy: 0.9802 - cluster_cost: 1.3326e-04 - separation_cost: 2.1362e-05 - l1_weights_cost: 0.0335 - val_loss: 0.2715 - val_sparse_categorical_accuracy: 0.9458 - val_cluster_cost: 1.2589e-04 - val_separation_cost: 1.9073e-05 - val_l1_weights_cost: 0.0336\n",
      "Epoch 10/10\n",
      "30/30 [==============================] - 1s 32ms/step - loss: 0.1019 - sparse_categorical_accuracy: 0.9792 - cluster_cost: 1.3326e-04 - separation_cost: 2.1362e-05 - l1_weights_cost: 0.0337 - val_loss: 0.2713 - val_sparse_categorical_accuracy: 0.9417 - val_cluster_cost: 1.2589e-04 - val_separation_cost: 1.9073e-05 - val_l1_weights_cost: 0.0333\n",
      "Training complete.\n",
      "\n",
      "saving model and weights to ./saved_models/quadrants_testcase/model_quadrants_testcase_stage9\n",
      "INFO:tensorflow:Assets written to: ./saved_models/quadrants_testcase/model_quadrants_testcase_stage9/assets\n"
     ]
    }
   ],
   "source": [
    "imp.reload(push_prototypes)\n",
    "NEPOCHS    = settings['nepochs']\n",
    "STAGE_LIST = (0,1,2,3,4,5,6,7,8,9)#range(len(NEPOCHS))#(1,2,3,4,5)#range(len(NEPOCHS))\n",
    "\n",
    "for stage in STAGE_LIST:\n",
    "    \n",
    "    print('--------------------')\n",
    "    print('TRAINING STAGE = ' + str(stage))\n",
    "    print('--------------------')\n",
    "\n",
    "    # load previously trained stage, unless it is the 0th stage\n",
    "    if(stage != 0):\n",
    "        tf.keras.backend.clear_session()\n",
    "        model_filename = model_dir + 'model_' + EXP_NAME + '_stage' + str(stage-1)\n",
    "#         model = common_functions.load_model(model_filename)\n",
    "        model.load_weights(model_filename)\n",
    "        \n",
    "    # learn layers (during even numbered stages)\n",
    "    if(stage % 2 == 0):\n",
    "        # train prototypes layers (and possibly CNN layers)\n",
    "        if(settings['pretrain']==False and settings['train_cnn_in_stage'] == True):\n",
    "            model = network.set_trainable_layers(model, [True,True,True,False])            \n",
    "        elif(settings['train_cnn_in_stage'] == False or stage==0):\n",
    "            model = network.set_trainable_layers(model, [False,True,True,False])\n",
    "        elif(settings['train_cnn_in_stage'] == True):\n",
    "            model = network.set_trainable_layers(model, [True,True,True,False])            \n",
    "        elif(stage >= settings['train_cnn_in_stage']):\n",
    "            model = network.set_trainable_layers(model, [True,True,True,False])            \n",
    "        else:\n",
    "            model = network.set_trainable_layers(model, [False,True,True,False])\n",
    "    else:\n",
    "        #.......................................................\n",
    "        # push the prototypes\n",
    "        #.......................................................        \n",
    "        model, push_info = push_prototypes.push(model, \n",
    "                                                [X_train,prototypes_of_correct_class_train], \n",
    "                                                prototypes_of_correct_class_train, \n",
    "                                                perform_push=True,\n",
    "                                                batch_size=BATCH_SIZE_PREDICT,\n",
    "                                                verbose=False,\n",
    "                                               )        \n",
    "        print('Push complete.\\n')            \n",
    "\n",
    "        # train weights layer only\n",
    "        model = network.set_trainable_layers(model, [False,False,False,True])        \n",
    "\n",
    "    #.......................................................\n",
    "    # compile the model\n",
    "    #.......................................................\n",
    "    if(stage>=settings['cut_lr_stage']):\n",
    "        lr_factor = 10.**(np.floor((stage-settings['cut_lr_stage']+2)/2))\n",
    "    else:\n",
    "        lr_factor = 1.\n",
    "    if(LR_INIT/lr_factor<settings['min_lr']):\n",
    "        lr_factor = LR_INIT/settings['min_lr']\n",
    "    print('learning rate = ' + str(np.asarray(LR_INIT/lr_factor,dtype='float32')))\n",
    "\n",
    "    # compile the model\n",
    "    model.compile(\n",
    "        optimizer=tf.keras.optimizers.Adam(\n",
    "            learning_rate=np.asarray(LR_INIT/lr_factor,dtype='float32'), \n",
    "        ),\n",
    "        loss = tf.keras.losses.SparseCategoricalCrossentropy(from_logits=False),\n",
    "        metrics = metrics_list,\n",
    "    )\n",
    "#     model.summary()\n",
    "    ic(np.min(model.layers[-3].get_weights()[1]),np.max(model.layers[-3].get_weights()[1]))\n",
    "\n",
    "    #.......................................................\n",
    "    # train the model\n",
    "    #.......................................................\n",
    "    print('Training the model...')    \n",
    "    \n",
    "    tf.random.set_seed(RANDOM_SEED)   \n",
    "    np.random.seed(RANDOM_SEED)    \n",
    "    history = model.fit(\n",
    "        [X_train,prototypes_of_correct_class_train],\n",
    "        y_train,\n",
    "        validation_data=([[X_val,prototypes_of_correct_class_val]], [y_val]),\n",
    "        batch_size=BATCH_SIZE,\n",
    "        epochs=NEPOCHS[stage],\n",
    "        shuffle=True,\n",
    "        verbose=1,\n",
    "        callbacks=callbacks_list\n",
    "    )\n",
    "    print('Training complete.\\n')            \n",
    "        \n",
    "\n",
    "    # save the model at this training stage\n",
    "    model_filename = model_dir + 'model_' + EXP_NAME + '_stage' + str(stage)\n",
    "    common_functions.save_model(model, model_filename) \n",
    "    \n",
    "    #.......................................................\n",
    "    # plot results\n",
    "    #.......................................................  \n",
    "    try:\n",
    "        # plot loss history of the model\n",
    "        plots.plot_loss_history(history)\n",
    "        plt.savefig(model_diagnostics_dir + EXP_NAME + '_loss_history_stage' + str(stage) + '.png', dpi=dpiFig)    \n",
    "        plt.close()\n",
    "\n",
    "        # plot the weights\n",
    "        plots.plot_weights(model, PROTOTYPES_PER_CLASS)    \n",
    "        plt.savefig(model_diagnostics_dir + EXP_NAME + '_weights_stage' + str(stage) + '.png', dpi=dpiFig)\n",
    "        plt.close()\n",
    "    except:\n",
    "        print('not making plots...')\n",
    "        plt.close()"
   ]
  },
  {
   "cell_type": "code",
   "execution_count": null,
   "id": "24b663b0-f667-4172-a71a-7344b14b9590",
   "metadata": {},
   "outputs": [],
   "source": []
  }
 ],
 "metadata": {
  "kernelspec": {
   "display_name": "Python 3",
   "language": "python",
   "name": "python3"
  },
  "language_info": {
   "codemirror_mode": {
    "name": "ipython",
    "version": 3
   },
   "file_extension": ".py",
   "mimetype": "text/x-python",
   "name": "python",
   "nbconvert_exporter": "python",
   "pygments_lexer": "ipython3",
   "version": "3.9.4"
  }
 },
 "nbformat": 4,
 "nbformat_minor": 5
}
