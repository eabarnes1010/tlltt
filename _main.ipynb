{
 "cells": [
  {
   "cell_type": "markdown",
   "id": "80f6a48b-bab3-4333-abf3-07711e94b616",
   "metadata": {},
   "source": [
    "# This Looks Like That There\n",
    "\n",
    "Main training notebook."
   ]
  },
  {
   "cell_type": "code",
   "execution_count": 1,
   "id": "36bf3dd4-d4af-4c8c-89f6-67097628c3e8",
   "metadata": {},
   "outputs": [],
   "source": [
    "import os\n",
    "import sys\n",
    "import time\n",
    "import imp #imp.reload(module)\n",
    "\n",
    "import numpy as np\n",
    "from tqdm import trange\n",
    "from icecream import ic\n",
    "\n",
    "import matplotlib.pyplot as plt\n",
    "import matplotlib as mpl\n",
    "import seaborn as sns\n",
    "\n",
    "import tensorflow as tf\n",
    "\n",
    "import network\n",
    "import experiment_settings \n",
    "import data_functions\n",
    "import push_prototypes\n",
    "import plots\n",
    "import common_functions"
   ]
  },
  {
   "cell_type": "code",
   "execution_count": 2,
   "id": "54e0dba3-9a8a-4d45-b00b-7aaface5fe2c",
   "metadata": {},
   "outputs": [],
   "source": [
    "__author__ = \"Elizabeth A. Barnes and Randal J Barnes\"\n",
    "__version__ = \"23 November 2021\""
   ]
  },
  {
   "cell_type": "code",
   "execution_count": 3,
   "id": "18825d5a-a951-4a29-8dbd-1b1956974b6a",
   "metadata": {},
   "outputs": [],
   "source": [
    "mpl.rcParams['figure.facecolor'] = 'white'\n",
    "mpl.rcParams['figure.dpi']= 150\n",
    "dpiFig = 300."
   ]
  },
  {
   "cell_type": "markdown",
   "id": "1ce58c40-dd37-43ea-9ad3-6d6b56b7d166",
   "metadata": {},
   "source": [
    "## Print the detailed system info"
   ]
  },
  {
   "cell_type": "code",
   "execution_count": 4,
   "id": "2e923341-795f-428a-b5bf-d8cafdce1bcf",
   "metadata": {},
   "outputs": [
    {
     "name": "stdout",
     "output_type": "stream",
     "text": [
      "python version = 3.9.4 (default, Apr  9 2021, 09:32:38) \n",
      "[Clang 10.0.0 ]\n",
      "numpy version = 1.20.1\n",
      "tensorflow version = 2.5.0\n"
     ]
    }
   ],
   "source": [
    "print(f\"python version = {sys.version}\")\n",
    "print(f\"numpy version = {np.__version__}\")\n",
    "print(f\"tensorflow version = {tf.__version__}\")"
   ]
  },
  {
   "cell_type": "markdown",
   "id": "7b515327-ece1-478c-9c99-0d3979739cbe",
   "metadata": {},
   "source": [
    "## Define experiment settings and directories"
   ]
  },
  {
   "cell_type": "code",
   "execution_count": 5,
   "id": "0db315d0-951f-4fe1-88b7-168343dfe3f6",
   "metadata": {},
   "outputs": [],
   "source": [
    "EXP_NAME = 'mjo'\n",
    "\n",
    "imp.reload(experiment_settings)\n",
    "settings = experiment_settings.get_settings(EXP_NAME)\n",
    "\n",
    "imp.reload(common_functions)\n",
    "model_dir, model_diagnostics_dir, vizualization_dir = common_functions.get_exp_directories(EXP_NAME)"
   ]
  },
  {
   "cell_type": "markdown",
   "id": "7c333c24-ae7d-43d3-bc87-09fc8e7d8e89",
   "metadata": {},
   "source": [
    "## Define the network parameters"
   ]
  },
  {
   "cell_type": "code",
   "execution_count": 6,
   "id": "3005d411-649b-484a-8c3e-fc23500e11a8",
   "metadata": {},
   "outputs": [],
   "source": [
    "RANDOM_SEED          = settings['random_seed']\n",
    "BATCH_SIZE_PREDICT   = settings['batch_size_predict']\n",
    "BATCH_SIZE           = settings['batch_size']\n",
    "NLAYERS              = settings['nlayers']\n",
    "NFILTERS             = settings['nfilters']   \n",
    "assert(len(NFILTERS)==NLAYERS)\n",
    "\n",
    "NCLASSES             = settings['nclasses']\n",
    "PROTOTYPES_PER_CLASS = settings['prototypes_per_class']\n",
    "NPROTOTYPES          = np.sum(PROTOTYPES_PER_CLASS)\n",
    "\n",
    "NEPOCHS              = settings['nepochs']\n",
    "LR_INIT              = settings['lr']\n",
    "LR_CALLBACK_EPOCH    = settings['lr_cb_epoch']\n",
    "PATIENCE             = 100"
   ]
  },
  {
   "cell_type": "markdown",
   "id": "e8ab2e28-c92f-4c2d-a5d2-96dcfd9625a3",
   "metadata": {},
   "source": [
    "## Initialize"
   ]
  },
  {
   "cell_type": "code",
   "execution_count": 7,
   "id": "eb857807-8efc-485b-8be6-29751f6a4e96",
   "metadata": {},
   "outputs": [],
   "source": [
    "np.random.seed(RANDOM_SEED)\n",
    "rng = np.random.default_rng(RANDOM_SEED)\n",
    "tf.random.set_seed(RANDOM_SEED)"
   ]
  },
  {
   "cell_type": "markdown",
   "id": "521a7140-1796-429f-ad34-1ff25ecca436",
   "metadata": {},
   "source": [
    "## Get and process the data"
   ]
  },
  {
   "cell_type": "code",
   "execution_count": 8,
   "id": "0f94434b-18eb-408a-8810-af9f27cdf522",
   "metadata": {},
   "outputs": [
    {
     "name": "stdout",
     "output_type": "stream",
     "text": [
      "[0 1 2 3 4 5 6 7 8]\n"
     ]
    },
    {
     "name": "stderr",
     "output_type": "stream",
     "text": [
      "ic| years_train: array([1901, 1900, 1979, 1908, 2004, 1920, 1932, 1951, 1985, 1924, 1956,\n",
      "                        1952, 2000, 1996, 1938, 1991, 1973, 1921, 1960, 1977, 1982, 1969,\n",
      "                        1994, 1988, 1998, 1978, 1970, 2003, 2002, 1963, 1997, 1931, 1910,\n",
      "                        1993, 1904, 1942, 1981, 1967, 1966, 1983, 1989, 2006, 1974, 1984,\n",
      "                        1980, 1943, 1934, 1971, 1929, 1930, 1919, 1986, 1914, 1959, 1926,\n",
      "                        1999, 1905, 1975, 1948, 1954, 1925, 1940, 1922, 1936, 1968, 1947,\n",
      "                        1990, 1909, 1939, 1972, 2009, 1944, 1957, 1958, 1928, 1955, 1933,\n",
      "                        1950, 1913, 2005, 1915, 1911, 1987, 1964, 1995, 2001, 1927, 1962,\n",
      "                        1906])\n",
      "ic| years_val: array([1902, 1903, 1907, 1912, 1916, 1917, 1918, 1923, 1935, 1937, 1941,\n",
      "                      1945, 1946, 1949, 1953, 1961, 1965, 1976, 1992, 2007, 2008, 2010])\n",
      "ic| years_test: 2010\n"
     ]
    },
    {
     "name": "stdout",
     "output_type": "stream",
     "text": [
      "raw_data        = (40422, 17, 105, 3)\n",
      "training data   = (32387, 17, 105, 3), (32387,)\n",
      "validation data = (8035, 17, 105, 3), (8035,)\n",
      "test data       = (365, 17, 105, 3), (365,)\n",
      "X_mean          = 0.00029500475989341156\n",
      "X_std           = 1.0281252570023809\n"
     ]
    }
   ],
   "source": [
    "imp.reload(data_functions)\n",
    "DATA_NAME = settings['data_name']\n",
    "DATA_DIR = settings['data_dir']\n",
    "\n",
    "if(EXP_NAME[:3]=='mjo'):\n",
    "\n",
    "    labels, data, lat, lon, time = data_functions.load_mjo_data(DATA_DIR)\n",
    "    X_train, y_train, time_train, X_val, y_val, time_val, X_test, y_test, time_test = data_functions.get_and_process_mjo_data(labels,\n",
    "                                                                                         data,\n",
    "                                                                                         time,\n",
    "                                                                                         rng, \n",
    "                                                                                         colored=settings['colored'],\n",
    "                                                                                         standardize=settings['standardize'],\n",
    "                                                                                         shuffle=settings['shuffle'],\n",
    "                                                                                        )        \n",
    "elif(EXP_NAME[:9]=='quadrants'):\n",
    "    filename = DATA_DIR + DATA_NAME + '.mat'\n",
    "    X_train, y_train, X_val, y_val, X_test, y_test, lat, lon = data_functions.get_and_process_data(filename, \n",
    "                                                                                        rng, \n",
    "                                                                                        colored=settings['colored'],\n",
    "                                                                                        standardize=settings['standardize'],\n",
    "                                                                                        shuffle=settings['shuffle'],\n",
    "                                                                                        )      \n",
    "    "
   ]
  },
  {
   "cell_type": "code",
   "execution_count": 9,
   "id": "8b621855-61ee-4e16-9948-9f2bcf61721e",
   "metadata": {},
   "outputs": [],
   "source": [
    "proto_class_mask = network.createClassIdentity(PROTOTYPES_PER_CLASS)\n",
    "\n",
    "prototypes_of_correct_class_train = np.zeros((len(y_train),NPROTOTYPES))\n",
    "for i in range(0,prototypes_of_correct_class_train.shape[0]):\n",
    "    prototypes_of_correct_class_train[i,:] = proto_class_mask[:,int(y_train[i])]\n",
    "    \n",
    "prototypes_of_correct_class_val   = np.zeros((len(y_val),NPROTOTYPES))    \n",
    "for i in range(0,prototypes_of_correct_class_val.shape[0]):\n",
    "    prototypes_of_correct_class_val[i,:] = proto_class_mask[:,int(y_val[i])]\n",
    "\n",
    "prototypes_of_correct_class_test   = np.zeros((len(y_test),NPROTOTYPES))    \n",
    "for i in range(0,prototypes_of_correct_class_test.shape[0]):\n",
    "    prototypes_of_correct_class_test[i,:] = proto_class_mask[:,int(y_test[i])]\n",
    "    "
   ]
  },
  {
   "cell_type": "markdown",
   "id": "bb2b2787-9d90-4955-90a4-1a6526c918e9",
   "metadata": {},
   "source": [
    "## Define the training callbacks and metrics"
   ]
  },
  {
   "cell_type": "code",
   "execution_count": 10,
   "id": "64ca24eb-ab9c-4db0-82c8-94980521c597",
   "metadata": {},
   "outputs": [],
   "source": [
    "# callbacks\n",
    "def scheduler(epoch, lr):\n",
    "    if epoch < LR_CALLBACK_EPOCH:\n",
    "        return np.round(lr,8)\n",
    "    else:\n",
    "        if(epoch % 2 == 0):\n",
    "            return lr/2.\n",
    "        else:\n",
    "            return lr\n",
    "\n",
    "lr_callback = tf.keras.callbacks.LearningRateScheduler(scheduler, verbose=1)    \n",
    "    \n",
    "es_callback = tf.keras.callbacks.EarlyStopping(\n",
    "    monitor='val_sparse_categorical_accuracy', \n",
    "    mode='max',\n",
    "    patience=settings['patience'], \n",
    "    restore_best_weights=True, \n",
    "    verbose=1\n",
    ")\n",
    "\n",
    "callbacks_list = [\n",
    "#     lr_callback,\n",
    "#     es_callback,\n",
    "]            \n",
    "\n",
    "# metrics\n",
    "metrics_list = [\n",
    "    tf.keras.metrics.SparseCategoricalAccuracy(),\n",
    "]"
   ]
  },
  {
   "cell_type": "markdown",
   "id": "44fa63e6-adc0-40b0-92a1-16dd4cc806f6",
   "metadata": {},
   "source": [
    "## Instantiate the model"
   ]
  },
  {
   "cell_type": "code",
   "execution_count": 11,
   "id": "c87cc2fb-5cf9-4029-824c-c24262ccb729",
   "metadata": {},
   "outputs": [
    {
     "name": "stdout",
     "output_type": "stream",
     "text": [
      "3\n",
      "[16, 16, 16]\n",
      "(17, 105, 3)\n",
      "9\n",
      "[10, 10, 10, 10, 10, 10, 10, 10, 10]\n",
      "30\n",
      "False\n",
      "0.2\n",
      "-0.02\n",
      "0.1\n",
      "-0.5\n",
      "False\n",
      "8\n",
      "64\n",
      "0.0\n",
      "0.0\n",
      "0.0\n",
      "0.0\n",
      "False\n",
      "Model: \"full_model\"\n",
      "__________________________________________________________________________________________________\n",
      "Layer (type)                    Output Shape         Param #     Connected to                     \n",
      "==================================================================================================\n",
      "inputs (InputLayer)             [(None, 17, 105, 3)] 0                                            \n",
      "__________________________________________________________________________________________________\n",
      "conv_0 (Conv2D)                 (None, 17, 105, 16)  448         inputs[0][0]                     \n",
      "__________________________________________________________________________________________________\n",
      "dropout (Dropout)               (None, 17, 105, 16)  0           conv_0[0][0]                     \n",
      "__________________________________________________________________________________________________\n",
      "maxpooling_0 (AveragePooling2D) (None, 8, 52, 16)    0           dropout[0][0]                    \n",
      "__________________________________________________________________________________________________\n",
      "conv_1 (Conv2D)                 (None, 8, 52, 16)    2320        maxpooling_0[0][0]               \n",
      "__________________________________________________________________________________________________\n",
      "dropout_1 (Dropout)             (None, 8, 52, 16)    0           conv_1[0][0]                     \n",
      "__________________________________________________________________________________________________\n",
      "maxpooling_1 (AveragePooling2D) (None, 4, 26, 16)    0           dropout_1[0][0]                  \n",
      "__________________________________________________________________________________________________\n",
      "conv_2 (Conv2D)                 (None, 4, 26, 16)    2320        maxpooling_1[0][0]               \n",
      "__________________________________________________________________________________________________\n",
      "dropout_2 (Dropout)             (None, 4, 26, 16)    0           conv_2[0][0]                     \n",
      "__________________________________________________________________________________________________\n",
      "maxpooling_2 (AveragePooling2D) (None, 2, 13, 16)    0           dropout_2[0][0]                  \n",
      "__________________________________________________________________________________________________\n",
      "first_1x1_conv (Conv2D)         (None, 2, 13, 64)    1088        maxpooling_2[0][0]               \n",
      "__________________________________________________________________________________________________\n",
      "second_1x1_conv (Conv2D)        (None, 2, 13, 64)    4160        first_1x1_conv[0][0]             \n",
      "__________________________________________________________________________________________________\n",
      "prototypes_of_correct_class (In [(None, 90)]         0                                            \n",
      "__________________________________________________________________________________________________\n",
      "prototype (Prototype)           (None, 90)           8100        second_1x1_conv[0][0]            \n",
      "                                                                 prototypes_of_correct_class[0][0]\n",
      "__________________________________________________________________________________________________\n",
      "final_weights (FinalWeights)    (None, 9)            810         prototype[0][0]                  \n",
      "__________________________________________________________________________________________________\n",
      "softmax_output (Softmax)        (None, 9)            0           final_weights[0][0]              \n",
      "==================================================================================================\n",
      "Total params: 19,246\n",
      "Trainable params: 19,246\n",
      "Non-trainable params: 0\n",
      "__________________________________________________________________________________________________\n"
     ]
    }
   ],
   "source": [
    "__ = imp.reload(network)\n",
    "tf.keras.backend.clear_session()\n",
    "\n",
    "model = network.build_model(\n",
    "    nlayers              = NLAYERS,\n",
    "    nfilters             = NFILTERS,\n",
    "    input_shape          = X_train.shape[1:],\n",
    "    output_shape         = NCLASSES,\n",
    "    prototypes_per_class = PROTOTYPES_PER_CLASS,\n",
    "    network_seed         = RANDOM_SEED,    \n",
    "    prototype_channels   = settings['prototype_channels'],    \n",
    "    coeff_cluster        = settings['coeff_cluster'],\n",
    "    coeff_separation     = settings['coeff_separation'],\n",
    "    coeff_l1             = settings['coeff_l1'],\n",
    "    incorrect_strength   = settings['incorrect_strength'],\n",
    "    double_conv          = settings['double_conv'],\n",
    "    kernel_l1_coeff      = 0.0,#settings['kernel_l1_coeff'],\n",
    "    kernel_l2_coeff      = 0.0,#settings['kernel_l2_coeff'],\n",
    "    drop_rate            = 0.0,\n",
    "    drop_rate_final      = 0.0,        \n",
    "    \n",
    ")\n",
    "model.summary()"
   ]
  },
  {
   "cell_type": "markdown",
   "id": "404175a3-bc7c-4f2e-8445-3985983c8458",
   "metadata": {},
   "source": [
    "## Load pre-trained weights into convolutional layers"
   ]
  },
  {
   "cell_type": "code",
   "execution_count": 12,
   "id": "a8dbbe1c-cf25-489c-898a-905a537609af",
   "metadata": {},
   "outputs": [
    {
     "name": "stdout",
     "output_type": "stream",
     "text": [
      "loading pretrained convolutional layers from ./saved_models/mjo/pretrained_model_mjo\n",
      "   loading pretrained weights for --> conv_0\n",
      "   loading pretrained weights for --> conv_1\n",
      "   loading pretrained weights for --> conv_2\n"
     ]
    }
   ],
   "source": [
    "if(settings['pretrain'] == True):\n",
    "\n",
    "    if(settings['pretrain_exp'] is None):\n",
    "        PRETRAINED_MODEL = model_dir + 'pretrained_model_' + EXP_NAME \n",
    "    else:\n",
    "        PRETRAINED_MODEL = './saved_models/' + settings['pretrain_exp'] \n",
    "\n",
    "    print('loading pretrained convolutional layers from ' + PRETRAINED_MODEL)\n",
    "    pretrained_model = tf.keras.models.load_model(PRETRAINED_MODEL)\n",
    "\n",
    "    for layer in range(1,len(model.layers)):\n",
    "        if(model.layers[layer].name[:4]=='conv'):\n",
    "            print('   loading pretrained weights for --> ' + model.layers[layer].name)\n",
    "            model.layers[layer].set_weights(pretrained_model.layers[layer].get_weights())\n",
    "else:\n",
    "    print('no pretrained model specified. keeping random initialized weights.')\n",
    "    "
   ]
  },
  {
   "cell_type": "code",
   "execution_count": 13,
   "id": "b1e13996-3403-43f2-9544-173155b4ecb5",
   "metadata": {},
   "outputs": [],
   "source": [
    "# raise ValueError('here')"
   ]
  },
  {
   "cell_type": "markdown",
   "id": "9ea5c00a-658f-4597-a2fe-57e838c1db8d",
   "metadata": {},
   "source": [
    "***"
   ]
  },
  {
   "cell_type": "markdown",
   "id": "c90b26f9-6628-4c46-b1d3-dda086aa468f",
   "metadata": {},
   "source": [
    "# Run Training Stages"
   ]
  },
  {
   "cell_type": "code",
   "execution_count": 14,
   "id": "8ab06f5d-7264-4ec3-ba4b-b29712e442e5",
   "metadata": {},
   "outputs": [],
   "source": [
    "imp.reload(network)\n",
    "imp.reload(plots)\n",
    "imp.reload(push_prototypes)\n",
    "imp.reload(experiment_settings)\n",
    "settings = experiment_settings.get_settings(EXP_NAME)"
   ]
  },
  {
   "cell_type": "code",
   "execution_count": 15,
   "id": "2e32234e-5283-48e5-8024-d1fd279e80b9",
   "metadata": {},
   "outputs": [
    {
     "name": "stderr",
     "output_type": "stream",
     "text": [
      "ic| np.shape(X_train): (32387, 17, 105, 3)\n",
      "ic| np.shape(prototypes_of_correct_class_train): (32387, 90)\n",
      "ic| np.shape(prototypes_of_correct_class_train): (32387, 90)\n"
     ]
    },
    {
     "data": {
      "text/plain": [
       "(32387, 90)"
      ]
     },
     "execution_count": 15,
     "metadata": {},
     "output_type": "execute_result"
    }
   ],
   "source": [
    "ic(np.shape(X_train))\n",
    "ic(np.shape(prototypes_of_correct_class_train))\n",
    "ic(np.shape(prototypes_of_correct_class_train))"
   ]
  },
  {
   "cell_type": "code",
   "execution_count": 16,
   "id": "933b03cd-4810-4c70-b8fa-3fb05caa3e02",
   "metadata": {},
   "outputs": [
    {
     "name": "stdout",
     "output_type": "stream",
     "text": [
      "--------------------\n",
      "TRAINING STAGE = 0\n",
      "--------------------\n",
      "   conv_0 --> False\n",
      "   maxpooling_0 --> False\n",
      "   conv_1 --> False\n",
      "   maxpooling_1 --> False\n",
      "   conv_2 --> False\n",
      "   maxpooling_2 --> False\n",
      "   first_1x1_conv --> True\n",
      "   second_1x1_conv --> True\n",
      "   prototype --> True\n",
      "   final_weights --> False\n",
      "learning rate = 0.01\n"
     ]
    },
    {
     "name": "stderr",
     "output_type": "stream",
     "text": [
      "ic| np.min(model.layers[-3].get_weights()[1]): 0.0\n",
      "    np.max(model.layers[-3].get_weights()[1]): 0.0\n"
     ]
    },
    {
     "name": "stdout",
     "output_type": "stream",
     "text": [
      "Training the model...\n",
      "Epoch 1/10\n",
      "1013/1013 [==============================] - 13s 12ms/step - loss: 37.5770 - sparse_categorical_accuracy: 0.4273 - cluster_cost: 0.6228 - separation_cost: 0.4787 - l1_weights_cost: 36.0000 - val_loss: 37.3056 - val_sparse_categorical_accuracy: 0.5039 - val_cluster_cost: 0.3394 - val_separation_cost: 0.2674 - val_l1_weights_cost: 36.0000\n",
      "Epoch 2/10\n",
      "1013/1013 [==============================] - 10s 10ms/step - loss: 37.1337 - sparse_categorical_accuracy: 0.5606 - cluster_cost: 0.3210 - separation_cost: 0.2638 - l1_weights_cost: 36.0000 - val_loss: 37.1140 - val_sparse_categorical_accuracy: 0.5735 - val_cluster_cost: 0.3273 - val_separation_cost: 0.2649 - val_l1_weights_cost: 36.0000\n",
      "Epoch 3/10\n",
      "1013/1013 [==============================] - 11s 11ms/step - loss: 37.0668 - sparse_categorical_accuracy: 0.5887 - cluster_cost: 0.3227 - separation_cost: 0.2710 - l1_weights_cost: 36.0000 - val_loss: 37.1007 - val_sparse_categorical_accuracy: 0.5775 - val_cluster_cost: 0.3223 - val_separation_cost: 0.2802 - val_l1_weights_cost: 36.0000\n",
      "Epoch 4/10\n",
      "1013/1013 [==============================] - 11s 11ms/step - loss: 37.0266 - sparse_categorical_accuracy: 0.6077 - cluster_cost: 0.3376 - separation_cost: 0.2797 - l1_weights_cost: 36.0000 - val_loss: 37.0742 - val_sparse_categorical_accuracy: 0.5793 - val_cluster_cost: 0.3236 - val_separation_cost: 0.2697 - val_l1_weights_cost: 36.0000\n",
      "Epoch 5/10\n",
      "1013/1013 [==============================] - 11s 10ms/step - loss: 37.0000 - sparse_categorical_accuracy: 0.6160 - cluster_cost: 0.3314 - separation_cost: 0.2693 - l1_weights_cost: 36.0000 - val_loss: 37.0381 - val_sparse_categorical_accuracy: 0.5922 - val_cluster_cost: 0.3136 - val_separation_cost: 0.2526 - val_l1_weights_cost: 36.0000\n",
      "Epoch 6/10\n",
      "1013/1013 [==============================] - 11s 11ms/step - loss: 36.9698 - sparse_categorical_accuracy: 0.6290 - cluster_cost: 0.3197 - separation_cost: 0.2607 - l1_weights_cost: 36.0000 - val_loss: 37.0010 - val_sparse_categorical_accuracy: 0.6148 - val_cluster_cost: 0.3287 - val_separation_cost: 0.2737 - val_l1_weights_cost: 36.0000\n",
      "Epoch 7/10\n",
      "1013/1013 [==============================] - 11s 11ms/step - loss: 36.9584 - sparse_categorical_accuracy: 0.6307 - cluster_cost: 0.3144 - separation_cost: 0.2566 - l1_weights_cost: 36.0000 - val_loss: 36.9664 - val_sparse_categorical_accuracy: 0.6316 - val_cluster_cost: 0.3197 - val_separation_cost: 0.2627 - val_l1_weights_cost: 36.0000\n",
      "Epoch 8/10\n",
      "1013/1013 [==============================] - 11s 11ms/step - loss: 36.9481 - sparse_categorical_accuracy: 0.6334 - cluster_cost: 0.3184 - separation_cost: 0.2578 - l1_weights_cost: 36.0000 - val_loss: 37.0236 - val_sparse_categorical_accuracy: 0.6068 - val_cluster_cost: 0.3328 - val_separation_cost: 0.2718 - val_l1_weights_cost: 36.0000\n",
      "Epoch 9/10\n",
      "1013/1013 [==============================] - 14s 13ms/step - loss: 36.9363 - sparse_categorical_accuracy: 0.6377 - cluster_cost: 0.3074 - separation_cost: 0.2503 - l1_weights_cost: 36.0000 - val_loss: 37.0206 - val_sparse_categorical_accuracy: 0.6046 - val_cluster_cost: 0.3162 - val_separation_cost: 0.2586 - val_l1_weights_cost: 36.0000\n",
      "Epoch 10/10\n",
      "1013/1013 [==============================] - 11s 11ms/step - loss: 36.9275 - sparse_categorical_accuracy: 0.6454 - cluster_cost: 0.3034 - separation_cost: 0.2472 - l1_weights_cost: 36.0000 - val_loss: 36.9611 - val_sparse_categorical_accuracy: 0.6306 - val_cluster_cost: 0.3106 - val_separation_cost: 0.2552 - val_l1_weights_cost: 36.0000\n",
      "Training complete.\n",
      "\n",
      "saving model and weights to ./saved_models/mjo/model_mjo_stage0\n",
      "INFO:tensorflow:Assets written to: ./saved_models/mjo/model_mjo_stage0/assets\n",
      "--------------------\n",
      "TRAINING STAGE = 1\n",
      "--------------------\n",
      "Running Prototype Push\n",
      "11/11 [==============================] - 1s 117ms/step\n",
      "11/11 [==============================] - 1s 99ms/step\n",
      "11/11 [==============================] - 1s 102ms/step\n"
     ]
    },
    {
     "name": "stderr",
     "output_type": "stream",
     "text": [
      "ic| np.min(model.layers[-3].get_weights()[1]): -3.3630624\n",
      "    np.max(model.layers[-3].get_weights()[1]): 2.9702795\n"
     ]
    },
    {
     "name": "stdout",
     "output_type": "stream",
     "text": [
      "Performing push of prototypes.\n",
      "Push complete.\n",
      "\n",
      "   conv_0 --> False\n",
      "   maxpooling_0 --> False\n",
      "   conv_1 --> False\n",
      "   maxpooling_1 --> False\n",
      "   conv_2 --> False\n",
      "   maxpooling_2 --> False\n",
      "   first_1x1_conv --> False\n",
      "   second_1x1_conv --> False\n",
      "   prototype --> False\n",
      "   final_weights --> True\n",
      "learning rate = 0.01\n",
      "Training the model...\n",
      "Epoch 1/10\n",
      "1013/1013 [==============================] - 8s 7ms/step - loss: 5.4719 - sparse_categorical_accuracy: 0.5235 - cluster_cost: 0.0673 - separation_cost: 0.0290 - l1_weights_cost: 2.7896 - val_loss: 2.2450 - val_sparse_categorical_accuracy: 0.4597 - val_cluster_cost: 0.0688 - val_separation_cost: 0.0304 - val_l1_weights_cost: 0.4915\n",
      "Epoch 2/10\n",
      "1013/1013 [==============================] - 6s 6ms/step - loss: 1.8040 - sparse_categorical_accuracy: 0.5042 - cluster_cost: 0.0674 - separation_cost: 0.0290 - l1_weights_cost: 0.4215 - val_loss: 1.9138 - val_sparse_categorical_accuracy: 0.4630 - val_cluster_cost: 0.0688 - val_separation_cost: 0.0304 - val_l1_weights_cost: 0.4620\n",
      "Epoch 3/10\n",
      "1013/1013 [==============================] - 6s 6ms/step - loss: 1.7646 - sparse_categorical_accuracy: 0.5021 - cluster_cost: 0.0673 - separation_cost: 0.0290 - l1_weights_cost: 0.4142 - val_loss: 2.1715 - val_sparse_categorical_accuracy: 0.4096 - val_cluster_cost: 0.0688 - val_separation_cost: 0.0304 - val_l1_weights_cost: 0.4809\n",
      "Epoch 4/10\n",
      "1013/1013 [==============================] - 6s 6ms/step - loss: 1.7554 - sparse_categorical_accuracy: 0.5037 - cluster_cost: 0.0673 - separation_cost: 0.0290 - l1_weights_cost: 0.4113 - val_loss: 1.8772 - val_sparse_categorical_accuracy: 0.4554 - val_cluster_cost: 0.0688 - val_separation_cost: 0.0304 - val_l1_weights_cost: 0.4123\n",
      "Epoch 5/10\n",
      "1013/1013 [==============================] - 6s 6ms/step - loss: 1.7637 - sparse_categorical_accuracy: 0.5018 - cluster_cost: 0.0674 - separation_cost: 0.0290 - l1_weights_cost: 0.4157 - val_loss: 1.8354 - val_sparse_categorical_accuracy: 0.4579 - val_cluster_cost: 0.0688 - val_separation_cost: 0.0304 - val_l1_weights_cost: 0.3641\n",
      "Epoch 6/10\n",
      "1013/1013 [==============================] - 7s 7ms/step - loss: 1.7564 - sparse_categorical_accuracy: 0.5001 - cluster_cost: 0.0673 - separation_cost: 0.0290 - l1_weights_cost: 0.4079 - val_loss: 2.1248 - val_sparse_categorical_accuracy: 0.3984 - val_cluster_cost: 0.0688 - val_separation_cost: 0.0304 - val_l1_weights_cost: 0.4847\n",
      "Epoch 7/10\n",
      "1013/1013 [==============================] - 6s 6ms/step - loss: 1.7930 - sparse_categorical_accuracy: 0.4963 - cluster_cost: 0.0674 - separation_cost: 0.0290 - l1_weights_cost: 0.4263 - val_loss: 1.8403 - val_sparse_categorical_accuracy: 0.4673 - val_cluster_cost: 0.0688 - val_separation_cost: 0.0304 - val_l1_weights_cost: 0.3991\n",
      "Epoch 8/10\n",
      "1013/1013 [==============================] - 6s 6ms/step - loss: 1.7618 - sparse_categorical_accuracy: 0.4997 - cluster_cost: 0.0673 - separation_cost: 0.0290 - l1_weights_cost: 0.4108 - val_loss: 1.8893 - val_sparse_categorical_accuracy: 0.4617 - val_cluster_cost: 0.0688 - val_separation_cost: 0.0304 - val_l1_weights_cost: 0.3805\n",
      "Epoch 9/10\n",
      "1013/1013 [==============================] - 6s 6ms/step - loss: 1.7664 - sparse_categorical_accuracy: 0.5009 - cluster_cost: 0.0674 - separation_cost: 0.0290 - l1_weights_cost: 0.4160 - val_loss: 1.9448 - val_sparse_categorical_accuracy: 0.4336 - val_cluster_cost: 0.0688 - val_separation_cost: 0.0304 - val_l1_weights_cost: 0.4081\n",
      "Epoch 10/10\n",
      "1013/1013 [==============================] - 6s 6ms/step - loss: 1.7779 - sparse_categorical_accuracy: 0.4975 - cluster_cost: 0.0673 - separation_cost: 0.0290 - l1_weights_cost: 0.4193 - val_loss: 2.2436 - val_sparse_categorical_accuracy: 0.4036 - val_cluster_cost: 0.0688 - val_separation_cost: 0.0304 - val_l1_weights_cost: 0.4702\n",
      "Training complete.\n",
      "\n",
      "saving model and weights to ./saved_models/mjo/model_mjo_stage1\n",
      "INFO:tensorflow:Assets written to: ./saved_models/mjo/model_mjo_stage1/assets\n"
     ]
    },
    {
     "name": "stderr",
     "output_type": "stream",
     "text": [
      "ic| np.min(model.layers[-3].get_weights()[1]): -3.3630624\n",
      "    np.max(model.layers[-3].get_weights()[1]): 2.9702795\n"
     ]
    },
    {
     "name": "stdout",
     "output_type": "stream",
     "text": [
      "--------------------\n",
      "TRAINING STAGE = 2\n",
      "--------------------\n",
      "   conv_0 --> True\n",
      "   maxpooling_0 --> True\n",
      "   conv_1 --> True\n",
      "   maxpooling_1 --> True\n",
      "   conv_2 --> True\n",
      "   maxpooling_2 --> True\n",
      "   first_1x1_conv --> True\n",
      "   second_1x1_conv --> True\n",
      "   prototype --> True\n",
      "   final_weights --> False\n",
      "learning rate = 0.01\n",
      "Training the model...\n",
      "Epoch 1/10\n",
      "1013/1013 [==============================] - 28s 27ms/step - loss: 1.5411 - sparse_categorical_accuracy: 0.5426 - cluster_cost: 0.0605 - separation_cost: 0.0275 - l1_weights_cost: 0.4702 - val_loss: 1.4907 - val_sparse_categorical_accuracy: 0.5948 - val_cluster_cost: 0.0339 - val_separation_cost: 0.0172 - val_l1_weights_cost: 0.4702\n",
      "Epoch 2/10\n",
      "1013/1013 [==============================] - 25s 24ms/step - loss: 1.4017 - sparse_categorical_accuracy: 0.6239 - cluster_cost: 0.0370 - separation_cost: 0.0157 - l1_weights_cost: 0.4702 - val_loss: 1.3635 - val_sparse_categorical_accuracy: 0.6382 - val_cluster_cost: 0.0353 - val_separation_cost: 0.0144 - val_l1_weights_cost: 0.4702\n",
      "Epoch 3/10\n",
      "1013/1013 [==============================] - 24s 23ms/step - loss: 1.3550 - sparse_categorical_accuracy: 0.6461 - cluster_cost: 0.0354 - separation_cost: 0.0151 - l1_weights_cost: 0.4702 - val_loss: 1.3710 - val_sparse_categorical_accuracy: 0.6345 - val_cluster_cost: 0.0347 - val_separation_cost: 0.0163 - val_l1_weights_cost: 0.4702\n",
      "Epoch 4/10\n",
      "1013/1013 [==============================] - 25s 25ms/step - loss: 1.3347 - sparse_categorical_accuracy: 0.6542 - cluster_cost: 0.0346 - separation_cost: 0.0152 - l1_weights_cost: 0.4702 - val_loss: 1.4070 - val_sparse_categorical_accuracy: 0.6171 - val_cluster_cost: 0.0366 - val_separation_cost: 0.0149 - val_l1_weights_cost: 0.4702\n",
      "Epoch 5/10\n",
      "1013/1013 [==============================] - 23s 23ms/step - loss: 1.3195 - sparse_categorical_accuracy: 0.6533 - cluster_cost: 0.0334 - separation_cost: 0.0145 - l1_weights_cost: 0.4702 - val_loss: 1.3383 - val_sparse_categorical_accuracy: 0.6465 - val_cluster_cost: 0.0327 - val_separation_cost: 0.0147 - val_l1_weights_cost: 0.4702\n",
      "Epoch 6/10\n",
      "1013/1013 [==============================] - 22s 22ms/step - loss: 1.2842 - sparse_categorical_accuracy: 0.6740 - cluster_cost: 0.0313 - separation_cost: 0.0137 - l1_weights_cost: 0.4702 - val_loss: 1.3224 - val_sparse_categorical_accuracy: 0.6536 - val_cluster_cost: 0.0329 - val_separation_cost: 0.0143 - val_l1_weights_cost: 0.4702\n",
      "Epoch 7/10\n",
      "1013/1013 [==============================] - 23s 23ms/step - loss: 1.2946 - sparse_categorical_accuracy: 0.6675 - cluster_cost: 0.0344 - separation_cost: 0.0153 - l1_weights_cost: 0.4702 - val_loss: 1.2873 - val_sparse_categorical_accuracy: 0.6663 - val_cluster_cost: 0.0335 - val_separation_cost: 0.0145 - val_l1_weights_cost: 0.4702\n",
      "Epoch 8/10\n",
      "1013/1013 [==============================] - 24s 23ms/step - loss: 1.2614 - sparse_categorical_accuracy: 0.6811 - cluster_cost: 0.0310 - separation_cost: 0.0140 - l1_weights_cost: 0.4702 - val_loss: 1.2837 - val_sparse_categorical_accuracy: 0.6606 - val_cluster_cost: 0.0316 - val_separation_cost: 0.0150 - val_l1_weights_cost: 0.4702\n",
      "Epoch 9/10\n",
      "1013/1013 [==============================] - 23s 23ms/step - loss: 1.2480 - sparse_categorical_accuracy: 0.6866 - cluster_cost: 0.0302 - separation_cost: 0.0137 - l1_weights_cost: 0.4702 - val_loss: 1.2799 - val_sparse_categorical_accuracy: 0.6675 - val_cluster_cost: 0.0291 - val_separation_cost: 0.0128 - val_l1_weights_cost: 0.4702\n",
      "Epoch 10/10\n",
      "1013/1013 [==============================] - 24s 23ms/step - loss: 1.2386 - sparse_categorical_accuracy: 0.6878 - cluster_cost: 0.0299 - separation_cost: 0.0137 - l1_weights_cost: 0.4702 - val_loss: 1.2903 - val_sparse_categorical_accuracy: 0.6632 - val_cluster_cost: 0.0298 - val_separation_cost: 0.0140 - val_l1_weights_cost: 0.4702\n",
      "Training complete.\n",
      "\n",
      "saving model and weights to ./saved_models/mjo/model_mjo_stage2\n",
      "INFO:tensorflow:Assets written to: ./saved_models/mjo/model_mjo_stage2/assets\n",
      "--------------------\n",
      "TRAINING STAGE = 3\n",
      "--------------------\n",
      "Running Prototype Push\n",
      "11/11 [==============================] - 1s 104ms/step\n",
      "11/11 [==============================] - 1s 116ms/step\n",
      "11/11 [==============================] - 1s 103ms/step\n"
     ]
    },
    {
     "name": "stderr",
     "output_type": "stream",
     "text": [
      "ic| np.min(model.layers[-3].get_weights()[1]): -5.5390735\n",
      "    np.max(model.layers[-3].get_weights()[1]): 5.6268578\n"
     ]
    },
    {
     "name": "stdout",
     "output_type": "stream",
     "text": [
      "Performing push of prototypes.\n",
      "Push complete.\n",
      "\n",
      "   conv_0 --> False\n",
      "   maxpooling_0 --> False\n",
      "   conv_1 --> False\n",
      "   maxpooling_1 --> False\n",
      "   conv_2 --> False\n",
      "   maxpooling_2 --> False\n",
      "   first_1x1_conv --> False\n",
      "   second_1x1_conv --> False\n",
      "   prototype --> False\n",
      "   final_weights --> True\n",
      "learning rate = 0.01\n",
      "Training the model...\n",
      "Epoch 1/10\n",
      "1013/1013 [==============================] - 7s 6ms/step - loss: 12.1675 - sparse_categorical_accuracy: 0.5695 - cluster_cost: 0.0053 - separation_cost: 8.3695e-04 - l1_weights_cost: 1.7541 - val_loss: 17.4049 - val_sparse_categorical_accuracy: 0.4335 - val_cluster_cost: 0.0057 - val_separation_cost: 9.0737e-04 - val_l1_weights_cost: 1.7122\n",
      "Epoch 2/10\n",
      "1013/1013 [==============================] - 6s 6ms/step - loss: 12.6484 - sparse_categorical_accuracy: 0.5486 - cluster_cost: 0.0053 - separation_cost: 8.3797e-04 - l1_weights_cost: 1.7692 - val_loss: 15.1005 - val_sparse_categorical_accuracy: 0.5306 - val_cluster_cost: 0.0057 - val_separation_cost: 9.0737e-04 - val_l1_weights_cost: 1.8234\n",
      "Epoch 3/10\n",
      "1013/1013 [==============================] - 6s 6ms/step - loss: 12.3113 - sparse_categorical_accuracy: 0.5546 - cluster_cost: 0.0053 - separation_cost: 8.3695e-04 - l1_weights_cost: 1.7441 - val_loss: 12.8171 - val_sparse_categorical_accuracy: 0.5698 - val_cluster_cost: 0.0057 - val_separation_cost: 9.0737e-04 - val_l1_weights_cost: 1.7722\n",
      "Epoch 4/10\n",
      "1013/1013 [==============================] - 6s 6ms/step - loss: 12.4855 - sparse_categorical_accuracy: 0.5478 - cluster_cost: 0.0054 - separation_cost: 8.3884e-04 - l1_weights_cost: 1.7708 - val_loss: 13.6454 - val_sparse_categorical_accuracy: 0.5230 - val_cluster_cost: 0.0057 - val_separation_cost: 9.0737e-04 - val_l1_weights_cost: 1.7639\n",
      "Epoch 5/10\n",
      "1013/1013 [==============================] - 6s 6ms/step - loss: 13.3674 - sparse_categorical_accuracy: 0.5526 - cluster_cost: 0.0054 - separation_cost: 8.3740e-04 - l1_weights_cost: 1.8432 - val_loss: 14.0437 - val_sparse_categorical_accuracy: 0.5146 - val_cluster_cost: 0.0057 - val_separation_cost: 9.0737e-04 - val_l1_weights_cost: 1.7707\n",
      "Epoch 6/10\n",
      "1013/1013 [==============================] - 6s 6ms/step - loss: 12.6754 - sparse_categorical_accuracy: 0.5597 - cluster_cost: 0.0053 - separation_cost: 8.3666e-04 - l1_weights_cost: 1.8114 - val_loss: 16.1939 - val_sparse_categorical_accuracy: 0.4978 - val_cluster_cost: 0.0057 - val_separation_cost: 9.0737e-04 - val_l1_weights_cost: 1.8409\n",
      "Epoch 7/10\n",
      "1013/1013 [==============================] - 6s 6ms/step - loss: 12.9625 - sparse_categorical_accuracy: 0.5522 - cluster_cost: 0.0054 - separation_cost: 8.3709e-04 - l1_weights_cost: 1.8090 - val_loss: 15.7883 - val_sparse_categorical_accuracy: 0.5335 - val_cluster_cost: 0.0057 - val_separation_cost: 9.0737e-04 - val_l1_weights_cost: 2.0387\n",
      "Epoch 8/10\n",
      "1013/1013 [==============================] - 7s 7ms/step - loss: 12.6468 - sparse_categorical_accuracy: 0.5585 - cluster_cost: 0.0053 - separation_cost: 8.3666e-04 - l1_weights_cost: 1.8133 - val_loss: 23.6095 - val_sparse_categorical_accuracy: 0.4742 - val_cluster_cost: 0.0057 - val_separation_cost: 9.0737e-04 - val_l1_weights_cost: 1.8357\n",
      "Epoch 9/10\n",
      "1013/1013 [==============================] - 6s 6ms/step - loss: 12.1666 - sparse_categorical_accuracy: 0.5567 - cluster_cost: 0.0054 - separation_cost: 8.3769e-04 - l1_weights_cost: 1.7423 - val_loss: 16.8097 - val_sparse_categorical_accuracy: 0.5030 - val_cluster_cost: 0.0057 - val_separation_cost: 9.0737e-04 - val_l1_weights_cost: 1.6261\n",
      "Epoch 10/10\n",
      "1013/1013 [==============================] - 6s 6ms/step - loss: 12.9939 - sparse_categorical_accuracy: 0.5533 - cluster_cost: 0.0054 - separation_cost: 8.3782e-04 - l1_weights_cost: 1.7817 - val_loss: 15.7149 - val_sparse_categorical_accuracy: 0.5195 - val_cluster_cost: 0.0057 - val_separation_cost: 9.0737e-04 - val_l1_weights_cost: 1.7091\n",
      "Training complete.\n",
      "\n",
      "saving model and weights to ./saved_models/mjo/model_mjo_stage3\n",
      "INFO:tensorflow:Assets written to: ./saved_models/mjo/model_mjo_stage3/assets\n"
     ]
    },
    {
     "name": "stderr",
     "output_type": "stream",
     "text": [
      "ic| np.min(model.layers[-3].get_weights()[1]): -5.5390735\n",
      "    np.max(model.layers[-3].get_weights()[1]): 5.6268578\n"
     ]
    },
    {
     "name": "stdout",
     "output_type": "stream",
     "text": [
      "--------------------\n",
      "TRAINING STAGE = 4\n",
      "--------------------\n",
      "   conv_0 --> True\n",
      "   maxpooling_0 --> True\n",
      "   conv_1 --> True\n",
      "   maxpooling_1 --> True\n",
      "   conv_2 --> True\n",
      "   maxpooling_2 --> True\n",
      "   first_1x1_conv --> True\n",
      "   second_1x1_conv --> True\n",
      "   prototype --> True\n",
      "   final_weights --> False\n",
      "learning rate = 0.001\n",
      "Training the model...\n",
      "Epoch 1/10\n",
      "1013/1013 [==============================] - 25s 24ms/step - loss: 3.0439 - sparse_categorical_accuracy: 0.6426 - cluster_cost: 0.0684 - separation_cost: 0.0217 - l1_weights_cost: 1.7091 - val_loss: 2.5546 - val_sparse_categorical_accuracy: 0.6769 - val_cluster_cost: 0.0813 - val_separation_cost: 0.0251 - val_l1_weights_cost: 1.7091\n",
      "Epoch 2/10\n",
      "1013/1013 [==============================] - 23s 23ms/step - loss: 2.4320 - sparse_categorical_accuracy: 0.7200 - cluster_cost: 0.0726 - separation_cost: 0.0215 - l1_weights_cost: 1.7091 - val_loss: 2.4666 - val_sparse_categorical_accuracy: 0.7007 - val_cluster_cost: 0.0660 - val_separation_cost: 0.0203 - val_l1_weights_cost: 1.7091\n",
      "Epoch 3/10\n",
      "1013/1013 [==============================] - 26s 25ms/step - loss: 2.3734 - sparse_categorical_accuracy: 0.7381 - cluster_cost: 0.0569 - separation_cost: 0.0168 - l1_weights_cost: 1.7091 - val_loss: 2.4254 - val_sparse_categorical_accuracy: 0.7199 - val_cluster_cost: 0.0540 - val_separation_cost: 0.0168 - val_l1_weights_cost: 1.7091\n",
      "Epoch 4/10\n",
      "1013/1013 [==============================] - 24s 23ms/step - loss: 2.3434 - sparse_categorical_accuracy: 0.7487 - cluster_cost: 0.0475 - separation_cost: 0.0150 - l1_weights_cost: 1.7091 - val_loss: 2.4013 - val_sparse_categorical_accuracy: 0.7296 - val_cluster_cost: 0.0429 - val_separation_cost: 0.0146 - val_l1_weights_cost: 1.7091\n",
      "Epoch 5/10\n",
      "1013/1013 [==============================] - 25s 24ms/step - loss: 2.3268 - sparse_categorical_accuracy: 0.7557 - cluster_cost: 0.0397 - separation_cost: 0.0143 - l1_weights_cost: 1.7091 - val_loss: 2.3941 - val_sparse_categorical_accuracy: 0.7283 - val_cluster_cost: 0.0366 - val_separation_cost: 0.0135 - val_l1_weights_cost: 1.7091\n",
      "Epoch 6/10\n",
      "1013/1013 [==============================] - 25s 24ms/step - loss: 2.3149 - sparse_categorical_accuracy: 0.7572 - cluster_cost: 0.0362 - separation_cost: 0.0139 - l1_weights_cost: 1.7091 - val_loss: 2.3719 - val_sparse_categorical_accuracy: 0.7348 - val_cluster_cost: 0.0356 - val_separation_cost: 0.0140 - val_l1_weights_cost: 1.7091\n",
      "Epoch 7/10\n",
      "1013/1013 [==============================] - 24s 24ms/step - loss: 2.3043 - sparse_categorical_accuracy: 0.7646 - cluster_cost: 0.0336 - separation_cost: 0.0135 - l1_weights_cost: 1.7091 - val_loss: 2.3673 - val_sparse_categorical_accuracy: 0.7390 - val_cluster_cost: 0.0329 - val_separation_cost: 0.0134 - val_l1_weights_cost: 1.7091\n",
      "Epoch 8/10\n",
      "1013/1013 [==============================] - 26s 26ms/step - loss: 2.2928 - sparse_categorical_accuracy: 0.7674 - cluster_cost: 0.0315 - separation_cost: 0.0132 - l1_weights_cost: 1.7091 - val_loss: 2.3599 - val_sparse_categorical_accuracy: 0.7415 - val_cluster_cost: 0.0297 - val_separation_cost: 0.0129 - val_l1_weights_cost: 1.7091\n",
      "Epoch 9/10\n",
      "1013/1013 [==============================] - 25s 24ms/step - loss: 2.2833 - sparse_categorical_accuracy: 0.7696 - cluster_cost: 0.0295 - separation_cost: 0.0128 - l1_weights_cost: 1.7091 - val_loss: 2.3555 - val_sparse_categorical_accuracy: 0.7461 - val_cluster_cost: 0.0294 - val_separation_cost: 0.0132 - val_l1_weights_cost: 1.7091\n",
      "Epoch 10/10\n",
      "1013/1013 [==============================] - 26s 26ms/step - loss: 2.2754 - sparse_categorical_accuracy: 0.7725 - cluster_cost: 0.0284 - separation_cost: 0.0128 - l1_weights_cost: 1.7091 - val_loss: 2.3463 - val_sparse_categorical_accuracy: 0.7480 - val_cluster_cost: 0.0282 - val_separation_cost: 0.0126 - val_l1_weights_cost: 1.7091\n",
      "Training complete.\n",
      "\n",
      "saving model and weights to ./saved_models/mjo/model_mjo_stage4\n",
      "INFO:tensorflow:Assets written to: ./saved_models/mjo/model_mjo_stage4/assets\n",
      "--------------------\n",
      "TRAINING STAGE = 5\n",
      "--------------------\n",
      "Running Prototype Push\n",
      "11/11 [==============================] - 1s 98ms/step\n",
      "11/11 [==============================] - 1s 107ms/step\n",
      "11/11 [==============================] - 1s 98ms/step\n"
     ]
    },
    {
     "name": "stderr",
     "output_type": "stream",
     "text": [
      "ic| np.min(model.layers[-3].get_weights()[1]): -5.5548825\n",
      "    np.max(model.layers[-3].get_weights()[1]): 5.704735\n"
     ]
    },
    {
     "name": "stdout",
     "output_type": "stream",
     "text": [
      "Performing push of prototypes.\n",
      "Push complete.\n",
      "\n",
      "   conv_0 --> False\n",
      "   maxpooling_0 --> False\n",
      "   conv_1 --> False\n",
      "   maxpooling_1 --> False\n",
      "   conv_2 --> False\n",
      "   maxpooling_2 --> False\n",
      "   first_1x1_conv --> False\n",
      "   second_1x1_conv --> False\n",
      "   prototype --> False\n",
      "   final_weights --> True\n",
      "learning rate = 0.001\n",
      "Training the model...\n",
      "Epoch 1/10\n",
      "1013/1013 [==============================] - 8s 7ms/step - loss: 2.4543 - sparse_categorical_accuracy: 0.7173 - cluster_cost: 0.0096 - separation_cost: 0.0019 - l1_weights_cost: 0.7318 - val_loss: 2.1331 - val_sparse_categorical_accuracy: 0.6728 - val_cluster_cost: 0.0097 - val_separation_cost: 0.0020 - val_l1_weights_cost: 0.4447\n",
      "Epoch 2/10\n",
      "1013/1013 [==============================] - 6s 6ms/step - loss: 1.5515 - sparse_categorical_accuracy: 0.6990 - cluster_cost: 0.0096 - separation_cost: 0.0019 - l1_weights_cost: 0.3564 - val_loss: 1.5987 - val_sparse_categorical_accuracy: 0.6590 - val_cluster_cost: 0.0097 - val_separation_cost: 0.0020 - val_l1_weights_cost: 0.2954\n",
      "Epoch 3/10\n",
      "1013/1013 [==============================] - 6s 6ms/step - loss: 1.3339 - sparse_categorical_accuracy: 0.6862 - cluster_cost: 0.0096 - separation_cost: 0.0019 - l1_weights_cost: 0.2708 - val_loss: 1.4364 - val_sparse_categorical_accuracy: 0.6586 - val_cluster_cost: 0.0097 - val_separation_cost: 0.0020 - val_l1_weights_cost: 0.2444\n",
      "Epoch 4/10\n",
      "1013/1013 [==============================] - 6s 6ms/step - loss: 1.2426 - sparse_categorical_accuracy: 0.6831 - cluster_cost: 0.0096 - separation_cost: 0.0019 - l1_weights_cost: 0.2331 - val_loss: 1.6091 - val_sparse_categorical_accuracy: 0.6129 - val_cluster_cost: 0.0097 - val_separation_cost: 0.0020 - val_l1_weights_cost: 0.2405\n",
      "Epoch 5/10\n",
      "1013/1013 [==============================] - 6s 6ms/step - loss: 1.2006 - sparse_categorical_accuracy: 0.6819 - cluster_cost: 0.0096 - separation_cost: 0.0019 - l1_weights_cost: 0.2175 - val_loss: 1.3286 - val_sparse_categorical_accuracy: 0.6526 - val_cluster_cost: 0.0097 - val_separation_cost: 0.0020 - val_l1_weights_cost: 0.2123\n",
      "Epoch 6/10\n",
      "1013/1013 [==============================] - 7s 7ms/step - loss: 1.1334 - sparse_categorical_accuracy: 0.6898 - cluster_cost: 0.0096 - separation_cost: 0.0019 - l1_weights_cost: 0.2001 - val_loss: 1.2875 - val_sparse_categorical_accuracy: 0.6483 - val_cluster_cost: 0.0097 - val_separation_cost: 0.0020 - val_l1_weights_cost: 0.2040\n",
      "Epoch 7/10\n",
      "1013/1013 [==============================] - 6s 6ms/step - loss: 1.0954 - sparse_categorical_accuracy: 0.6883 - cluster_cost: 0.0096 - separation_cost: 0.0019 - l1_weights_cost: 0.1889 - val_loss: 1.3159 - val_sparse_categorical_accuracy: 0.6299 - val_cluster_cost: 0.0097 - val_separation_cost: 0.0020 - val_l1_weights_cost: 0.1830\n",
      "Epoch 8/10\n",
      "1013/1013 [==============================] - 6s 6ms/step - loss: 1.0857 - sparse_categorical_accuracy: 0.6875 - cluster_cost: 0.0096 - separation_cost: 0.0019 - l1_weights_cost: 0.1840 - val_loss: 1.3563 - val_sparse_categorical_accuracy: 0.6248 - val_cluster_cost: 0.0097 - val_separation_cost: 0.0020 - val_l1_weights_cost: 0.1883\n",
      "Epoch 9/10\n",
      "1013/1013 [==============================] - 7s 6ms/step - loss: 1.0860 - sparse_categorical_accuracy: 0.6810 - cluster_cost: 0.0096 - separation_cost: 0.0019 - l1_weights_cost: 0.1810 - val_loss: 1.2475 - val_sparse_categorical_accuracy: 0.6494 - val_cluster_cost: 0.0097 - val_separation_cost: 0.0020 - val_l1_weights_cost: 0.1875\n",
      "Epoch 10/10\n",
      "1013/1013 [==============================] - 6s 6ms/step - loss: 1.0728 - sparse_categorical_accuracy: 0.6840 - cluster_cost: 0.0096 - separation_cost: 0.0019 - l1_weights_cost: 0.1780 - val_loss: 1.4004 - val_sparse_categorical_accuracy: 0.6214 - val_cluster_cost: 0.0097 - val_separation_cost: 0.0020 - val_l1_weights_cost: 0.1829\n",
      "Training complete.\n",
      "\n",
      "saving model and weights to ./saved_models/mjo/model_mjo_stage5\n",
      "INFO:tensorflow:Assets written to: ./saved_models/mjo/model_mjo_stage5/assets\n"
     ]
    },
    {
     "name": "stderr",
     "output_type": "stream",
     "text": [
      "ic| np.min(model.layers[-3].get_weights()[1]): -5.5548825\n",
      "    np.max(model.layers[-3].get_weights()[1]): 5.704735\n"
     ]
    },
    {
     "name": "stdout",
     "output_type": "stream",
     "text": [
      "--------------------\n",
      "TRAINING STAGE = 6\n",
      "--------------------\n",
      "   conv_0 --> True\n",
      "   maxpooling_0 --> True\n",
      "   conv_1 --> True\n",
      "   maxpooling_1 --> True\n",
      "   conv_2 --> True\n",
      "   maxpooling_2 --> True\n",
      "   first_1x1_conv --> True\n",
      "   second_1x1_conv --> True\n",
      "   prototype --> True\n",
      "   final_weights --> False\n",
      "learning rate = 1e-04\n",
      "Training the model...\n",
      "Epoch 1/10\n",
      "1013/1013 [==============================] - 26s 25ms/step - loss: 0.8558 - sparse_categorical_accuracy: 0.7170 - cluster_cost: 0.0136 - separation_cost: 0.0031 - l1_weights_cost: 0.1829 - val_loss: 0.8847 - val_sparse_categorical_accuracy: 0.7273 - val_cluster_cost: 0.0136 - val_separation_cost: 0.0033 - val_l1_weights_cost: 0.1829\n",
      "Epoch 2/10\n",
      "1013/1013 [==============================] - 24s 23ms/step - loss: 0.7724 - sparse_categorical_accuracy: 0.7644 - cluster_cost: 0.0120 - separation_cost: 0.0029 - l1_weights_cost: 0.1829 - val_loss: 0.8494 - val_sparse_categorical_accuracy: 0.7373 - val_cluster_cost: 0.0111 - val_separation_cost: 0.0028 - val_l1_weights_cost: 0.1829\n",
      "Epoch 3/10\n",
      "1013/1013 [==============================] - 23s 23ms/step - loss: 0.7502 - sparse_categorical_accuracy: 0.7733 - cluster_cost: 0.0101 - separation_cost: 0.0025 - l1_weights_cost: 0.1829 - val_loss: 0.8291 - val_sparse_categorical_accuracy: 0.7421 - val_cluster_cost: 0.0096 - val_separation_cost: 0.0026 - val_l1_weights_cost: 0.1829\n",
      "Epoch 4/10\n",
      "1013/1013 [==============================] - 23s 22ms/step - loss: 0.7373 - sparse_categorical_accuracy: 0.7782 - cluster_cost: 0.0090 - separation_cost: 0.0024 - l1_weights_cost: 0.1829 - val_loss: 0.8194 - val_sparse_categorical_accuracy: 0.7497 - val_cluster_cost: 0.0086 - val_separation_cost: 0.0024 - val_l1_weights_cost: 0.1829\n",
      "Epoch 5/10\n",
      "1013/1013 [==============================] - 23s 23ms/step - loss: 0.7295 - sparse_categorical_accuracy: 0.7806 - cluster_cost: 0.0082 - separation_cost: 0.0022 - l1_weights_cost: 0.1829 - val_loss: 0.8127 - val_sparse_categorical_accuracy: 0.7518 - val_cluster_cost: 0.0078 - val_separation_cost: 0.0022 - val_l1_weights_cost: 0.1829\n",
      "Epoch 6/10\n",
      "1013/1013 [==============================] - 27s 26ms/step - loss: 0.7236 - sparse_categorical_accuracy: 0.7836 - cluster_cost: 0.0075 - separation_cost: 0.0021 - l1_weights_cost: 0.1829 - val_loss: 0.8088 - val_sparse_categorical_accuracy: 0.7525 - val_cluster_cost: 0.0075 - val_separation_cost: 0.0022 - val_l1_weights_cost: 0.1829\n",
      "Epoch 7/10\n",
      "1013/1013 [==============================] - 30s 30ms/step - loss: 0.7200 - sparse_categorical_accuracy: 0.7836 - cluster_cost: 0.0073 - separation_cost: 0.0021 - l1_weights_cost: 0.1829 - val_loss: 0.8051 - val_sparse_categorical_accuracy: 0.7557 - val_cluster_cost: 0.0072 - val_separation_cost: 0.0021 - val_l1_weights_cost: 0.1829\n",
      "Epoch 8/10\n",
      "1013/1013 [==============================] - 25s 25ms/step - loss: 0.7157 - sparse_categorical_accuracy: 0.7844 - cluster_cost: 0.0069 - separation_cost: 0.0020 - l1_weights_cost: 0.1829 - val_loss: 0.8015 - val_sparse_categorical_accuracy: 0.7552 - val_cluster_cost: 0.0069 - val_separation_cost: 0.0020 - val_l1_weights_cost: 0.1829\n",
      "Epoch 9/10\n",
      "1013/1013 [==============================] - 23s 22ms/step - loss: 0.7130 - sparse_categorical_accuracy: 0.7857 - cluster_cost: 0.0067 - separation_cost: 0.0020 - l1_weights_cost: 0.1829 - val_loss: 0.7993 - val_sparse_categorical_accuracy: 0.7562 - val_cluster_cost: 0.0067 - val_separation_cost: 0.0020 - val_l1_weights_cost: 0.1829\n",
      "Epoch 10/10\n",
      "1013/1013 [==============================] - 24s 23ms/step - loss: 0.7106 - sparse_categorical_accuracy: 0.7872 - cluster_cost: 0.0065 - separation_cost: 0.0019 - l1_weights_cost: 0.1829 - val_loss: 0.7950 - val_sparse_categorical_accuracy: 0.7598 - val_cluster_cost: 0.0065 - val_separation_cost: 0.0019 - val_l1_weights_cost: 0.1829\n",
      "Training complete.\n",
      "\n",
      "saving model and weights to ./saved_models/mjo/model_mjo_stage6\n",
      "INFO:tensorflow:Assets written to: ./saved_models/mjo/model_mjo_stage6/assets\n",
      "--------------------\n",
      "TRAINING STAGE = 7\n",
      "--------------------\n",
      "Running Prototype Push\n",
      "11/11 [==============================] - 1s 99ms/step\n",
      "11/11 [==============================] - 1s 108ms/step\n",
      "11/11 [==============================] - 1s 105ms/step\n"
     ]
    },
    {
     "name": "stderr",
     "output_type": "stream",
     "text": [
      "ic| np.min(model.layers[-3].get_weights()[1]): -5.5549974\n",
      "    np.max(model.layers[-3].get_weights()[1]): 5.7040596\n"
     ]
    },
    {
     "name": "stdout",
     "output_type": "stream",
     "text": [
      "Performing push of prototypes.\n",
      "Push complete.\n",
      "\n",
      "   conv_0 --> False\n",
      "   maxpooling_0 --> False\n",
      "   conv_1 --> False\n",
      "   maxpooling_1 --> False\n",
      "   conv_2 --> False\n",
      "   maxpooling_2 --> False\n",
      "   first_1x1_conv --> False\n",
      "   second_1x1_conv --> False\n",
      "   prototype --> False\n",
      "   final_weights --> True\n",
      "learning rate = 1e-04\n",
      "Training the model...\n",
      "Epoch 1/10\n",
      "1013/1013 [==============================] - 7s 7ms/step - loss: 0.8782 - sparse_categorical_accuracy: 0.7513 - cluster_cost: 0.0039 - separation_cost: 7.5693e-04 - l1_weights_cost: 0.1403 - val_loss: 0.9811 - val_sparse_categorical_accuracy: 0.7246 - val_cluster_cost: 0.0040 - val_separation_cost: 8.0962e-04 - val_l1_weights_cost: 0.1310\n",
      "Epoch 2/10\n",
      "1013/1013 [==============================] - 6s 6ms/step - loss: 0.8285 - sparse_categorical_accuracy: 0.7504 - cluster_cost: 0.0039 - separation_cost: 7.5707e-04 - l1_weights_cost: 0.1253 - val_loss: 0.9601 - val_sparse_categorical_accuracy: 0.7197 - val_cluster_cost: 0.0040 - val_separation_cost: 8.0962e-04 - val_l1_weights_cost: 0.1214\n",
      "Epoch 3/10\n",
      "1013/1013 [==============================] - 6s 6ms/step - loss: 0.8082 - sparse_categorical_accuracy: 0.7505 - cluster_cost: 0.0039 - separation_cost: 7.5693e-04 - l1_weights_cost: 0.1180 - val_loss: 0.9263 - val_sparse_categorical_accuracy: 0.7176 - val_cluster_cost: 0.0040 - val_separation_cost: 8.0962e-04 - val_l1_weights_cost: 0.1115\n",
      "Epoch 4/10\n",
      "1013/1013 [==============================] - 6s 6ms/step - loss: 0.7951 - sparse_categorical_accuracy: 0.7484 - cluster_cost: 0.0039 - separation_cost: 7.5780e-04 - l1_weights_cost: 0.1112 - val_loss: 0.9198 - val_sparse_categorical_accuracy: 0.7230 - val_cluster_cost: 0.0040 - val_separation_cost: 8.0962e-04 - val_l1_weights_cost: 0.1104\n",
      "Epoch 5/10\n",
      "1013/1013 [==============================] - 6s 6ms/step - loss: 0.7867 - sparse_categorical_accuracy: 0.7473 - cluster_cost: 0.0039 - separation_cost: 7.5693e-04 - l1_weights_cost: 0.1074 - val_loss: 0.9298 - val_sparse_categorical_accuracy: 0.7113 - val_cluster_cost: 0.0040 - val_separation_cost: 8.0962e-04 - val_l1_weights_cost: 0.1079\n",
      "Epoch 6/10\n",
      "1013/1013 [==============================] - 6s 6ms/step - loss: 0.7808 - sparse_categorical_accuracy: 0.7481 - cluster_cost: 0.0039 - separation_cost: 7.5649e-04 - l1_weights_cost: 0.1046 - val_loss: 0.9083 - val_sparse_categorical_accuracy: 0.7150 - val_cluster_cost: 0.0040 - val_separation_cost: 8.0962e-04 - val_l1_weights_cost: 0.1044\n",
      "Epoch 7/10\n",
      "1013/1013 [==============================] - 7s 7ms/step - loss: 0.7787 - sparse_categorical_accuracy: 0.7476 - cluster_cost: 0.0039 - separation_cost: 7.5766e-04 - l1_weights_cost: 0.1036 - val_loss: 0.8839 - val_sparse_categorical_accuracy: 0.7138 - val_cluster_cost: 0.0040 - val_separation_cost: 8.0962e-04 - val_l1_weights_cost: 0.1027\n",
      "Epoch 8/10\n",
      "1013/1013 [==============================] - 7s 7ms/step - loss: 0.7709 - sparse_categorical_accuracy: 0.7456 - cluster_cost: 0.0039 - separation_cost: 7.5664e-04 - l1_weights_cost: 0.1012 - val_loss: 0.8762 - val_sparse_categorical_accuracy: 0.7238 - val_cluster_cost: 0.0040 - val_separation_cost: 8.0962e-04 - val_l1_weights_cost: 0.0999\n",
      "Epoch 9/10\n",
      "1013/1013 [==============================] - 6s 6ms/step - loss: 0.7646 - sparse_categorical_accuracy: 0.7473 - cluster_cost: 0.0039 - separation_cost: 7.5737e-04 - l1_weights_cost: 0.0999 - val_loss: 0.8580 - val_sparse_categorical_accuracy: 0.7263 - val_cluster_cost: 0.0040 - val_separation_cost: 8.0962e-04 - val_l1_weights_cost: 0.0985\n",
      "Epoch 10/10\n",
      "1013/1013 [==============================] - 7s 6ms/step - loss: 0.7643 - sparse_categorical_accuracy: 0.7452 - cluster_cost: 0.0039 - separation_cost: 7.5780e-04 - l1_weights_cost: 0.0987 - val_loss: 0.8721 - val_sparse_categorical_accuracy: 0.7177 - val_cluster_cost: 0.0040 - val_separation_cost: 8.0962e-04 - val_l1_weights_cost: 0.0968\n",
      "Training complete.\n",
      "\n",
      "saving model and weights to ./saved_models/mjo/model_mjo_stage7\n",
      "INFO:tensorflow:Assets written to: ./saved_models/mjo/model_mjo_stage7/assets\n"
     ]
    },
    {
     "name": "stderr",
     "output_type": "stream",
     "text": [
      "ic| np.min(model.layers[-3].get_weights()[1]): -5.5549974\n",
      "    np.max(model.layers[-3].get_weights()[1]): 5.7040596\n"
     ]
    },
    {
     "name": "stdout",
     "output_type": "stream",
     "text": [
      "--------------------\n",
      "TRAINING STAGE = 8\n",
      "--------------------\n",
      "   conv_0 --> True\n",
      "   maxpooling_0 --> True\n",
      "   conv_1 --> True\n",
      "   maxpooling_1 --> True\n",
      "   conv_2 --> True\n",
      "   maxpooling_2 --> True\n",
      "   first_1x1_conv --> True\n",
      "   second_1x1_conv --> True\n",
      "   prototype --> True\n",
      "   final_weights --> False\n",
      "learning rate = 1e-05\n",
      "Training the model...\n",
      "Epoch 1/10\n",
      "1013/1013 [==============================] - 26s 24ms/step - loss: 0.7115 - sparse_categorical_accuracy: 0.7527 - cluster_cost: 0.0043 - separation_cost: 8.7273e-04 - l1_weights_cost: 0.0968 - val_loss: 0.7945 - val_sparse_categorical_accuracy: 0.7349 - val_cluster_cost: 0.0045 - val_separation_cost: 0.0010 - val_l1_weights_cost: 0.0968\n",
      "Epoch 2/10\n",
      "1013/1013 [==============================] - 26s 26ms/step - loss: 0.6744 - sparse_categorical_accuracy: 0.7715 - cluster_cost: 0.0047 - separation_cost: 0.0010 - l1_weights_cost: 0.0968 - val_loss: 0.7693 - val_sparse_categorical_accuracy: 0.7400 - val_cluster_cost: 0.0048 - val_separation_cost: 0.0011 - val_l1_weights_cost: 0.0968\n",
      "Epoch 3/10\n",
      "1013/1013 [==============================] - 26s 25ms/step - loss: 0.6609 - sparse_categorical_accuracy: 0.7758 - cluster_cost: 0.0048 - separation_cost: 0.0011 - l1_weights_cost: 0.0968 - val_loss: 0.7559 - val_sparse_categorical_accuracy: 0.7428 - val_cluster_cost: 0.0049 - val_separation_cost: 0.0012 - val_l1_weights_cost: 0.0968\n",
      "Epoch 4/10\n",
      "1013/1013 [==============================] - 25s 25ms/step - loss: 0.6536 - sparse_categorical_accuracy: 0.7768 - cluster_cost: 0.0049 - separation_cost: 0.0012 - l1_weights_cost: 0.0968 - val_loss: 0.7473 - val_sparse_categorical_accuracy: 0.7450 - val_cluster_cost: 0.0050 - val_separation_cost: 0.0012 - val_l1_weights_cost: 0.0968\n",
      "Epoch 5/10\n",
      "1013/1013 [==============================] - 27s 27ms/step - loss: 0.6488 - sparse_categorical_accuracy: 0.7793 - cluster_cost: 0.0049 - separation_cost: 0.0012 - l1_weights_cost: 0.0968 - val_loss: 0.7413 - val_sparse_categorical_accuracy: 0.7481 - val_cluster_cost: 0.0049 - val_separation_cost: 0.0012 - val_l1_weights_cost: 0.0968\n",
      "Epoch 6/10\n",
      "1013/1013 [==============================] - 26s 25ms/step - loss: 0.6451 - sparse_categorical_accuracy: 0.7799 - cluster_cost: 0.0049 - separation_cost: 0.0012 - l1_weights_cost: 0.0968 - val_loss: 0.7371 - val_sparse_categorical_accuracy: 0.7506 - val_cluster_cost: 0.0049 - val_separation_cost: 0.0012 - val_l1_weights_cost: 0.0968\n",
      "Epoch 7/10\n",
      "1013/1013 [==============================] - 28s 28ms/step - loss: 0.6422 - sparse_categorical_accuracy: 0.7809 - cluster_cost: 0.0048 - separation_cost: 0.0012 - l1_weights_cost: 0.0968 - val_loss: 0.7340 - val_sparse_categorical_accuracy: 0.7498 - val_cluster_cost: 0.0048 - val_separation_cost: 0.0012 - val_l1_weights_cost: 0.0968\n",
      "Epoch 8/10\n",
      "1013/1013 [==============================] - 26s 25ms/step - loss: 0.6397 - sparse_categorical_accuracy: 0.7824 - cluster_cost: 0.0048 - separation_cost: 0.0012 - l1_weights_cost: 0.0968 - val_loss: 0.7309 - val_sparse_categorical_accuracy: 0.7508 - val_cluster_cost: 0.0048 - val_separation_cost: 0.0012 - val_l1_weights_cost: 0.0968\n",
      "Epoch 9/10\n",
      "1013/1013 [==============================] - 26s 26ms/step - loss: 0.6375 - sparse_categorical_accuracy: 0.7824 - cluster_cost: 0.0047 - separation_cost: 0.0012 - l1_weights_cost: 0.0968 - val_loss: 0.7287 - val_sparse_categorical_accuracy: 0.7525 - val_cluster_cost: 0.0047 - val_separation_cost: 0.0012 - val_l1_weights_cost: 0.0968\n",
      "Epoch 10/10\n",
      "1013/1013 [==============================] - 26s 26ms/step - loss: 0.6357 - sparse_categorical_accuracy: 0.7831 - cluster_cost: 0.0047 - separation_cost: 0.0012 - l1_weights_cost: 0.0968 - val_loss: 0.7266 - val_sparse_categorical_accuracy: 0.7541 - val_cluster_cost: 0.0047 - val_separation_cost: 0.0012 - val_l1_weights_cost: 0.0968\n",
      "Training complete.\n",
      "\n",
      "saving model and weights to ./saved_models/mjo/model_mjo_stage8\n",
      "INFO:tensorflow:Assets written to: ./saved_models/mjo/model_mjo_stage8/assets\n",
      "--------------------\n",
      "TRAINING STAGE = 9\n",
      "--------------------\n",
      "Running Prototype Push\n",
      "11/11 [==============================] - 1s 100ms/step\n",
      "11/11 [==============================] - 1s 99ms/step\n",
      "11/11 [==============================] - 1s 99ms/step\n"
     ]
    },
    {
     "name": "stderr",
     "output_type": "stream",
     "text": [
      "ic| np.min(model.layers[-3].get_weights()[1]): -5.5549383\n",
      "    np.max(model.layers[-3].get_weights()[1]): 5.706313\n"
     ]
    },
    {
     "name": "stdout",
     "output_type": "stream",
     "text": [
      "Performing push of prototypes.\n",
      "Push complete.\n",
      "\n",
      "   conv_0 --> False\n",
      "   maxpooling_0 --> False\n",
      "   conv_1 --> False\n",
      "   maxpooling_1 --> False\n",
      "   conv_2 --> False\n",
      "   maxpooling_2 --> False\n",
      "   first_1x1_conv --> False\n",
      "   second_1x1_conv --> False\n",
      "   prototype --> False\n",
      "   final_weights --> True\n",
      "learning rate = 1e-05\n",
      "Training the model...\n",
      "Epoch 1/10\n",
      "1013/1013 [==============================] - 7s 7ms/step - loss: 0.7429 - sparse_categorical_accuracy: 0.7542 - cluster_cost: 0.0032 - separation_cost: 6.3923e-04 - l1_weights_cost: 0.0948 - val_loss: 0.8670 - val_sparse_categorical_accuracy: 0.7271 - val_cluster_cost: 0.0033 - val_separation_cost: 6.7898e-04 - val_l1_weights_cost: 0.0941\n",
      "Epoch 2/10\n",
      "1013/1013 [==============================] - 6s 6ms/step - loss: 0.7372 - sparse_categorical_accuracy: 0.7579 - cluster_cost: 0.0032 - separation_cost: 6.3952e-04 - l1_weights_cost: 0.0933 - val_loss: 0.8622 - val_sparse_categorical_accuracy: 0.7289 - val_cluster_cost: 0.0033 - val_separation_cost: 6.7898e-04 - val_l1_weights_cost: 0.0932\n",
      "Epoch 3/10\n",
      "1013/1013 [==============================] - 6s 6ms/step - loss: 0.7351 - sparse_categorical_accuracy: 0.7581 - cluster_cost: 0.0032 - separation_cost: 6.3937e-04 - l1_weights_cost: 0.0931 - val_loss: 0.8632 - val_sparse_categorical_accuracy: 0.7267 - val_cluster_cost: 0.0033 - val_separation_cost: 6.7898e-04 - val_l1_weights_cost: 0.0930\n",
      "Epoch 4/10\n",
      "1013/1013 [==============================] - 7s 7ms/step - loss: 0.7333 - sparse_categorical_accuracy: 0.7580 - cluster_cost: 0.0032 - separation_cost: 6.3981e-04 - l1_weights_cost: 0.0924 - val_loss: 0.8577 - val_sparse_categorical_accuracy: 0.7267 - val_cluster_cost: 0.0033 - val_separation_cost: 6.7898e-04 - val_l1_weights_cost: 0.0922\n",
      "Epoch 5/10\n",
      "1013/1013 [==============================] - 7s 7ms/step - loss: 0.7321 - sparse_categorical_accuracy: 0.7588 - cluster_cost: 0.0032 - separation_cost: 6.3923e-04 - l1_weights_cost: 0.0921 - val_loss: 0.8577 - val_sparse_categorical_accuracy: 0.7291 - val_cluster_cost: 0.0033 - val_separation_cost: 6.7898e-04 - val_l1_weights_cost: 0.0920\n",
      "Epoch 6/10\n",
      "1013/1013 [==============================] - 6s 6ms/step - loss: 0.7314 - sparse_categorical_accuracy: 0.7581 - cluster_cost: 0.0032 - separation_cost: 6.3879e-04 - l1_weights_cost: 0.0917 - val_loss: 0.8566 - val_sparse_categorical_accuracy: 0.7274 - val_cluster_cost: 0.0033 - val_separation_cost: 6.7898e-04 - val_l1_weights_cost: 0.0917\n",
      "Epoch 7/10\n",
      "1013/1013 [==============================] - 6s 6ms/step - loss: 0.7309 - sparse_categorical_accuracy: 0.7578 - cluster_cost: 0.0032 - separation_cost: 6.3981e-04 - l1_weights_cost: 0.0915 - val_loss: 0.8534 - val_sparse_categorical_accuracy: 0.7262 - val_cluster_cost: 0.0033 - val_separation_cost: 6.7898e-04 - val_l1_weights_cost: 0.0913\n",
      "Epoch 8/10\n",
      "1013/1013 [==============================] - 7s 7ms/step - loss: 0.7291 - sparse_categorical_accuracy: 0.7592 - cluster_cost: 0.0032 - separation_cost: 6.3879e-04 - l1_weights_cost: 0.0913 - val_loss: 0.8541 - val_sparse_categorical_accuracy: 0.7274 - val_cluster_cost: 0.0033 - val_separation_cost: 6.7898e-04 - val_l1_weights_cost: 0.0910\n",
      "Epoch 9/10\n",
      "1013/1013 [==============================] - 6s 6ms/step - loss: 0.7291 - sparse_categorical_accuracy: 0.7581 - cluster_cost: 0.0032 - separation_cost: 6.3981e-04 - l1_weights_cost: 0.0910 - val_loss: 0.8499 - val_sparse_categorical_accuracy: 0.7278 - val_cluster_cost: 0.0033 - val_separation_cost: 6.7898e-04 - val_l1_weights_cost: 0.0906\n",
      "Epoch 10/10\n",
      "1013/1013 [==============================] - 6s 6ms/step - loss: 0.7286 - sparse_categorical_accuracy: 0.7576 - cluster_cost: 0.0032 - separation_cost: 6.3996e-04 - l1_weights_cost: 0.0907 - val_loss: 0.8490 - val_sparse_categorical_accuracy: 0.7277 - val_cluster_cost: 0.0033 - val_separation_cost: 6.7898e-04 - val_l1_weights_cost: 0.0902\n",
      "Training complete.\n",
      "\n",
      "saving model and weights to ./saved_models/mjo/model_mjo_stage9\n",
      "INFO:tensorflow:Assets written to: ./saved_models/mjo/model_mjo_stage9/assets\n"
     ]
    }
   ],
   "source": [
    "imp.reload(push_prototypes)\n",
    "NEPOCHS    = settings['nepochs']\n",
    "STAGE_LIST = (0,1,2,3,4,5,6,7,8,9)#range(len(NEPOCHS))#(1,2,3,4,5)#range(len(NEPOCHS))\n",
    "\n",
    "for stage in STAGE_LIST:\n",
    "    \n",
    "    print('--------------------')\n",
    "    print('TRAINING STAGE = ' + str(stage))\n",
    "    print('--------------------')\n",
    "\n",
    "    # load previously trained stage, unless it is the 0th stage\n",
    "    if(stage != 0):\n",
    "        tf.keras.backend.clear_session()\n",
    "        model_filename = model_dir + 'model_' + EXP_NAME + '_stage' + str(stage-1)\n",
    "#         model = common_functions.load_model(model_filename)\n",
    "        model.load_weights(model_filename)\n",
    "        \n",
    "    # learn layers (during even numbered stages)\n",
    "    if(stage % 2 == 0):\n",
    "        # train prototypes layers (and possibly CNN layers)\n",
    "        if(settings['pretrain']==False and settings['train_cnn_in_stage'] == True):\n",
    "            model = network.set_trainable_layers(model, [True,True,True,False])            \n",
    "        elif(settings['train_cnn_in_stage'] == False or stage==0):\n",
    "            model = network.set_trainable_layers(model, [False,True,True,False])\n",
    "        elif(settings['train_cnn_in_stage'] == True):\n",
    "            model = network.set_trainable_layers(model, [True,True,True,False])            \n",
    "        elif(stage >= settings['train_cnn_in_stage']):\n",
    "            model = network.set_trainable_layers(model, [True,True,True,False])            \n",
    "        else:\n",
    "            model = network.set_trainable_layers(model, [False,True,True,False])\n",
    "    else:\n",
    "        #.......................................................\n",
    "        # push the prototypes\n",
    "        #.......................................................        \n",
    "        model, push_info = push_prototypes.push(model, \n",
    "                                                [X_train,prototypes_of_correct_class_train], \n",
    "                                                prototypes_of_correct_class_train, \n",
    "                                                perform_push=True,\n",
    "                                                batch_size=BATCH_SIZE_PREDICT,\n",
    "                                                verbose=False,\n",
    "                                               )        \n",
    "        print('Push complete.\\n')            \n",
    "\n",
    "        # train weights layer only\n",
    "        model = network.set_trainable_layers(model, [False,False,False,True])        \n",
    "\n",
    "    #.......................................................\n",
    "    # compile the model\n",
    "    #.......................................................\n",
    "    if(stage>=settings['cut_lr_stage']):\n",
    "        lr_factor = 10.**(np.floor((stage-settings['cut_lr_stage']+2)/2))\n",
    "    else:\n",
    "        lr_factor = 1.\n",
    "    if(LR_INIT/lr_factor<settings['min_lr']):\n",
    "        lr_factor = LR_INIT/settings['min_lr']\n",
    "    print('learning rate = ' + str(np.asarray(LR_INIT/lr_factor,dtype='float32')))\n",
    "\n",
    "    # compile the model\n",
    "    model.compile(\n",
    "        optimizer=tf.keras.optimizers.Adam(\n",
    "            learning_rate=np.asarray(LR_INIT/lr_factor,dtype='float32'), \n",
    "        ),\n",
    "        loss = tf.keras.losses.SparseCategoricalCrossentropy(from_logits=False),\n",
    "        metrics = metrics_list,\n",
    "    )\n",
    "#     model.summary()\n",
    "    ic(np.min(model.layers[-3].get_weights()[1]),np.max(model.layers[-3].get_weights()[1]))\n",
    "\n",
    "    #.......................................................\n",
    "    # train the model\n",
    "    #.......................................................\n",
    "    print('Training the model...')    \n",
    "    \n",
    "    tf.random.set_seed(RANDOM_SEED)   \n",
    "    np.random.seed(RANDOM_SEED)    \n",
    "    history = model.fit(\n",
    "        [X_train,prototypes_of_correct_class_train],\n",
    "        y_train,\n",
    "        validation_data=([[X_val,prototypes_of_correct_class_val]], [y_val]),\n",
    "        batch_size=BATCH_SIZE,\n",
    "        epochs=NEPOCHS[stage],\n",
    "        shuffle=True,\n",
    "        verbose=1,\n",
    "        callbacks=callbacks_list\n",
    "    )\n",
    "    print('Training complete.\\n')            \n",
    "        \n",
    "\n",
    "    # save the model at this training stage\n",
    "    model_filename = model_dir + 'model_' + EXP_NAME + '_stage' + str(stage)\n",
    "    common_functions.save_model(model, model_filename) \n",
    "    \n",
    "    #.......................................................\n",
    "    # plot results\n",
    "    #.......................................................  \n",
    "    try:\n",
    "        # plot loss history of the model\n",
    "        plots.plot_loss_history(history)\n",
    "        plt.savefig(model_diagnostics_dir + EXP_NAME + '_loss_history_stage' + str(stage) + '.png', dpi=dpiFig)    \n",
    "        plt.close()\n",
    "\n",
    "        # plot the weights\n",
    "        plots.plot_weights(model, PROTOTYPES_PER_CLASS)    \n",
    "        plt.savefig(model_diagnostics_dir + EXP_NAME + '_weights_stage' + str(stage) + '.png', dpi=dpiFig)\n",
    "        plt.close()\n",
    "    except:\n",
    "        print('not making plots...')\n",
    "        plt.close()"
   ]
  },
  {
   "cell_type": "code",
   "execution_count": null,
   "id": "24b663b0-f667-4172-a71a-7344b14b9590",
   "metadata": {},
   "outputs": [],
   "source": []
  }
 ],
 "metadata": {
  "kernelspec": {
   "display_name": "Python 3",
   "language": "python",
   "name": "python3"
  },
  "language_info": {
   "codemirror_mode": {
    "name": "ipython",
    "version": 3
   },
   "file_extension": ".py",
   "mimetype": "text/x-python",
   "name": "python",
   "nbconvert_exporter": "python",
   "pygments_lexer": "ipython3",
   "version": "3.9.4"
  }
 },
 "nbformat": 4,
 "nbformat_minor": 5
}
