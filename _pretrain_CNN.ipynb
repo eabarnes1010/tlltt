{
 "cells": [
  {
   "cell_type": "markdown",
   "id": "80f6a48b-bab3-4333-abf3-07711e94b616",
   "metadata": {},
   "source": [
    "# This Looks Like That There\n",
    "Pretrain CNN Only"
   ]
  },
  {
   "cell_type": "code",
   "execution_count": 1,
   "id": "36bf3dd4-d4af-4c8c-89f6-67097628c3e8",
   "metadata": {},
   "outputs": [],
   "source": [
    "import sys\n",
    "import time\n",
    "import imp #imp.reload(module)\n",
    "\n",
    "import numpy as np\n",
    "from tqdm import trange\n",
    "from icecream import ic\n",
    "import scipy.io as sio\n",
    "\n",
    "import matplotlib.pyplot as plt\n",
    "import matplotlib as mpl\n",
    "import seaborn as sns\n",
    "\n",
    "import tensorflow as tf\n",
    "\n",
    "import network as network\n",
    "import experiment_settings\n",
    "import data_functions\n",
    "import common_functions"
   ]
  },
  {
   "cell_type": "code",
   "execution_count": 2,
   "id": "54e0dba3-9a8a-4d45-b00b-7aaface5fe2c",
   "metadata": {},
   "outputs": [],
   "source": [
    "__author__ = \"Elizabeth A. Barnes and Randal J Barnes\"\n",
    "__version__ = \"1 December 2021\""
   ]
  },
  {
   "cell_type": "code",
   "execution_count": 3,
   "id": "18825d5a-a951-4a29-8dbd-1b1956974b6a",
   "metadata": {},
   "outputs": [],
   "source": [
    "mpl.rcParams['figure.facecolor'] = 'white'\n",
    "mpl.rcParams['figure.dpi']= 150\n",
    "dpiFig = 300."
   ]
  },
  {
   "cell_type": "markdown",
   "id": "1ce58c40-dd37-43ea-9ad3-6d6b56b7d166",
   "metadata": {},
   "source": [
    "## Print the detailed system info"
   ]
  },
  {
   "cell_type": "code",
   "execution_count": 4,
   "id": "2e923341-795f-428a-b5bf-d8cafdce1bcf",
   "metadata": {},
   "outputs": [
    {
     "name": "stdout",
     "output_type": "stream",
     "text": [
      "python version = 3.9.4 (default, Apr  9 2021, 09:32:38) \n",
      "[Clang 10.0.0 ]\n",
      "numpy version = 1.19.5\n",
      "tensorflow version = 2.5.0\n"
     ]
    }
   ],
   "source": [
    "print(f\"python version = {sys.version}\")\n",
    "print(f\"numpy version = {np.__version__}\")\n",
    "print(f\"tensorflow version = {tf.__version__}\")"
   ]
  },
  {
   "cell_type": "markdown",
   "id": "2ef20cf2-528b-42cb-9305-539a768adf6f",
   "metadata": {},
   "source": [
    "## Define experiment settings and directories"
   ]
  },
  {
   "cell_type": "code",
   "execution_count": 5,
   "id": "a52514f7-6609-4cf7-83c7-0b67ebd1108c",
   "metadata": {},
   "outputs": [],
   "source": [
    "EXP_NAME = 'quadrants_testcase'\n",
    "\n",
    "imp.reload(experiment_settings)\n",
    "settings = experiment_settings.get_settings(EXP_NAME)\n",
    "\n",
    "imp.reload(common_functions)\n",
    "model_dir, model_diagnostics_dir, vizualization_dir = common_functions.get_exp_directories(EXP_NAME)"
   ]
  },
  {
   "cell_type": "markdown",
   "id": "7c333c24-ae7d-43d3-bc87-09fc8e7d8e89",
   "metadata": {},
   "source": [
    "## Define the network parameters"
   ]
  },
  {
   "cell_type": "code",
   "execution_count": 6,
   "id": "3005d411-649b-484a-8c3e-fc23500e11a8",
   "metadata": {},
   "outputs": [],
   "source": [
    "RANDOM_SEED          = settings['random_seed']\n",
    "BATCH_SIZE           = settings['batch_size']\n",
    "NLAYERS              = settings['nlayers']\n",
    "NFILTERS             = settings['nfilters']   \n",
    "DOUBLE_CONV          = settings['double_conv']   \n",
    "assert(len(NFILTERS)==NLAYERS)\n",
    "\n",
    "NCLASSES             = settings['nclasses']\n",
    "PROTOTYPES_PER_CLASS = settings['prototypes_per_class']\n",
    "NPROTOTYPES          = np.sum(PROTOTYPES_PER_CLASS)\n",
    "\n",
    "NEPOCHS              = settings['nepochs_pretrain']\n",
    "LR_INIT              = settings['lr_pretrain']\n",
    "LR_CALLBACK_EPOCH    = settings['lr_cb_epoch_pretrain']\n",
    "PATIENCE             = 100"
   ]
  },
  {
   "cell_type": "markdown",
   "id": "e8ab2e28-c92f-4c2d-a5d2-96dcfd9625a3",
   "metadata": {},
   "source": [
    "## Initialize"
   ]
  },
  {
   "cell_type": "code",
   "execution_count": 7,
   "id": "eb857807-8efc-485b-8be6-29751f6a4e96",
   "metadata": {},
   "outputs": [],
   "source": [
    "np.random.seed(RANDOM_SEED)\n",
    "rng = np.random.default_rng(RANDOM_SEED)\n",
    "tf.random.set_seed(RANDOM_SEED)"
   ]
  },
  {
   "cell_type": "markdown",
   "id": "521a7140-1796-429f-ad34-1ff25ecca436",
   "metadata": {},
   "source": [
    "## Get and process the data"
   ]
  },
  {
   "cell_type": "code",
   "execution_count": 8,
   "id": "0f94434b-18eb-408a-8810-af9f27cdf522",
   "metadata": {},
   "outputs": [
    {
     "name": "stdout",
     "output_type": "stream",
     "text": [
      "loading ./data/data_quadrants_testcase.mat\n",
      "shuffling the data before train/validation/test split.\n",
      "raw_data        = (1200, 100, 100, 1)\n",
      "training data   = (960, 100, 100, 1), (960,)\n",
      "validation data = (240, 100, 100, 1), (240,)\n",
      "test data       = (0, 100, 100, 1), (0,)\n",
      "X_mean          = 0.0008956050790393463\n",
      "X_std           = 0.11342437932997024\n"
     ]
    }
   ],
   "source": [
    "imp.reload(data_functions)\n",
    "DATA_NAME = settings['data_name']\n",
    "DATA_DIR = settings['data_dir']\n",
    "\n",
    "if(EXP_NAME[:3]=='mjo'):\n",
    "\n",
    "    labels, data, lat, lon, time = data_functions.load_mjo_data(DATA_DIR)\n",
    "    X_train, y_train, time_train, X_val, y_val, time_val, X_test, y_test, time_test = data_functions.get_and_process_mjo_data(labels,\n",
    "                                                                                         data,\n",
    "                                                                                         time,\n",
    "                                                                                         rng, \n",
    "                                                                                         colored=settings['colored'],\n",
    "                                                                                         standardize=settings['standardize'],\n",
    "                                                                                         shuffle=settings['shuffle'],\n",
    "                                                                                        )        \n",
    "elif(EXP_NAME[:9]=='quadrants'):\n",
    "    filename = DATA_DIR + DATA_NAME + '.mat'\n",
    "    X_train, y_train, X_val, y_val, X_test, y_test, lat, lon = data_functions.get_and_process_data(filename, \n",
    "                                                                                        rng, \n",
    "                                                                                        colored=settings['colored'],\n",
    "                                                                                        standardize=settings['standardize'],\n",
    "                                                                                        shuffle=settings['shuffle'],\n",
    "                                                                                        )      \n",
    "    "
   ]
  },
  {
   "cell_type": "code",
   "execution_count": 9,
   "id": "8b621855-61ee-4e16-9948-9f2bcf61721e",
   "metadata": {},
   "outputs": [],
   "source": [
    "proto_class_mask = network.createClassIdentity(PROTOTYPES_PER_CLASS)\n",
    "\n",
    "prototypes_of_correct_class_train = np.zeros((len(y_train),NPROTOTYPES))\n",
    "for i in range(0,prototypes_of_correct_class_train.shape[0]):\n",
    "    prototypes_of_correct_class_train[i,:] = proto_class_mask[:,int(y_train[i])]\n",
    "    \n",
    "prototypes_of_correct_class_val   = np.zeros((len(y_val),NPROTOTYPES))    \n",
    "for i in range(0,prototypes_of_correct_class_val.shape[0]):\n",
    "    prototypes_of_correct_class_val[i,:] = proto_class_mask[:,int(y_val[i])]\n",
    "\n",
    "prototypes_of_correct_class_test   = np.zeros((len(y_test),NPROTOTYPES))    \n",
    "for i in range(0,prototypes_of_correct_class_test.shape[0]):\n",
    "    prototypes_of_correct_class_test[i,:] = proto_class_mask[:,int(y_test[i])]"
   ]
  },
  {
   "cell_type": "markdown",
   "id": "bb2b2787-9d90-4955-90a4-1a6526c918e9",
   "metadata": {},
   "source": [
    "## Define the training callbacks and metrics"
   ]
  },
  {
   "cell_type": "code",
   "execution_count": 10,
   "id": "64ca24eb-ab9c-4db0-82c8-94980521c597",
   "metadata": {},
   "outputs": [],
   "source": [
    "# callbacks\n",
    "def scheduler(epoch, lr):\n",
    "    if epoch < LR_CALLBACK_EPOCH:\n",
    "        return np.round(lr,8)\n",
    "    else:\n",
    "        if(epoch % 2 == 0):\n",
    "            return lr/2.\n",
    "        else:\n",
    "            return lr\n",
    "\n",
    "lr_callback = tf.keras.callbacks.LearningRateScheduler(scheduler, verbose=1)    \n",
    "    \n",
    "es_callback = tf.keras.callbacks.EarlyStopping(\n",
    "    monitor='val_sparse_categorical_accuracy', \n",
    "    mode='max',\n",
    "    patience=settings['pretrain_patience'], \n",
    "    restore_best_weights=True, \n",
    "    verbose=1\n",
    ")\n",
    "\n",
    "callbacks_list = [\n",
    "#     lr_callback,\n",
    "    es_callback,\n",
    "]            \n",
    "\n",
    "# metrics\n",
    "metrics_list = [\n",
    "    tf.keras.metrics.SparseCategoricalAccuracy(),\n",
    "]"
   ]
  },
  {
   "cell_type": "markdown",
   "id": "44fa63e6-adc0-40b0-92a1-16dd4cc806f6",
   "metadata": {},
   "source": [
    "## Instantiate the model"
   ]
  },
  {
   "cell_type": "code",
   "execution_count": 11,
   "id": "c87cc2fb-5cf9-4029-824c-c24262ccb729",
   "metadata": {},
   "outputs": [
    {
     "name": "stdout",
     "output_type": "stream",
     "text": [
      "2\n",
      "[32, 32]\n",
      "(100, 100, 1)\n",
      "3\n",
      "[5, 5, 5]\n",
      "35\n",
      "False\n",
      "0.0\n",
      "0.0\n",
      "0.0\n",
      "-0.5\n",
      "True\n",
      "64\n",
      "128\n",
      "0.0\n",
      "0.0\n",
      "0.0\n",
      "0.5\n",
      "False\n",
      "Model: \"full_model\"\n",
      "_________________________________________________________________\n",
      "Layer (type)                 Output Shape              Param #   \n",
      "=================================================================\n",
      "inputs (InputLayer)          [(None, 100, 100, 1)]     0         \n",
      "_________________________________________________________________\n",
      "conv_0 (Conv2D)              (None, 100, 100, 32)      320       \n",
      "_________________________________________________________________\n",
      "dropout (Dropout)            (None, 100, 100, 32)      0         \n",
      "_________________________________________________________________\n",
      "maxpooling_0 (AveragePooling (None, 50, 50, 32)        0         \n",
      "_________________________________________________________________\n",
      "conv_1 (Conv2D)              (None, 50, 50, 32)        9248      \n",
      "_________________________________________________________________\n",
      "dropout_1 (Dropout)          (None, 50, 50, 32)        0         \n",
      "_________________________________________________________________\n",
      "maxpooling_1 (AveragePooling (None, 25, 25, 32)        0         \n",
      "_________________________________________________________________\n",
      "flatten (Flatten)            (None, 20000)             0         \n",
      "_________________________________________________________________\n",
      "dropout_2 (Dropout)          (None, 20000)             0         \n",
      "_________________________________________________________________\n",
      "dense (Dense)                (None, 64)                1280064   \n",
      "_________________________________________________________________\n",
      "dense_1 (Dense)              (None, 3)                 195       \n",
      "_________________________________________________________________\n",
      "softmax_output (Softmax)     (None, 3)                 0         \n",
      "=================================================================\n",
      "Total params: 1,289,827\n",
      "Trainable params: 1,289,827\n",
      "Non-trainable params: 0\n",
      "_________________________________________________________________\n"
     ]
    }
   ],
   "source": [
    "__ = imp.reload(network)\n",
    "tf.keras.backend.clear_session()\n",
    "\n",
    "model = network.build_model(\n",
    "    cnn_only=True,    \n",
    "    nlayers=NLAYERS,\n",
    "    nfilters=NFILTERS,\n",
    "    input_shape= X_train.shape[1:],\n",
    "    output_shape=NCLASSES,\n",
    "    prototypes_per_class=PROTOTYPES_PER_CLASS,\n",
    "    network_seed=RANDOM_SEED,\n",
    "    double_conv=DOUBLE_CONV,\n",
    "    dense_nodes=settings['dense_nodes'],\n",
    "    prototype_channels=settings['prototype_channels'],\n",
    "    kernel_l1_coeff=settings['kernel_l1_coeff'],\n",
    "    kernel_l2_coeff=settings['kernel_l2_coeff'],\n",
    "    drop_rate=settings['drop_rate'],\n",
    "    drop_rate_final=settings['drop_rate_final'],    \n",
    "    coeff_cluster=0.0,#settings['coeff_cluster'],\n",
    "    coeff_separation=0.0,#settings['coeff_separation'],\n",
    "    coeff_l1=0.0,#settings['coeff_l1'],    \n",
    ")\n",
    "model.summary()"
   ]
  },
  {
   "cell_type": "code",
   "execution_count": 12,
   "id": "eb9e63b9-736b-4e58-a316-69cdcd28bdf3",
   "metadata": {},
   "outputs": [
    {
     "name": "stderr",
     "output_type": "stream",
     "text": [
      "ic| len(np.where(y_train==0)[0])/len(y_train): 0.33541666666666664\n"
     ]
    }
   ],
   "source": [
    "__ = ic(len(np.where(y_train==0)[0])/len(y_train))"
   ]
  },
  {
   "cell_type": "code",
   "execution_count": 13,
   "id": "1751161e-7ed2-4024-8a5e-1ecb8791bcc3",
   "metadata": {},
   "outputs": [
    {
     "name": "stdout",
     "output_type": "stream",
     "text": [
      "learning rate = 5e-06\n",
      "Epoch 1/100\n",
      "30/30 [==============================] - 3s 80ms/step - loss: 1.5268 - sparse_categorical_accuracy: 0.3417 - val_loss: 0.9556 - val_sparse_categorical_accuracy: 0.4875\n",
      "Epoch 2/100\n",
      "30/30 [==============================] - 2s 74ms/step - loss: 1.0319 - sparse_categorical_accuracy: 0.4521 - val_loss: 0.8551 - val_sparse_categorical_accuracy: 0.5458\n",
      "Epoch 3/100\n",
      "30/30 [==============================] - 2s 74ms/step - loss: 0.9755 - sparse_categorical_accuracy: 0.5083 - val_loss: 0.7707 - val_sparse_categorical_accuracy: 0.6208\n",
      "Epoch 4/100\n",
      "30/30 [==============================] - 2s 77ms/step - loss: 0.8422 - sparse_categorical_accuracy: 0.5865 - val_loss: 0.6719 - val_sparse_categorical_accuracy: 0.6875\n",
      "Epoch 5/100\n",
      "30/30 [==============================] - 2s 77ms/step - loss: 0.7653 - sparse_categorical_accuracy: 0.6667 - val_loss: 0.5983 - val_sparse_categorical_accuracy: 0.7333\n",
      "Epoch 6/100\n",
      "30/30 [==============================] - 2s 74ms/step - loss: 0.7302 - sparse_categorical_accuracy: 0.6979 - val_loss: 0.5238 - val_sparse_categorical_accuracy: 0.7958\n",
      "Epoch 7/100\n",
      "30/30 [==============================] - 2s 73ms/step - loss: 0.6500 - sparse_categorical_accuracy: 0.7240 - val_loss: 0.4856 - val_sparse_categorical_accuracy: 0.8083\n",
      "Epoch 8/100\n",
      "30/30 [==============================] - 2s 73ms/step - loss: 0.6688 - sparse_categorical_accuracy: 0.7271 - val_loss: 0.4840 - val_sparse_categorical_accuracy: 0.8000\n",
      "Epoch 9/100\n",
      "30/30 [==============================] - 2s 75ms/step - loss: 0.5956 - sparse_categorical_accuracy: 0.7625 - val_loss: 0.4463 - val_sparse_categorical_accuracy: 0.8208\n",
      "Epoch 10/100\n",
      "30/30 [==============================] - 2s 75ms/step - loss: 0.5160 - sparse_categorical_accuracy: 0.7927 - val_loss: 0.4147 - val_sparse_categorical_accuracy: 0.8250\n",
      "Epoch 11/100\n",
      "30/30 [==============================] - 2s 75ms/step - loss: 0.5366 - sparse_categorical_accuracy: 0.7875 - val_loss: 0.3994 - val_sparse_categorical_accuracy: 0.8333\n",
      "Epoch 12/100\n",
      "30/30 [==============================] - 2s 74ms/step - loss: 0.5154 - sparse_categorical_accuracy: 0.7990 - val_loss: 0.3772 - val_sparse_categorical_accuracy: 0.8333\n",
      "Epoch 13/100\n",
      "30/30 [==============================] - 2s 74ms/step - loss: 0.4896 - sparse_categorical_accuracy: 0.8000 - val_loss: 0.3918 - val_sparse_categorical_accuracy: 0.8375\n",
      "Epoch 14/100\n",
      "30/30 [==============================] - 2s 75ms/step - loss: 0.4817 - sparse_categorical_accuracy: 0.8250 - val_loss: 0.3593 - val_sparse_categorical_accuracy: 0.8417\n",
      "Epoch 15/100\n",
      "30/30 [==============================] - 2s 81ms/step - loss: 0.4444 - sparse_categorical_accuracy: 0.8240 - val_loss: 0.3675 - val_sparse_categorical_accuracy: 0.8458\n",
      "Epoch 16/100\n",
      "30/30 [==============================] - 2s 77ms/step - loss: 0.4600 - sparse_categorical_accuracy: 0.8177 - val_loss: 0.3499 - val_sparse_categorical_accuracy: 0.8458\n",
      "Epoch 17/100\n",
      "30/30 [==============================] - 2s 78ms/step - loss: 0.4462 - sparse_categorical_accuracy: 0.8229 - val_loss: 0.3487 - val_sparse_categorical_accuracy: 0.8583\n",
      "Epoch 18/100\n",
      "30/30 [==============================] - 2s 75ms/step - loss: 0.4360 - sparse_categorical_accuracy: 0.8104 - val_loss: 0.3475 - val_sparse_categorical_accuracy: 0.8500\n",
      "Epoch 19/100\n",
      "30/30 [==============================] - 2s 76ms/step - loss: 0.4372 - sparse_categorical_accuracy: 0.8323 - val_loss: 0.3340 - val_sparse_categorical_accuracy: 0.8625\n",
      "Epoch 20/100\n",
      "30/30 [==============================] - 2s 78ms/step - loss: 0.4066 - sparse_categorical_accuracy: 0.8469 - val_loss: 0.3360 - val_sparse_categorical_accuracy: 0.8583\n",
      "Epoch 21/100\n",
      "30/30 [==============================] - 2s 77ms/step - loss: 0.4083 - sparse_categorical_accuracy: 0.8302 - val_loss: 0.3369 - val_sparse_categorical_accuracy: 0.8583\n",
      "Epoch 22/100\n",
      "30/30 [==============================] - 2s 78ms/step - loss: 0.3872 - sparse_categorical_accuracy: 0.8344 - val_loss: 0.3225 - val_sparse_categorical_accuracy: 0.8583\n",
      "Epoch 23/100\n",
      "30/30 [==============================] - 3s 91ms/step - loss: 0.3672 - sparse_categorical_accuracy: 0.8510 - val_loss: 0.3004 - val_sparse_categorical_accuracy: 0.8500\n",
      "Epoch 24/100\n",
      "30/30 [==============================] - 3s 86ms/step - loss: 0.3667 - sparse_categorical_accuracy: 0.8479 - val_loss: 0.3152 - val_sparse_categorical_accuracy: 0.8542\n",
      "Restoring model weights from the end of the best epoch.\n",
      "Epoch 00024: early stopping\n",
      "saving model and weights to ./saved_models/quadrants_testcase/pretrained_model_quadrants_testcase\n",
      "INFO:tensorflow:Assets written to: ./saved_models/quadrants_testcase/pretrained_model_quadrants_testcase/assets\n"
     ]
    }
   ],
   "source": [
    "# compile the model\n",
    "print('learning rate = ' + str(LR_INIT))\n",
    "\n",
    "model.compile(\n",
    "    optimizer=tf.keras.optimizers.Adam(\n",
    "        learning_rate=LR_INIT,\n",
    "#         beta_1=0.9, beta_2=0.999, epsilon=1e-07,\n",
    "    ),\n",
    "    loss = tf.keras.losses.SparseCategoricalCrossentropy(from_logits=False),\n",
    "    metrics = metrics_list,\n",
    ")\n",
    "\n",
    "# train the model\n",
    "tf.random.set_seed(RANDOM_SEED)\n",
    "history = model.fit(\n",
    "    X_train,\n",
    "    y_train,\n",
    "    validation_data=(X_val,y_val),\n",
    "    batch_size=BATCH_SIZE,\n",
    "    epochs=NEPOCHS,\n",
    "    shuffle=True,\n",
    "    verbose=1,\n",
    "    callbacks=callbacks_list\n",
    ")\n",
    "\n",
    "\n",
    "# save the model\n",
    "model_filename = model_dir + 'pretrained_model_' + EXP_NAME\n",
    "common_functions.save_model(model, model_filename)"
   ]
  },
  {
   "cell_type": "code",
   "execution_count": 14,
   "id": "ef4f56cb-173c-4776-a1bf-fc3042b169d6",
   "metadata": {},
   "outputs": [
    {
     "data": {
      "image/png": "[encoded data removed]",
      "text/plain": [
       "<Figure size 1500x450 with 2 Axes>"
      ]
     },
     "metadata": {},
     "output_type": "display_data"
    }
   ],
   "source": [
    "#-------------------------------\n",
    "# Display the results\n",
    "best_epoch = np.argmin(history.history['val_loss'])\n",
    "\n",
    "#---- plot loss and errors ----\n",
    "trainColor = (117/255., 112/255., 179/255., 1.)\n",
    "valColor = (231/255., 41/255., 138/255., 1.)\n",
    "FS = 7\n",
    "MS = 4\n",
    "\n",
    "plt.subplots(1,2,figsize=(10, 3))\n",
    "\n",
    "plt.subplot(1,2,1)\n",
    "plt.plot(history.history['loss'], 'o-', color=trainColor, label='training loss', markersize=MS)\n",
    "plt.plot(history.history['val_loss'], 'o-', color=valColor, label='validation loss', markersize=MS)\n",
    "# plt.axvline(x=best_epoch, linestyle = '--', color='tab:gray')\n",
    "plt.title(\"Loss Function\")\n",
    "plt.ylabel('average loss')\n",
    "plt.xlabel('epoch')\n",
    "plt.grid(False)\n",
    "plt.legend(frameon=True, fontsize=FS)\n",
    "plt.xlim(-.1, 30+1)\n",
    "\n",
    "plt.subplot(1,2,2)\n",
    "plt.plot(history.history['sparse_categorical_accuracy'], 'o-', color=trainColor, label='training loss', markersize=MS)\n",
    "plt.plot(history.history['val_sparse_categorical_accuracy'], 'o-', color=valColor, label='validation loss', markersize=MS)\n",
    "# plt.axvline(x=best_epoch, linestyle = '--', color='tab:gray')\n",
    "plt.title(\"Accuracy\")\n",
    "plt.ylabel('accuracy')\n",
    "plt.xlabel('epoch')\n",
    "plt.grid(False)\n",
    "plt.legend(frameon=True, fontsize=FS)\n",
    "plt.xlim(-.1, 30+1)\n",
    "\n",
    "plt.tight_layout()\n",
    "plt.savefig(model_diagnostics_dir + 'loss_history_pretrained_model_' + EXP_NAME + '.png', dpi=dpiFig)\n",
    "plt.show()"
   ]
  },
  {
   "cell_type": "code",
   "execution_count": null,
   "id": "d68de34f-6801-42b2-a351-e7ac734ecd68",
   "metadata": {},
   "outputs": [],
   "source": []
  }
 ],
 "metadata": {
  "kernelspec": {
   "display_name": "Python 3",
   "language": "python",
   "name": "python3"
  },
  "language_info": {
   "codemirror_mode": {
    "name": "ipython",
    "version": 3
   },
   "file_extension": ".py",
   "mimetype": "text/x-python",
   "name": "python",
   "nbconvert_exporter": "python",
   "pygments_lexer": "ipython3",
   "version": "3.9.4"
  }
 },
 "nbformat": 4,
 "nbformat_minor": 5
}
