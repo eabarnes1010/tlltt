{
 "cells": [
  {
   "cell_type": "markdown",
   "id": "80f6a48b-bab3-4333-abf3-07711e94b616",
   "metadata": {},
   "source": [
    "# Pretrain CNN Only"
   ]
  },
  {
   "cell_type": "code",
   "execution_count": 1,
   "id": "36bf3dd4-d4af-4c8c-89f6-67097628c3e8",
   "metadata": {},
   "outputs": [],
   "source": [
    "import sys\n",
    "import time\n",
    "import imp #imp.reload(module)\n",
    "\n",
    "import numpy as np\n",
    "from tqdm import trange\n",
    "from icecream import ic\n",
    "import scipy.io as sio\n",
    "\n",
    "import matplotlib.pyplot as plt\n",
    "import matplotlib as mpl\n",
    "import seaborn as sns\n",
    "\n",
    "import tensorflow as tf\n",
    "\n",
    "import network as network\n",
    "import experiment_settings\n",
    "import data_functions\n",
    "import common_functions"
   ]
  },
  {
   "cell_type": "code",
   "execution_count": 2,
   "id": "54e0dba3-9a8a-4d45-b00b-7aaface5fe2c",
   "metadata": {},
   "outputs": [],
   "source": [
    "__author__ = \"Elizabeth A. Barnes and Randal J Barnes\"\n",
    "__version__ = \"23 November 2021\""
   ]
  },
  {
   "cell_type": "code",
   "execution_count": 3,
   "id": "18825d5a-a951-4a29-8dbd-1b1956974b6a",
   "metadata": {},
   "outputs": [],
   "source": [
    "mpl.rcParams['figure.facecolor'] = 'white'\n",
    "mpl.rcParams['figure.dpi']= 150\n",
    "dpiFig = 300."
   ]
  },
  {
   "cell_type": "markdown",
   "id": "1ce58c40-dd37-43ea-9ad3-6d6b56b7d166",
   "metadata": {},
   "source": [
    "## Print the detailed system info"
   ]
  },
  {
   "cell_type": "code",
   "execution_count": 4,
   "id": "2e923341-795f-428a-b5bf-d8cafdce1bcf",
   "metadata": {},
   "outputs": [
    {
     "name": "stdout",
     "output_type": "stream",
     "text": [
      "python version = 3.9.4 (default, Apr  9 2021, 09:32:38) \n",
      "[Clang 10.0.0 ]\n",
      "numpy version = 1.20.1\n",
      "tensorflow version = 2.5.0\n"
     ]
    }
   ],
   "source": [
    "print(f\"python version = {sys.version}\")\n",
    "print(f\"numpy version = {np.__version__}\")\n",
    "print(f\"tensorflow version = {tf.__version__}\")"
   ]
  },
  {
   "cell_type": "markdown",
   "id": "2ef20cf2-528b-42cb-9305-539a768adf6f",
   "metadata": {},
   "source": [
    "## Define experiment settings and directories"
   ]
  },
  {
   "cell_type": "code",
   "execution_count": 5,
   "id": "a52514f7-6609-4cf7-83c7-0b67ebd1108c",
   "metadata": {},
   "outputs": [],
   "source": [
    "EXP_NAME = 'quadrants'\n",
    "\n",
    "imp.reload(experiment_settings)\n",
    "settings = experiment_settings.get_settings(EXP_NAME)\n",
    "\n",
    "imp.reload(common_functions)\n",
    "model_dir, model_diagnostics_dir, vizualization_dir = common_functions.get_exp_directories(EXP_NAME)"
   ]
  },
  {
   "cell_type": "markdown",
   "id": "7c333c24-ae7d-43d3-bc87-09fc8e7d8e89",
   "metadata": {},
   "source": [
    "## Define the network parameters"
   ]
  },
  {
   "cell_type": "code",
   "execution_count": 6,
   "id": "3005d411-649b-484a-8c3e-fc23500e11a8",
   "metadata": {},
   "outputs": [],
   "source": [
    "RANDOM_SEED          = settings['random_seed']\n",
    "BATCH_SIZE           = settings['batch_size']\n",
    "NLAYERS              = settings['nlayers']\n",
    "NFILTERS             = settings['nfilters']   \n",
    "DOUBLE_CONV          = settings['double_conv']   \n",
    "assert(len(NFILTERS)==NLAYERS)\n",
    "\n",
    "NCLASSES             = settings['nclasses']\n",
    "PROTOTYPES_PER_CLASS = settings['prototypes_per_class']\n",
    "NPROTOTYPES          = np.sum(PROTOTYPES_PER_CLASS)\n",
    "\n",
    "NEPOCHS              = settings['nepochs_pretrain']\n",
    "LR_INIT              = settings['lr_pretrain']\n",
    "LR_CALLBACK_EPOCH    = settings['lr_cb_epoch_pretrain']\n",
    "PATIENCE             = 100"
   ]
  },
  {
   "cell_type": "markdown",
   "id": "e8ab2e28-c92f-4c2d-a5d2-96dcfd9625a3",
   "metadata": {},
   "source": [
    "## Initialize"
   ]
  },
  {
   "cell_type": "code",
   "execution_count": 7,
   "id": "eb857807-8efc-485b-8be6-29751f6a4e96",
   "metadata": {},
   "outputs": [],
   "source": [
    "np.random.seed(RANDOM_SEED)\n",
    "rng = np.random.default_rng(RANDOM_SEED)\n",
    "tf.random.set_seed(RANDOM_SEED)"
   ]
  },
  {
   "cell_type": "markdown",
   "id": "521a7140-1796-429f-ad34-1ff25ecca436",
   "metadata": {},
   "source": [
    "## Get and process the data"
   ]
  },
  {
   "cell_type": "code",
   "execution_count": 8,
   "id": "0f94434b-18eb-408a-8810-af9f27cdf522",
   "metadata": {},
   "outputs": [
    {
     "name": "stdout",
     "output_type": "stream",
     "text": [
      "loading ./data/data_quadrants.mat\n",
      "shuffling the data before train/validation/test split.\n",
      "raw_data        = (9000, 100, 100, 1)\n",
      "training data   = (7200, 100, 100, 1), (7200,)\n",
      "validation data = (1800, 100, 100, 1), (1800,)\n",
      "test data       = (0, 100, 100, 1), (0,)\n",
      "X_mean          = -8.325328964462919e-05\n",
      "X_std           = 0.1127845155013707\n"
     ]
    }
   ],
   "source": [
    "imp.reload(data_functions)\n",
    "DATA_NAME = settings['data_name']\n",
    "DATA_DIR = settings['data_dir']\n",
    "\n",
    "if(EXP_NAME[:3]=='mjo'):\n",
    "\n",
    "    labels, data, lat, lon, time = data_functions.load_mjo_data(DATA_DIR)\n",
    "    X_train, y_train, time_train, X_val, y_val, time_val, X_test, y_test, time_test = data_functions.get_and_process_mjo_data(labels,\n",
    "                                                                                         data,\n",
    "                                                                                         time,\n",
    "                                                                                         rng, \n",
    "                                                                                         colored=settings['colored'],\n",
    "                                                                                         standardize=settings['standardize'],\n",
    "                                                                                         shuffle=settings['shuffle'],\n",
    "                                                                                        )        \n",
    "elif(EXP_NAME[:8]=='extremes'):\n",
    "    filename = DATA_DIR + DATA_NAME + '.mat'\n",
    "    X_train, y_train, X_val, y_val, X_test, y_test, lat, lon = data_functions.get_and_process_data(filename, \n",
    "                                                                                        rng, \n",
    "                                                                                        colored=settings['colored'],\n",
    "                                                                                        standardize=settings['standardize'],\n",
    "                                                                                        shuffle=settings['shuffle'],\n",
    "                                                                                        ) \n",
    "    \n",
    "    X_train, y_train, X_val, y_val, X_test, y_test = data_functions.subsample_extremes(RANDOM_SEED, X_train, y_train, X_val, y_val, X_test, y_test)\n",
    "\n",
    "    \n",
    "elif(EXP_NAME[:5]=='jamin' or EXP_NAME[:9]=='quadrants'):\n",
    "    filename = DATA_DIR + DATA_NAME + '.mat'\n",
    "    X_train, y_train, X_val, y_val, X_test, y_test, lat, lon = data_functions.get_and_process_data(filename, \n",
    "                                                                                        rng, \n",
    "                                                                                        colored=settings['colored'],\n",
    "                                                                                        standardize=settings['standardize'],\n",
    "                                                                                        shuffle=settings['shuffle'],\n",
    "                                                                                        )      \n",
    "    "
   ]
  },
  {
   "cell_type": "code",
   "execution_count": 9,
   "id": "8b621855-61ee-4e16-9948-9f2bcf61721e",
   "metadata": {},
   "outputs": [],
   "source": [
    "proto_class_mask = network.createClassIdentity(PROTOTYPES_PER_CLASS)\n",
    "\n",
    "prototypes_of_correct_class_train = np.zeros((len(y_train),NPROTOTYPES))\n",
    "for i in range(0,prototypes_of_correct_class_train.shape[0]):\n",
    "    prototypes_of_correct_class_train[i,:] = proto_class_mask[:,int(y_train[i])]\n",
    "    \n",
    "prototypes_of_correct_class_val   = np.zeros((len(y_val),NPROTOTYPES))    \n",
    "for i in range(0,prototypes_of_correct_class_val.shape[0]):\n",
    "    prototypes_of_correct_class_val[i,:] = proto_class_mask[:,int(y_val[i])]\n",
    "\n",
    "prototypes_of_correct_class_test   = np.zeros((len(y_test),NPROTOTYPES))    \n",
    "for i in range(0,prototypes_of_correct_class_test.shape[0]):\n",
    "    prototypes_of_correct_class_test[i,:] = proto_class_mask[:,int(y_test[i])]"
   ]
  },
  {
   "cell_type": "markdown",
   "id": "bb2b2787-9d90-4955-90a4-1a6526c918e9",
   "metadata": {},
   "source": [
    "## Define the training callbacks and metrics"
   ]
  },
  {
   "cell_type": "code",
   "execution_count": 10,
   "id": "64ca24eb-ab9c-4db0-82c8-94980521c597",
   "metadata": {},
   "outputs": [],
   "source": [
    "# callbacks\n",
    "def scheduler(epoch, lr):\n",
    "    if epoch < LR_CALLBACK_EPOCH:\n",
    "        return np.round(lr,8)\n",
    "    else:\n",
    "        if(epoch % 2 == 0):\n",
    "            return lr/2.\n",
    "        else:\n",
    "            return lr\n",
    "\n",
    "lr_callback = tf.keras.callbacks.LearningRateScheduler(scheduler, verbose=1)    \n",
    "    \n",
    "es_callback = tf.keras.callbacks.EarlyStopping(\n",
    "    monitor='val_sparse_categorical_accuracy', \n",
    "    mode='max',\n",
    "    patience=settings['pretrain_patience'], \n",
    "    restore_best_weights=True, \n",
    "    verbose=1\n",
    ")\n",
    "\n",
    "callbacks_list = [\n",
    "#     lr_callback,\n",
    "    es_callback,\n",
    "]            \n",
    "\n",
    "# metrics\n",
    "metrics_list = [\n",
    "    tf.keras.metrics.SparseCategoricalAccuracy(),\n",
    "]"
   ]
  },
  {
   "cell_type": "markdown",
   "id": "44fa63e6-adc0-40b0-92a1-16dd4cc806f6",
   "metadata": {},
   "source": [
    "## Instantiate the model"
   ]
  },
  {
   "cell_type": "code",
   "execution_count": 11,
   "id": "c87cc2fb-5cf9-4029-824c-c24262ccb729",
   "metadata": {},
   "outputs": [
    {
     "name": "stdout",
     "output_type": "stream",
     "text": [
      "2\n",
      "[32, 32]\n",
      "(100, 100, 1)\n",
      "3\n",
      "[5, 5, 5]\n",
      "30\n",
      "False\n",
      "0.0\n",
      "0.0\n",
      "0.0\n",
      "-0.5\n",
      "True\n",
      "64\n",
      "128\n",
      "0.0\n",
      "0.0\n",
      "0.0\n",
      "0.4\n",
      "False\n",
      "Model: \"full_model\"\n",
      "_________________________________________________________________\n",
      "Layer (type)                 Output Shape              Param #   \n",
      "=================================================================\n",
      "inputs (InputLayer)          [(None, 100, 100, 1)]     0         \n",
      "_________________________________________________________________\n",
      "conv_0 (Conv2D)              (None, 100, 100, 32)      320       \n",
      "_________________________________________________________________\n",
      "dropout (Dropout)            (None, 100, 100, 32)      0         \n",
      "_________________________________________________________________\n",
      "maxpooling_0 (AveragePooling (None, 50, 50, 32)        0         \n",
      "_________________________________________________________________\n",
      "conv_1 (Conv2D)              (None, 50, 50, 32)        9248      \n",
      "_________________________________________________________________\n",
      "dropout_1 (Dropout)          (None, 50, 50, 32)        0         \n",
      "_________________________________________________________________\n",
      "maxpooling_1 (AveragePooling (None, 25, 25, 32)        0         \n",
      "_________________________________________________________________\n",
      "flatten (Flatten)            (None, 20000)             0         \n",
      "_________________________________________________________________\n",
      "dropout_2 (Dropout)          (None, 20000)             0         \n",
      "_________________________________________________________________\n",
      "dense (Dense)                (None, 64)                1280064   \n",
      "_________________________________________________________________\n",
      "dense_1 (Dense)              (None, 3)                 195       \n",
      "_________________________________________________________________\n",
      "softmax_output (Softmax)     (None, 3)                 0         \n",
      "=================================================================\n",
      "Total params: 1,289,827\n",
      "Trainable params: 1,289,827\n",
      "Non-trainable params: 0\n",
      "_________________________________________________________________\n"
     ]
    }
   ],
   "source": [
    "__ = imp.reload(network)\n",
    "tf.keras.backend.clear_session()\n",
    "\n",
    "model = network.build_model(\n",
    "    cnn_only=True,    \n",
    "    nlayers=NLAYERS,\n",
    "    nfilters=NFILTERS,\n",
    "    input_shape= X_train.shape[1:],\n",
    "    output_shape=NCLASSES,\n",
    "    prototypes_per_class=PROTOTYPES_PER_CLASS,\n",
    "    network_seed=RANDOM_SEED,\n",
    "    double_conv=DOUBLE_CONV,\n",
    "    dense_nodes=settings['dense_nodes'],\n",
    "    prototype_channels=settings['prototype_channels'],\n",
    "    kernel_l1_coeff=settings['kernel_l1_coeff'],\n",
    "    kernel_l2_coeff=settings['kernel_l2_coeff'],\n",
    "    drop_rate=settings['drop_rate'],\n",
    "    drop_rate_final=settings['drop_rate_final'],    \n",
    "    coeff_cluster=0.0,#settings['coeff_cluster'],\n",
    "    coeff_separation=0.0,#settings['coeff_separation'],\n",
    "    coeff_l1=0.0,#settings['coeff_l1'],    \n",
    ")\n",
    "model.summary()"
   ]
  },
  {
   "cell_type": "code",
   "execution_count": 12,
   "id": "eb9e63b9-736b-4e58-a316-69cdcd28bdf3",
   "metadata": {},
   "outputs": [
    {
     "name": "stderr",
     "output_type": "stream",
     "text": [
      "ic| len(np.where(y_train==0)[0])/len(y_train): 0.3333333333333333\n"
     ]
    }
   ],
   "source": [
    "__ = ic(len(np.where(y_train==0)[0])/len(y_train))"
   ]
  },
  {
   "cell_type": "code",
   "execution_count": 13,
   "id": "1751161e-7ed2-4024-8a5e-1ecb8791bcc3",
   "metadata": {},
   "outputs": [
    {
     "name": "stdout",
     "output_type": "stream",
     "text": [
      "learning rate = 5e-05\n",
      "Epoch 1/30\n",
      "225/225 [==============================] - 30s 129ms/step - loss: 0.4391 - sparse_categorical_accuracy: 0.8169 - val_loss: 0.1782 - val_sparse_categorical_accuracy: 0.9217\n",
      "Epoch 2/30\n",
      "225/225 [==============================] - 27s 119ms/step - loss: 0.1856 - sparse_categorical_accuracy: 0.9214 - val_loss: 0.1195 - val_sparse_categorical_accuracy: 0.9533\n",
      "Epoch 3/30\n",
      "225/225 [==============================] - 30s 135ms/step - loss: 0.1331 - sparse_categorical_accuracy: 0.9490 - val_loss: 0.0892 - val_sparse_categorical_accuracy: 0.9694\n",
      "Epoch 4/30\n",
      "225/225 [==============================] - 34s 150ms/step - loss: 0.1016 - sparse_categorical_accuracy: 0.9626 - val_loss: 0.0850 - val_sparse_categorical_accuracy: 0.9650\n",
      "Epoch 5/30\n",
      "225/225 [==============================] - 28s 126ms/step - loss: 0.0910 - sparse_categorical_accuracy: 0.9654 - val_loss: 0.0835 - val_sparse_categorical_accuracy: 0.9694\n",
      "Epoch 6/30\n",
      "225/225 [==============================] - 29s 128ms/step - loss: 0.0786 - sparse_categorical_accuracy: 0.9724 - val_loss: 0.0711 - val_sparse_categorical_accuracy: 0.9739\n",
      "Epoch 7/30\n",
      "225/225 [==============================] - 30s 134ms/step - loss: 0.0699 - sparse_categorical_accuracy: 0.9726 - val_loss: 0.0636 - val_sparse_categorical_accuracy: 0.9767\n",
      "Epoch 8/30\n",
      "225/225 [==============================] - 29s 130ms/step - loss: 0.0625 - sparse_categorical_accuracy: 0.9778 - val_loss: 0.0716 - val_sparse_categorical_accuracy: 0.9700\n",
      "Epoch 9/30\n",
      "225/225 [==============================] - 29s 127ms/step - loss: 0.0541 - sparse_categorical_accuracy: 0.9815 - val_loss: 0.0724 - val_sparse_categorical_accuracy: 0.9739\n",
      "Epoch 10/30\n",
      "225/225 [==============================] - 31s 137ms/step - loss: 0.0530 - sparse_categorical_accuracy: 0.9786 - val_loss: 0.0713 - val_sparse_categorical_accuracy: 0.9694\n",
      "Epoch 11/30\n",
      "225/225 [==============================] - 35s 158ms/step - loss: 0.0474 - sparse_categorical_accuracy: 0.9814 - val_loss: 0.0827 - val_sparse_categorical_accuracy: 0.9728\n",
      "Epoch 12/30\n",
      "225/225 [==============================] - 29s 128ms/step - loss: 0.0379 - sparse_categorical_accuracy: 0.9853 - val_loss: 0.0923 - val_sparse_categorical_accuracy: 0.9667\n",
      "Restoring model weights from the end of the best epoch.\n",
      "Epoch 00012: early stopping\n",
      "saving model and weights to ./saved_models/quadrants/pretrained_model_quadrants\n",
      "INFO:tensorflow:Assets written to: ./saved_models/quadrants/pretrained_model_quadrants/assets\n"
     ]
    }
   ],
   "source": [
    "# compile the model\n",
    "print('learning rate = ' + str(LR_INIT))\n",
    "\n",
    "model.compile(\n",
    "    optimizer=tf.keras.optimizers.Adam(\n",
    "        learning_rate=LR_INIT,\n",
    "#         beta_1=0.9, beta_2=0.999, epsilon=1e-07,\n",
    "    ),\n",
    "    loss = tf.keras.losses.SparseCategoricalCrossentropy(from_logits=False),\n",
    "    metrics = metrics_list,\n",
    ")\n",
    "\n",
    "# train the model\n",
    "tf.random.set_seed(RANDOM_SEED)\n",
    "history = model.fit(\n",
    "    X_train,\n",
    "    y_train,\n",
    "    validation_data=(X_val,y_val),\n",
    "    batch_size=BATCH_SIZE,\n",
    "    epochs=NEPOCHS,\n",
    "    shuffle=True,\n",
    "    verbose=1,\n",
    "    callbacks=callbacks_list\n",
    ")\n",
    "\n",
    "\n",
    "# save the model\n",
    "model_filename = model_dir + 'pretrained_model_' + EXP_NAME\n",
    "common_functions.save_model(model, model_filename)"
   ]
  },
  {
   "cell_type": "code",
   "execution_count": 14,
   "id": "ef4f56cb-173c-4776-a1bf-fc3042b169d6",
   "metadata": {},
   "outputs": [
    {
     "data": {
      "image/png": "[encoded data removed]",
      "text/plain": [
       "<Figure size 1500x450 with 2 Axes>"
      ]
     },
     "metadata": {},
     "output_type": "display_data"
    }
   ],
   "source": [
    "#-------------------------------\n",
    "# Display the results\n",
    "best_epoch = np.argmin(history.history['val_loss'])\n",
    "\n",
    "#---- plot loss and errors ----\n",
    "trainColor = (117/255., 112/255., 179/255., 1.)\n",
    "valColor = (231/255., 41/255., 138/255., 1.)\n",
    "FS = 7\n",
    "MS = 4\n",
    "\n",
    "plt.subplots(1,2,figsize=(10, 3))\n",
    "\n",
    "plt.subplot(1,2,1)\n",
    "plt.plot(history.history['loss'], 'o-', color=trainColor, label='training loss', markersize=MS)\n",
    "plt.plot(history.history['val_loss'], 'o-', color=valColor, label='validation loss', markersize=MS)\n",
    "# plt.axvline(x=best_epoch, linestyle = '--', color='tab:gray')\n",
    "plt.title(\"Loss Function\")\n",
    "plt.ylabel('average loss')\n",
    "plt.xlabel('epoch')\n",
    "plt.grid(False)\n",
    "plt.legend(frameon=True, fontsize=FS)\n",
    "plt.xlim(-.1, 30+1)\n",
    "\n",
    "plt.subplot(1,2,2)\n",
    "plt.plot(history.history['sparse_categorical_accuracy'], 'o-', color=trainColor, label='training loss', markersize=MS)\n",
    "plt.plot(history.history['val_sparse_categorical_accuracy'], 'o-', color=valColor, label='validation loss', markersize=MS)\n",
    "# plt.axvline(x=best_epoch, linestyle = '--', color='tab:gray')\n",
    "plt.title(\"Accuracy\")\n",
    "plt.ylabel('accuracy')\n",
    "plt.xlabel('epoch')\n",
    "plt.grid(False)\n",
    "plt.legend(frameon=True, fontsize=FS)\n",
    "plt.xlim(-.1, 30+1)\n",
    "\n",
    "plt.tight_layout()\n",
    "plt.savefig(model_diagnostics_dir + 'loss_history_pretrained_model_' + EXP_NAME + '.png', dpi=dpiFig)\n",
    "plt.show()"
   ]
  },
  {
   "cell_type": "code",
   "execution_count": null,
   "id": "d68de34f-6801-42b2-a351-e7ac734ecd68",
   "metadata": {},
   "outputs": [],
   "source": []
  }
 ],
 "metadata": {
  "kernelspec": {
   "display_name": "Python 3",
   "language": "python",
   "name": "python3"
  },
  "language_info": {
   "codemirror_mode": {
    "name": "ipython",
    "version": 3
   },
   "file_extension": ".py",
   "mimetype": "text/x-python",
   "name": "python",
   "nbconvert_exporter": "python",
   "pygments_lexer": "ipython3",
   "version": "3.9.4"
  }
 },
 "nbformat": 4,
 "nbformat_minor": 5
}
