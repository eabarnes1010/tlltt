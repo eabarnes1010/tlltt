{
 "cells": [
  {
   "cell_type": "markdown",
   "id": "80f6a48b-bab3-4333-abf3-07711e94b616",
   "metadata": {},
   "source": [
    "# This Looks Like That There\n",
    "Pretrain CNN Only"
   ]
  },
  {
   "cell_type": "code",
   "execution_count": 1,
   "id": "36bf3dd4-d4af-4c8c-89f6-67097628c3e8",
   "metadata": {},
   "outputs": [],
   "source": [
    "import sys\n",
    "import time\n",
    "import imp #imp.reload(module)\n",
    "\n",
    "import numpy as np\n",
    "from tqdm import trange\n",
    "from icecream import ic\n",
    "import scipy.io as sio\n",
    "\n",
    "import matplotlib.pyplot as plt\n",
    "import matplotlib as mpl\n",
    "import seaborn as sns\n",
    "\n",
    "import tensorflow as tf\n",
    "\n",
    "import network as network\n",
    "import experiment_settings\n",
    "import data_functions\n",
    "import common_functions"
   ]
  },
  {
   "cell_type": "code",
   "execution_count": 2,
   "id": "54e0dba3-9a8a-4d45-b00b-7aaface5fe2c",
   "metadata": {},
   "outputs": [],
   "source": [
    "__author__ = \"Elizabeth A. Barnes and Randal J Barnes\"\n",
    "__version__ = \"1 December 2021\""
   ]
  },
  {
   "cell_type": "code",
   "execution_count": 3,
   "id": "18825d5a-a951-4a29-8dbd-1b1956974b6a",
   "metadata": {},
   "outputs": [],
   "source": [
    "mpl.rcParams['figure.facecolor'] = 'white'\n",
    "mpl.rcParams['figure.dpi']= 150\n",
    "dpiFig = 300."
   ]
  },
  {
   "cell_type": "markdown",
   "id": "1ce58c40-dd37-43ea-9ad3-6d6b56b7d166",
   "metadata": {},
   "source": [
    "## Print the detailed system info"
   ]
  },
  {
   "cell_type": "code",
   "execution_count": 4,
   "id": "2e923341-795f-428a-b5bf-d8cafdce1bcf",
   "metadata": {},
   "outputs": [
    {
     "name": "stdout",
     "output_type": "stream",
     "text": [
      "python version = 3.9.10 | packaged by conda-forge | (main, Feb  1 2022, 21:27:43) \n",
      "[Clang 11.1.0 ]\n",
      "numpy version = 1.22.2\n",
      "tensorflow version = 2.7.0\n"
     ]
    }
   ],
   "source": [
    "print(f\"python version = {sys.version}\")\n",
    "print(f\"numpy version = {np.__version__}\")\n",
    "print(f\"tensorflow version = {tf.__version__}\")"
   ]
  },
  {
   "cell_type": "markdown",
   "id": "2ef20cf2-528b-42cb-9305-539a768adf6f",
   "metadata": {},
   "source": [
    "## Define experiment settings and directories"
   ]
  },
  {
   "cell_type": "code",
   "execution_count": 5,
   "id": "a52514f7-6609-4cf7-83c7-0b67ebd1108c",
   "metadata": {},
   "outputs": [],
   "source": [
    "EXP_NAME = 'mjo_seed28'#'quadrants_testcase'\n",
    "\n",
    "imp.reload(experiment_settings)\n",
    "settings = experiment_settings.get_settings(EXP_NAME)\n",
    "\n",
    "imp.reload(common_functions)\n",
    "model_dir, model_diagnostics_dir, vizualization_dir = common_functions.get_exp_directories(EXP_NAME)"
   ]
  },
  {
   "cell_type": "markdown",
   "id": "7c333c24-ae7d-43d3-bc87-09fc8e7d8e89",
   "metadata": {},
   "source": [
    "## Define the network parameters"
   ]
  },
  {
   "cell_type": "code",
   "execution_count": 6,
   "id": "3005d411-649b-484a-8c3e-fc23500e11a8",
   "metadata": {},
   "outputs": [],
   "source": [
    "RANDOM_SEED          = settings['random_seed']\n",
    "BATCH_SIZE           = settings['batch_size']\n",
    "NLAYERS              = settings['nlayers']\n",
    "NFILTERS             = settings['nfilters']   \n",
    "DOUBLE_CONV          = settings['double_conv']   \n",
    "assert(len(NFILTERS)==NLAYERS)\n",
    "\n",
    "NCLASSES             = settings['nclasses']\n",
    "PROTOTYPES_PER_CLASS = settings['prototypes_per_class']\n",
    "NPROTOTYPES          = np.sum(PROTOTYPES_PER_CLASS)\n",
    "\n",
    "NEPOCHS              = settings['nepochs_pretrain']\n",
    "LR_INIT              = settings['lr_pretrain']\n",
    "LR_CALLBACK_EPOCH    = settings['lr_cb_epoch_pretrain']\n",
    "PATIENCE             = 100"
   ]
  },
  {
   "cell_type": "markdown",
   "id": "e8ab2e28-c92f-4c2d-a5d2-96dcfd9625a3",
   "metadata": {},
   "source": [
    "## Initialize"
   ]
  },
  {
   "cell_type": "code",
   "execution_count": 7,
   "id": "eb857807-8efc-485b-8be6-29751f6a4e96",
   "metadata": {},
   "outputs": [],
   "source": [
    "np.random.seed(RANDOM_SEED)\n",
    "rng = np.random.default_rng(RANDOM_SEED)\n",
    "tf.random.set_seed(RANDOM_SEED)"
   ]
  },
  {
   "cell_type": "markdown",
   "id": "521a7140-1796-429f-ad34-1ff25ecca436",
   "metadata": {},
   "source": [
    "## Get and process the data"
   ]
  },
  {
   "cell_type": "code",
   "execution_count": 8,
   "id": "0f94434b-18eb-408a-8810-af9f27cdf522",
   "metadata": {},
   "outputs": [
    {
     "name": "stdout",
     "output_type": "stream",
     "text": [
      "[0 1 2 3 4 5 6 7 8]\n"
     ]
    },
    {
     "name": "stderr",
     "output_type": "stream",
     "text": [
      "ic| years_train: array([1952, 1963, 1900, 2006, 1961, 1914, 1930, 2005, 1953, 1935, 1981,\n",
      "                        1940, 1909, 1997, 1913, 1971, 1980, 1918, 1948, 1921, 1949, 1950,\n",
      "                        1936, 1973, 1975, 1906, 1933, 1986, 1985, 1942, 1959, 1982, 1939,\n",
      "                        1929, 1999, 1955, 1989, 2001, 1954, 1920, 1974, 1972, 1990, 2003,\n",
      "                        1946, 1911, 1919, 1976, 1998, 1956, 1966, 1962, 1941, 1995, 2009,\n",
      "                        1931, 1993, 1927, 1938, 1916, 1984, 2008, 1979, 1947, 1925, 1902,\n",
      "                        1910, 1983, 1917, 1991, 1965, 1958, 1957, 1977, 1967, 2007, 1944,\n",
      "                        2000, 1996, 1904, 1926, 1915, 1928, 1968, 1970, 1937, 2002, 1934,\n",
      "                        1960])\n",
      "ic| years_val: array([1901, 1903, 1905, 1907, 1908, 1912, 1922, 1923, 1924, 1932, 1943,\n",
      "                      1945, 1951, 1964, 1969, 1978, 1987, 1988, 1992, 1994, 2004, 2010])\n",
      "ic| years_test: 2010\n"
     ]
    },
    {
     "name": "stdout",
     "output_type": "stream",
     "text": [
      "raw_data        = (40422, 17, 105, 3)\n",
      "training data   = (32384, 17, 105, 3), (32384,)\n",
      "validation data = (8038, 17, 105, 3), (8038,)\n",
      "test data       = (365, 17, 105, 3), (365,)\n",
      "X_mean          = 0.0010259029331182571\n",
      "X_std           = 1.0290856233006693\n"
     ]
    }
   ],
   "source": [
    "imp.reload(data_functions)\n",
    "DATA_NAME = settings['data_name']\n",
    "DATA_DIR = settings['data_dir']\n",
    "\n",
    "if(EXP_NAME[:3]=='mjo'):\n",
    "\n",
    "    labels, data, lat, lon, time = data_functions.load_mjo_data(DATA_DIR)\n",
    "    X_train, y_train, time_train, X_val, y_val, time_val, X_test, y_test, time_test = data_functions.get_and_process_mjo_data(labels,\n",
    "                                                                                         data,\n",
    "                                                                                         time,\n",
    "                                                                                         rng, \n",
    "                                                                                         colored=settings['colored'],\n",
    "                                                                                         standardize=settings['standardize'],\n",
    "                                                                                         shuffle=settings['shuffle'],\n",
    "                                                                                        )        \n",
    "elif(EXP_NAME[:9]=='quadrants'):\n",
    "    filename = DATA_DIR + DATA_NAME + '.mat'\n",
    "    X_train, y_train, X_val, y_val, X_test, y_test, lat, lon = data_functions.get_and_process_data(filename, \n",
    "                                                                                        rng, \n",
    "                                                                                        colored=settings['colored'],\n",
    "                                                                                        standardize=settings['standardize'],\n",
    "                                                                                        shuffle=settings['shuffle'],\n",
    "                                                                                        )      \n",
    "    "
   ]
  },
  {
   "cell_type": "code",
   "execution_count": 9,
   "id": "8b621855-61ee-4e16-9948-9f2bcf61721e",
   "metadata": {},
   "outputs": [],
   "source": [
    "proto_class_mask = network.createClassIdentity(PROTOTYPES_PER_CLASS)\n",
    "\n",
    "prototypes_of_correct_class_train = np.zeros((len(y_train),NPROTOTYPES))\n",
    "for i in range(0,prototypes_of_correct_class_train.shape[0]):\n",
    "    prototypes_of_correct_class_train[i,:] = proto_class_mask[:,int(y_train[i])]\n",
    "    \n",
    "prototypes_of_correct_class_val   = np.zeros((len(y_val),NPROTOTYPES))    \n",
    "for i in range(0,prototypes_of_correct_class_val.shape[0]):\n",
    "    prototypes_of_correct_class_val[i,:] = proto_class_mask[:,int(y_val[i])]\n",
    "\n",
    "prototypes_of_correct_class_test   = np.zeros((len(y_test),NPROTOTYPES))    \n",
    "for i in range(0,prototypes_of_correct_class_test.shape[0]):\n",
    "    prototypes_of_correct_class_test[i,:] = proto_class_mask[:,int(y_test[i])]"
   ]
  },
  {
   "cell_type": "markdown",
   "id": "bb2b2787-9d90-4955-90a4-1a6526c918e9",
   "metadata": {},
   "source": [
    "## Define the training callbacks and metrics"
   ]
  },
  {
   "cell_type": "code",
   "execution_count": 10,
   "id": "64ca24eb-ab9c-4db0-82c8-94980521c597",
   "metadata": {},
   "outputs": [],
   "source": [
    "# callbacks\n",
    "def scheduler(epoch, lr):\n",
    "    if epoch < LR_CALLBACK_EPOCH:\n",
    "        return np.round(lr,8)\n",
    "    else:\n",
    "        if(epoch % 2 == 0):\n",
    "            return lr/2.\n",
    "        else:\n",
    "            return lr\n",
    "\n",
    "lr_callback = tf.keras.callbacks.LearningRateScheduler(scheduler, verbose=1)    \n",
    "    \n",
    "es_callback = tf.keras.callbacks.EarlyStopping(\n",
    "    monitor='val_sparse_categorical_accuracy', \n",
    "    mode='max',\n",
    "    patience=settings['pretrain_patience'], \n",
    "    restore_best_weights=True, \n",
    "    verbose=1\n",
    ")\n",
    "\n",
    "callbacks_list = [\n",
    "#     lr_callback,\n",
    "    es_callback,\n",
    "]            \n",
    "\n",
    "# metrics\n",
    "metrics_list = [\n",
    "    tf.keras.metrics.SparseCategoricalAccuracy(),\n",
    "]"
   ]
  },
  {
   "cell_type": "markdown",
   "id": "44fa63e6-adc0-40b0-92a1-16dd4cc806f6",
   "metadata": {},
   "source": [
    "## Instantiate the model"
   ]
  },
  {
   "cell_type": "code",
   "execution_count": 11,
   "id": "c87cc2fb-5cf9-4029-824c-c24262ccb729",
   "metadata": {},
   "outputs": [
    {
     "name": "stdout",
     "output_type": "stream",
     "text": [
      "3\n",
      "[16, 16, 16]\n",
      "(17, 105, 3)\n",
      "9\n",
      "[10, 10, 10, 10, 10, 10, 10, 10, 10]\n",
      "28\n",
      "False\n",
      "0.0\n",
      "0.0\n",
      "0.0\n",
      "-0.5\n",
      "True\n",
      "32\n",
      "64\n",
      "0.0\n",
      "0.0\n",
      "0.4\n",
      "0.2\n",
      "False\n",
      "Model: \"full_model\"\n",
      "_________________________________________________________________\n",
      " Layer (type)                Output Shape              Param #   \n",
      "=================================================================\n",
      " inputs (InputLayer)         [(None, 17, 105, 3)]      0         \n",
      "                                                                 \n",
      " conv_0 (Conv2D)             (None, 17, 105, 16)       448       \n",
      "                                                                 \n",
      " dropout (Dropout)           (None, 17, 105, 16)       0         \n",
      "                                                                 \n",
      " maxpooling_0 (AveragePoolin  (None, 8, 52, 16)        0         \n",
      " g2D)                                                            \n",
      "                                                                 \n",
      " conv_1 (Conv2D)             (None, 8, 52, 16)         2320      \n",
      "                                                                 \n",
      " dropout_1 (Dropout)         (None, 8, 52, 16)         0         \n",
      "                                                                 \n",
      " maxpooling_1 (AveragePoolin  (None, 4, 26, 16)        0         \n",
      " g2D)                                                            \n",
      "                                                                 \n",
      " conv_2 (Conv2D)             (None, 4, 26, 16)         2320      \n",
      "                                                                 \n",
      " dropout_2 (Dropout)         (None, 4, 26, 16)         0         \n",
      "                                                                 \n",
      " maxpooling_2 (AveragePoolin  (None, 2, 13, 16)        0         \n",
      " g2D)                                                            \n",
      "                                                                 \n",
      " flatten (Flatten)           (None, 416)               0         \n",
      "                                                                 \n",
      " dropout_3 (Dropout)         (None, 416)               0         \n",
      "                                                                 \n",
      " dense (Dense)               (None, 32)                13344     \n",
      "                                                                 \n",
      " dense_1 (Dense)             (None, 9)                 297       \n",
      "                                                                 \n",
      " softmax_output (Softmax)    (None, 9)                 0         \n",
      "                                                                 \n",
      "=================================================================\n",
      "Total params: 18,729\n",
      "Trainable params: 18,729\n",
      "Non-trainable params: 0\n",
      "_________________________________________________________________\n"
     ]
    }
   ],
   "source": [
    "__ = imp.reload(network)\n",
    "tf.keras.backend.clear_session()\n",
    "\n",
    "model = network.build_model(\n",
    "    cnn_only=True,    \n",
    "    nlayers=NLAYERS,\n",
    "    nfilters=NFILTERS,\n",
    "    input_shape= X_train.shape[1:],\n",
    "    output_shape=NCLASSES,\n",
    "    prototypes_per_class=PROTOTYPES_PER_CLASS,\n",
    "    network_seed=RANDOM_SEED,\n",
    "    double_conv=DOUBLE_CONV,\n",
    "    dense_nodes=settings['dense_nodes'],\n",
    "    prototype_channels=settings['prototype_channels'],\n",
    "    kernel_l1_coeff=settings['kernel_l1_coeff'],\n",
    "    kernel_l2_coeff=settings['kernel_l2_coeff'],\n",
    "    drop_rate=settings['drop_rate'],\n",
    "    drop_rate_final=settings['drop_rate_final'],    \n",
    "    coeff_cluster=0.0,#settings['coeff_cluster'],\n",
    "    coeff_separation=0.0,#settings['coeff_separation'],\n",
    "    coeff_l1=0.0,#settings['coeff_l1'],    \n",
    ")\n",
    "model.summary()"
   ]
  },
  {
   "cell_type": "code",
   "execution_count": 12,
   "id": "eb9e63b9-736b-4e58-a316-69cdcd28bdf3",
   "metadata": {},
   "outputs": [
    {
     "name": "stderr",
     "output_type": "stream",
     "text": [
      "ic| len(np.where(y_train==0)[0])/len(y_train): 0.14429965415019763\n"
     ]
    }
   ],
   "source": [
    "__ = ic(len(np.where(y_train==0)[0])/len(y_train))"
   ]
  },
  {
   "cell_type": "code",
   "execution_count": 13,
   "id": "1751161e-7ed2-4024-8a5e-1ecb8791bcc3",
   "metadata": {},
   "outputs": [
    {
     "name": "stdout",
     "output_type": "stream",
     "text": [
      "learning rate = 0.00017548\n"
     ]
    },
    {
     "name": "stderr",
     "output_type": "stream",
     "text": [
      "2022-04-15 19:12:47.707872: W tensorflow/core/platform/profile_utils/cpu_utils.cc:128] Failed to get CPU frequency: 0 Hz\n"
     ]
    },
    {
     "name": "stdout",
     "output_type": "stream",
     "text": [
      "Epoch 1/100\n",
      "1012/1012 [==============================] - 14s 14ms/step - loss: 1.4840 - sparse_categorical_accuracy: 0.4437 - val_loss: 0.8259 - val_sparse_categorical_accuracy: 0.6743\n",
      "Epoch 2/100\n",
      "1012/1012 [==============================] - 14s 14ms/step - loss: 0.8937 - sparse_categorical_accuracy: 0.6449 - val_loss: 0.6674 - val_sparse_categorical_accuracy: 0.7348\n",
      "Epoch 3/100\n",
      "1012/1012 [==============================] - 15s 15ms/step - loss: 0.7761 - sparse_categorical_accuracy: 0.6891 - val_loss: 0.6001 - val_sparse_categorical_accuracy: 0.7610\n",
      "Epoch 4/100\n",
      "1012/1012 [==============================] - 15s 15ms/step - loss: 0.7147 - sparse_categorical_accuracy: 0.7132 - val_loss: 0.5587 - val_sparse_categorical_accuracy: 0.7784\n",
      "Epoch 5/100\n",
      "1012/1012 [==============================] - 16s 16ms/step - loss: 0.6737 - sparse_categorical_accuracy: 0.7269 - val_loss: 0.5244 - val_sparse_categorical_accuracy: 0.7920\n",
      "Epoch 6/100\n",
      "1012/1012 [==============================] - 15s 15ms/step - loss: 0.6466 - sparse_categorical_accuracy: 0.7383 - val_loss: 0.5152 - val_sparse_categorical_accuracy: 0.7924\n",
      "Epoch 7/100\n",
      "1012/1012 [==============================] - 15s 15ms/step - loss: 0.6285 - sparse_categorical_accuracy: 0.7452 - val_loss: 0.5104 - val_sparse_categorical_accuracy: 0.7915\n",
      "Epoch 8/100\n",
      "1012/1012 [==============================] - 15s 15ms/step - loss: 0.6147 - sparse_categorical_accuracy: 0.7508 - val_loss: 0.5035 - val_sparse_categorical_accuracy: 0.7952\n",
      "Epoch 9/100\n",
      "1012/1012 [==============================] - 16s 16ms/step - loss: 0.6042 - sparse_categorical_accuracy: 0.7576 - val_loss: 0.4939 - val_sparse_categorical_accuracy: 0.7970\n",
      "Epoch 10/100\n",
      "1012/1012 [==============================] - 15s 14ms/step - loss: 0.5994 - sparse_categorical_accuracy: 0.7543 - val_loss: 0.4911 - val_sparse_categorical_accuracy: 0.7992\n",
      "Epoch 11/100\n",
      "1012/1012 [==============================] - 15s 15ms/step - loss: 0.5886 - sparse_categorical_accuracy: 0.7614 - val_loss: 0.4872 - val_sparse_categorical_accuracy: 0.7955\n",
      "Epoch 12/100\n",
      "1012/1012 [==============================] - 16s 16ms/step - loss: 0.5818 - sparse_categorical_accuracy: 0.7642 - val_loss: 0.4961 - val_sparse_categorical_accuracy: 0.7963\n",
      "Epoch 13/100\n",
      "1012/1012 [==============================] - 16s 16ms/step - loss: 0.5757 - sparse_categorical_accuracy: 0.7646 - val_loss: 0.4850 - val_sparse_categorical_accuracy: 0.7992\n",
      "Epoch 14/100\n",
      "1012/1012 [==============================] - 16s 16ms/step - loss: 0.5814 - sparse_categorical_accuracy: 0.7630 - val_loss: 0.4826 - val_sparse_categorical_accuracy: 0.8006\n",
      "Epoch 15/100\n",
      "1012/1012 [==============================] - 16s 16ms/step - loss: 0.5709 - sparse_categorical_accuracy: 0.7672 - val_loss: 0.4763 - val_sparse_categorical_accuracy: 0.8059\n",
      "Epoch 16/100\n",
      "1012/1012 [==============================] - 16s 16ms/step - loss: 0.5669 - sparse_categorical_accuracy: 0.7688 - val_loss: 0.4705 - val_sparse_categorical_accuracy: 0.8049\n",
      "Epoch 17/100\n",
      "1012/1012 [==============================] - 16s 16ms/step - loss: 0.5576 - sparse_categorical_accuracy: 0.7739 - val_loss: 0.4741 - val_sparse_categorical_accuracy: 0.8031\n",
      "Epoch 18/100\n",
      "1012/1012 [==============================] - 16s 15ms/step - loss: 0.5591 - sparse_categorical_accuracy: 0.7702 - val_loss: 0.4864 - val_sparse_categorical_accuracy: 0.7991\n",
      "Epoch 19/100\n",
      "1012/1012 [==============================] - 16s 16ms/step - loss: 0.5565 - sparse_categorical_accuracy: 0.7743 - val_loss: 0.4676 - val_sparse_categorical_accuracy: 0.8064\n",
      "Epoch 20/100\n",
      "1012/1012 [==============================] - 17s 17ms/step - loss: 0.5499 - sparse_categorical_accuracy: 0.7754 - val_loss: 0.4671 - val_sparse_categorical_accuracy: 0.8041\n",
      "Epoch 21/100\n",
      "1012/1012 [==============================] - 16s 16ms/step - loss: 0.5481 - sparse_categorical_accuracy: 0.7790 - val_loss: 0.4661 - val_sparse_categorical_accuracy: 0.8032\n",
      "Epoch 22/100\n",
      "1012/1012 [==============================] - 16s 16ms/step - loss: 0.5466 - sparse_categorical_accuracy: 0.7770 - val_loss: 0.4741 - val_sparse_categorical_accuracy: 0.8042\n",
      "Epoch 23/100\n",
      "1012/1012 [==============================] - 16s 16ms/step - loss: 0.5498 - sparse_categorical_accuracy: 0.7745 - val_loss: 0.4632 - val_sparse_categorical_accuracy: 0.8069\n",
      "Epoch 24/100\n",
      "1012/1012 [==============================] - 17s 17ms/step - loss: 0.5412 - sparse_categorical_accuracy: 0.7802 - val_loss: 0.4688 - val_sparse_categorical_accuracy: 0.8060\n",
      "Epoch 25/100\n",
      "1012/1012 [==============================] - 17s 16ms/step - loss: 0.5419 - sparse_categorical_accuracy: 0.7810 - val_loss: 0.4644 - val_sparse_categorical_accuracy: 0.8067\n",
      "Epoch 26/100\n",
      "1012/1012 [==============================] - 17s 17ms/step - loss: 0.5397 - sparse_categorical_accuracy: 0.7815 - val_loss: 0.4629 - val_sparse_categorical_accuracy: 0.8074\n",
      "Epoch 27/100\n",
      "1012/1012 [==============================] - 17s 17ms/step - loss: 0.5391 - sparse_categorical_accuracy: 0.7796 - val_loss: 0.4619 - val_sparse_categorical_accuracy: 0.8095\n",
      "Epoch 28/100\n",
      "1012/1012 [==============================] - 16s 16ms/step - loss: 0.5320 - sparse_categorical_accuracy: 0.7829 - val_loss: 0.4694 - val_sparse_categorical_accuracy: 0.8023\n",
      "Epoch 29/100\n",
      "1012/1012 [==============================] - 17s 17ms/step - loss: 0.5309 - sparse_categorical_accuracy: 0.7829 - val_loss: 0.4598 - val_sparse_categorical_accuracy: 0.8103\n",
      "Epoch 30/100\n",
      "1012/1012 [==============================] - 16s 16ms/step - loss: 0.5313 - sparse_categorical_accuracy: 0.7831 - val_loss: 0.4594 - val_sparse_categorical_accuracy: 0.8087\n",
      "Epoch 31/100\n",
      "1012/1012 [==============================] - 17s 17ms/step - loss: 0.5362 - sparse_categorical_accuracy: 0.7812 - val_loss: 0.4576 - val_sparse_categorical_accuracy: 0.8098\n",
      "Epoch 32/100\n",
      "1012/1012 [==============================] - 16s 16ms/step - loss: 0.5303 - sparse_categorical_accuracy: 0.7844 - val_loss: 0.4540 - val_sparse_categorical_accuracy: 0.8128\n",
      "Epoch 33/100\n",
      "1012/1012 [==============================] - 16s 16ms/step - loss: 0.5298 - sparse_categorical_accuracy: 0.7813 - val_loss: 0.4515 - val_sparse_categorical_accuracy: 0.8129\n",
      "Epoch 34/100\n",
      "1012/1012 [==============================] - 16s 16ms/step - loss: 0.5287 - sparse_categorical_accuracy: 0.7858 - val_loss: 0.4513 - val_sparse_categorical_accuracy: 0.8126\n",
      "Epoch 35/100\n",
      "1012/1012 [==============================] - 16s 16ms/step - loss: 0.5220 - sparse_categorical_accuracy: 0.7872 - val_loss: 0.4521 - val_sparse_categorical_accuracy: 0.8093\n",
      "Epoch 36/100\n",
      "1012/1012 [==============================] - 17s 16ms/step - loss: 0.5219 - sparse_categorical_accuracy: 0.7854 - val_loss: 0.4502 - val_sparse_categorical_accuracy: 0.8072\n",
      "Epoch 37/100\n",
      "1012/1012 [==============================] - 19s 19ms/step - loss: 0.5197 - sparse_categorical_accuracy: 0.7878 - val_loss: 0.4473 - val_sparse_categorical_accuracy: 0.8135\n",
      "Epoch 38/100\n",
      "1012/1012 [==============================] - 17s 17ms/step - loss: 0.5197 - sparse_categorical_accuracy: 0.7845 - val_loss: 0.4490 - val_sparse_categorical_accuracy: 0.8126\n",
      "Epoch 39/100\n",
      "1012/1012 [==============================] - 16s 16ms/step - loss: 0.5142 - sparse_categorical_accuracy: 0.7898 - val_loss: 0.4463 - val_sparse_categorical_accuracy: 0.8131\n",
      "Epoch 40/100\n",
      "1012/1012 [==============================] - 16s 16ms/step - loss: 0.5132 - sparse_categorical_accuracy: 0.7908 - val_loss: 0.4453 - val_sparse_categorical_accuracy: 0.8133\n",
      "Epoch 41/100\n",
      "1012/1012 [==============================] - 17s 16ms/step - loss: 0.5154 - sparse_categorical_accuracy: 0.7885 - val_loss: 0.4450 - val_sparse_categorical_accuracy: 0.8128\n",
      "Epoch 42/100\n",
      "1009/1012 [============================>.] - ETA: 0s - loss: 0.5098 - sparse_categorical_accuracy: 0.7933Restoring model weights from the end of the best epoch: 37.\n",
      "1012/1012 [==============================] - 17s 17ms/step - loss: 0.5095 - sparse_categorical_accuracy: 0.7934 - val_loss: 0.4437 - val_sparse_categorical_accuracy: 0.8113\n",
      "Epoch 00042: early stopping\n",
      "saving model and weights to ./saved_models/mjo_seed28/pretrained_model_mjo_seed28\n"
     ]
    },
    {
     "name": "stderr",
     "output_type": "stream",
     "text": [
      "2022-04-15 19:24:03.411169: W tensorflow/python/util/util.cc:368] Sets are not currently considered sequences, but this may change in the future, so consider avoiding using them.\n"
     ]
    },
    {
     "name": "stdout",
     "output_type": "stream",
     "text": [
      "INFO:tensorflow:Assets written to: ./saved_models/mjo_seed28/pretrained_model_mjo_seed28/assets\n"
     ]
    }
   ],
   "source": [
    "# compile the model\n",
    "print('learning rate = ' + str(LR_INIT))\n",
    "\n",
    "model.compile(\n",
    "    optimizer=tf.keras.optimizers.Adam(\n",
    "        learning_rate=LR_INIT,\n",
    "#         beta_1=0.9, beta_2=0.999, epsilon=1e-07,\n",
    "    ),\n",
    "    loss = tf.keras.losses.SparseCategoricalCrossentropy(from_logits=False),\n",
    "    metrics = metrics_list,\n",
    ")\n",
    "\n",
    "# train the model\n",
    "tf.random.set_seed(RANDOM_SEED)\n",
    "history = model.fit(\n",
    "    X_train,\n",
    "    y_train,\n",
    "    validation_data=(X_val,y_val),\n",
    "    batch_size=BATCH_SIZE,\n",
    "    epochs=NEPOCHS,\n",
    "    shuffle=True,\n",
    "    verbose=1,\n",
    "    callbacks=callbacks_list\n",
    ")\n",
    "\n",
    "\n",
    "# save the model\n",
    "model_filename = model_dir + 'pretrained_model_' + EXP_NAME\n",
    "common_functions.save_model(model, model_filename)"
   ]
  },
  {
   "cell_type": "code",
   "execution_count": 14,
   "id": "ef4f56cb-173c-4776-a1bf-fc3042b169d6",
   "metadata": {},
   "outputs": [
    {
     "data": {
      "image/png": "[encoded data removed]",
      "text/plain": [
       "<Figure size 1500x450 with 2 Axes>"
      ]
     },
     "metadata": {},
     "output_type": "display_data"
    }
   ],
   "source": [
    "#-------------------------------\n",
    "# Display the results\n",
    "best_epoch = np.argmin(history.history['val_loss'])\n",
    "\n",
    "#---- plot loss and errors ----\n",
    "trainColor = (117/255., 112/255., 179/255., 1.)\n",
    "valColor = (231/255., 41/255., 138/255., 1.)\n",
    "FS = 7\n",
    "MS = 4\n",
    "\n",
    "plt.subplots(1,2,figsize=(10, 3))\n",
    "\n",
    "plt.subplot(1,2,1)\n",
    "plt.plot(history.history['loss'], 'o-', color=trainColor, label='training loss', markersize=MS)\n",
    "plt.plot(history.history['val_loss'], 'o-', color=valColor, label='validation loss', markersize=MS)\n",
    "# plt.axvline(x=best_epoch, linestyle = '--', color='tab:gray')\n",
    "plt.title(\"Loss Function\")\n",
    "plt.ylabel('average loss')\n",
    "plt.xlabel('epoch')\n",
    "plt.grid(False)\n",
    "plt.legend(frameon=True, fontsize=FS)\n",
    "plt.xlim(-.1, 30+1)\n",
    "\n",
    "plt.subplot(1,2,2)\n",
    "plt.plot(history.history['sparse_categorical_accuracy'], 'o-', color=trainColor, label='training loss', markersize=MS)\n",
    "plt.plot(history.history['val_sparse_categorical_accuracy'], 'o-', color=valColor, label='validation loss', markersize=MS)\n",
    "# plt.axvline(x=best_epoch, linestyle = '--', color='tab:gray')\n",
    "plt.title(\"Accuracy\")\n",
    "plt.ylabel('accuracy')\n",
    "plt.xlabel('epoch')\n",
    "plt.grid(False)\n",
    "plt.legend(frameon=True, fontsize=FS)\n",
    "plt.xlim(-.1, 30+1)\n",
    "\n",
    "plt.tight_layout()\n",
    "plt.savefig(model_diagnostics_dir + 'loss_history_pretrained_model_' + EXP_NAME + '.png', dpi=dpiFig)\n",
    "plt.show()"
   ]
  },
  {
   "cell_type": "code",
   "execution_count": null,
   "id": "d68de34f-6801-42b2-a351-e7ac734ecd68",
   "metadata": {},
   "outputs": [],
   "source": []
  }
 ],
 "metadata": {
  "kernelspec": {
   "display_name": "Python 3 (ipykernel)",
   "language": "python",
   "name": "python3"
  },
  "language_info": {
   "codemirror_mode": {
    "name": "ipython",
    "version": 3
   },
   "file_extension": ".py",
   "mimetype": "text/x-python",
   "name": "python",
   "nbconvert_exporter": "python",
   "pygments_lexer": "ipython3",
   "version": "3.9.10"
  }
 },
 "nbformat": 4,
 "nbformat_minor": 5
}
